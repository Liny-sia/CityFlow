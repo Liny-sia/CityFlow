{
 "cells": [
  {
   "cell_type": "code",
   "execution_count": 2,
   "id": "initial_id",
   "metadata": {
    "jupyter": {
     "is_executing": true
    }
   },
   "outputs": [],
   "source": [
    "import cityflow"
   ]
  },
  {
   "cell_type": "code",
   "execution_count": 26,
   "id": "8e405d56-f5d8-4a6f-90e1-0fcb2dabdc3a",
   "metadata": {},
   "outputs": [
    {
     "name": "stdout",
     "output_type": "stream",
     "text": [
      "Step 0: avg_time=1.00, vehicles=12\n",
      "Step 1: avg_time=2.00, vehicles=12\n",
      "Step 2: avg_time=3.00, vehicles=12\n",
      "Step 3: avg_time=4.00, vehicles=12\n",
      "Step 4: avg_time=5.00, vehicles=12\n",
      "Step 5: avg_time=3.50, vehicles=24\n",
      "Step 6: avg_time=4.50, vehicles=24\n",
      "Step 7: avg_time=5.50, vehicles=24\n",
      "Step 8: avg_time=6.50, vehicles=24\n",
      "Step 9: avg_time=7.50, vehicles=24\n",
      "Step 10: avg_time=6.00, vehicles=36\n",
      "Step 11: avg_time=7.00, vehicles=36\n",
      "Step 12: avg_time=8.00, vehicles=36\n",
      "Step 13: avg_time=9.00, vehicles=36\n",
      "Step 14: avg_time=10.00, vehicles=36\n",
      "Step 15: avg_time=8.50, vehicles=48\n",
      "Step 16: avg_time=9.50, vehicles=48\n",
      "Step 17: avg_time=10.50, vehicles=48\n",
      "Step 18: avg_time=11.50, vehicles=48\n",
      "Step 19: avg_time=12.50, vehicles=48\n",
      "Step 20: avg_time=11.00, vehicles=60\n",
      "Step 21: avg_time=12.00, vehicles=60\n",
      "Step 22: avg_time=13.00, vehicles=60\n",
      "Step 23: avg_time=14.00, vehicles=60\n",
      "Step 24: avg_time=15.00, vehicles=60\n",
      "Step 25: avg_time=13.50, vehicles=72\n",
      "Step 26: avg_time=14.50, vehicles=72\n",
      "Step 27: avg_time=15.50, vehicles=72\n",
      "Step 28: avg_time=16.50, vehicles=72\n",
      "Step 29: avg_time=17.50, vehicles=72\n",
      "Step 30: avg_time=16.00, vehicles=84\n",
      "Step 31: avg_time=17.00, vehicles=84\n",
      "Step 32: avg_time=18.00, vehicles=84\n",
      "Step 33: avg_time=19.00, vehicles=84\n",
      "Step 34: avg_time=20.00, vehicles=84\n",
      "Step 35: avg_time=18.50, vehicles=96\n",
      "Step 36: avg_time=19.50, vehicles=96\n",
      "Step 37: avg_time=20.50, vehicles=96\n",
      "Step 38: avg_time=21.50, vehicles=96\n",
      "Step 39: avg_time=22.50, vehicles=96\n",
      "Step 40: avg_time=20.95, vehicles=103\n",
      "Step 41: avg_time=21.90, vehicles=102\n",
      "Step 42: avg_time=22.84, vehicles=102\n",
      "Step 43: avg_time=23.79, vehicles=102\n",
      "Step 44: avg_time=24.73, vehicles=102\n",
      "Step 45: avg_time=23.18, vehicles=111\n",
      "Step 46: avg_time=24.08, vehicles=108\n",
      "Step 47: avg_time=24.98, vehicles=108\n",
      "Step 48: avg_time=25.88, vehicles=108\n",
      "Step 49: avg_time=26.78, vehicles=108\n",
      "Step 50: avg_time=25.23, vehicles=117\n",
      "Step 51: avg_time=26.10, vehicles=114\n",
      "Step 52: avg_time=26.96, vehicles=114\n",
      "Step 53: avg_time=27.83, vehicles=114\n",
      "Step 54: avg_time=28.69, vehicles=114\n",
      "Step 55: avg_time=27.17, vehicles=125\n",
      "Step 56: avg_time=28.01, vehicles=122\n",
      "Step 57: avg_time=28.85, vehicles=121\n",
      "Step 58: avg_time=29.67, vehicles=118\n",
      "Step 59: avg_time=30.49, vehicles=118\n",
      "Step 60: avg_time=28.96, vehicles=127\n",
      "Step 61: avg_time=29.76, vehicles=124\n",
      "Step 62: avg_time=30.54, vehicles=122\n",
      "Step 63: avg_time=31.32, vehicles=122\n",
      "Step 64: avg_time=32.09, vehicles=120\n",
      "Step 65: avg_time=30.58, vehicles=131\n",
      "Step 66: avg_time=31.34, vehicles=128\n",
      "Step 67: avg_time=32.10, vehicles=127\n",
      "Step 68: avg_time=32.85, vehicles=126\n",
      "Step 69: avg_time=33.60, vehicles=126\n",
      "Step 70: avg_time=32.11, vehicles=135\n",
      "Step 71: avg_time=32.85, vehicles=134\n",
      "Step 72: avg_time=33.59, vehicles=133\n",
      "Step 73: avg_time=34.32, vehicles=132\n",
      "Step 74: avg_time=35.06, vehicles=132\n",
      "Step 75: avg_time=33.61, vehicles=143\n",
      "Step 76: avg_time=34.34, vehicles=140\n",
      "Step 77: avg_time=35.06, vehicles=139\n",
      "Step 78: avg_time=35.78, vehicles=138\n",
      "Step 79: avg_time=36.50, vehicles=138\n",
      "Step 80: avg_time=35.07, vehicles=146\n",
      "Step 81: avg_time=35.78, vehicles=146\n",
      "Step 82: avg_time=36.50, vehicles=146\n",
      "Step 83: avg_time=37.21, vehicles=144\n",
      "Step 84: avg_time=37.91, vehicles=144\n",
      "Step 85: avg_time=36.52, vehicles=155\n",
      "Step 86: avg_time=37.23, vehicles=152\n",
      "Step 87: avg_time=37.93, vehicles=152\n",
      "Step 88: avg_time=38.63, vehicles=152\n",
      "Step 89: avg_time=39.34, vehicles=152\n",
      "Step 90: avg_time=37.97, vehicles=160\n",
      "Step 91: avg_time=38.67, vehicles=160\n",
      "Step 92: avg_time=39.37, vehicles=160\n",
      "Step 93: avg_time=40.07, vehicles=160\n",
      "Step 94: avg_time=40.75, vehicles=154\n",
      "Step 95: avg_time=39.38, vehicles=160\n",
      "Step 96: avg_time=40.03, vehicles=156\n",
      "Step 97: avg_time=40.66, vehicles=151\n",
      "Step 98: avg_time=41.29, vehicles=151\n",
      "Step 99: avg_time=41.90, vehicles=147\n",
      "Step 100: avg_time=40.53, vehicles=158\n",
      "Step 101: avg_time=41.13, vehicles=151\n",
      "Step 102: avg_time=41.73, vehicles=151\n",
      "Step 103: avg_time=42.33, vehicles=150\n",
      "Step 104: avg_time=42.92, vehicles=150\n",
      "Step 105: avg_time=41.57, vehicles=159\n",
      "Step 106: avg_time=42.16, vehicles=156\n",
      "Step 107: avg_time=42.75, vehicles=156\n",
      "Step 108: avg_time=43.34, vehicles=156\n",
      "Step 109: avg_time=43.94, vehicles=156\n",
      "Step 110: avg_time=42.62, vehicles=164\n",
      "Step 111: avg_time=43.21, vehicles=162\n",
      "Step 112: avg_time=43.79, vehicles=162\n",
      "Step 113: avg_time=44.38, vehicles=162\n",
      "Step 114: avg_time=44.97, vehicles=162\n",
      "Step 115: avg_time=43.68, vehicles=169\n",
      "Step 116: avg_time=44.26, vehicles=168\n",
      "Step 117: avg_time=44.85, vehicles=168\n",
      "Step 118: avg_time=45.43, vehicles=168\n",
      "Step 119: avg_time=46.01, vehicles=168\n",
      "Step 120: avg_time=44.76, vehicles=175\n",
      "Step 121: avg_time=45.34, vehicles=174\n",
      "Step 122: avg_time=45.92, vehicles=174\n",
      "Step 123: avg_time=46.50, vehicles=174\n",
      "Step 124: avg_time=47.08, vehicles=174\n",
      "Step 125: avg_time=45.86, vehicles=184\n",
      "Step 126: avg_time=46.44, vehicles=182\n",
      "Step 127: avg_time=47.02, vehicles=182\n",
      "Step 128: avg_time=47.59, vehicles=178\n",
      "Step 129: avg_time=48.16, vehicles=178\n",
      "Step 130: avg_time=46.95, vehicles=185\n",
      "Step 131: avg_time=47.51, vehicles=182\n",
      "Step 132: avg_time=48.06, vehicles=178\n",
      "Step 133: avg_time=48.61, vehicles=178\n",
      "Step 134: avg_time=49.15, vehicles=174\n",
      "Step 135: avg_time=47.94, vehicles=183\n",
      "Step 136: avg_time=48.47, vehicles=180\n",
      "Step 137: avg_time=49.00, vehicles=178\n",
      "Step 138: avg_time=49.53, vehicles=178\n",
      "Step 139: avg_time=50.05, vehicles=174\n",
      "Step 140: avg_time=48.85, vehicles=183\n",
      "Step 141: avg_time=49.37, vehicles=180\n",
      "Step 142: avg_time=49.88, vehicles=178\n",
      "Step 143: avg_time=50.39, vehicles=177\n",
      "Step 144: avg_time=50.89, vehicles=174\n",
      "Step 145: avg_time=49.70, vehicles=184\n",
      "Step 146: avg_time=50.21, vehicles=181\n",
      "Step 147: avg_time=50.70, vehicles=179\n",
      "Step 148: avg_time=51.19, vehicles=177\n",
      "Step 149: avg_time=51.68, vehicles=175\n",
      "Step 150: avg_time=50.51, vehicles=183\n",
      "Step 151: avg_time=50.99, vehicles=182\n",
      "Step 152: avg_time=51.48, vehicles=179\n",
      "Step 153: avg_time=51.96, vehicles=179\n",
      "Step 154: avg_time=52.43, vehicles=177\n",
      "Step 155: avg_time=51.28, vehicles=188\n",
      "Step 156: avg_time=51.76, vehicles=184\n",
      "Step 157: avg_time=52.24, vehicles=184\n",
      "Step 158: avg_time=52.72, vehicles=184\n",
      "Step 159: avg_time=53.20, vehicles=184\n",
      "Step 160: avg_time=52.08, vehicles=195\n",
      "Step 161: avg_time=52.57, vehicles=192\n",
      "Step 162: avg_time=53.05, vehicles=192\n",
      "Step 163: avg_time=53.54, vehicles=192\n",
      "Step 164: avg_time=54.01, vehicles=186\n",
      "Step 165: avg_time=52.88, vehicles=190\n",
      "Step 166: avg_time=53.34, vehicles=188\n",
      "Step 167: avg_time=53.79, vehicles=182\n",
      "Step 168: avg_time=54.24, vehicles=182\n",
      "Step 169: avg_time=54.67, vehicles=176\n",
      "Step 170: avg_time=53.55, vehicles=186\n",
      "Step 171: avg_time=53.97, vehicles=178\n",
      "Step 172: avg_time=54.40, vehicles=178\n",
      "Step 173: avg_time=54.81, vehicles=173\n",
      "Step 174: avg_time=55.22, vehicles=173\n",
      "Step 175: avg_time=54.10, vehicles=180\n",
      "Step 176: avg_time=54.51, vehicles=177\n",
      "Step 177: avg_time=54.91, vehicles=174\n",
      "Step 178: avg_time=55.32, vehicles=174\n",
      "Step 179: avg_time=55.72, vehicles=172\n",
      "Step 180: avg_time=54.62, vehicles=182\n",
      "Step 181: avg_time=55.02, vehicles=177\n",
      "Step 182: avg_time=55.42, vehicles=177\n",
      "Step 183: avg_time=55.81, vehicles=175\n",
      "Step 184: avg_time=56.20, vehicles=175\n",
      "Step 185: avg_time=55.13, vehicles=184\n",
      "Step 186: avg_time=55.53, vehicles=181\n",
      "Step 187: avg_time=55.92, vehicles=180\n",
      "Step 188: avg_time=56.32, vehicles=180\n",
      "Step 189: avg_time=56.71, vehicles=179\n",
      "Step 190: avg_time=55.65, vehicles=186\n",
      "Step 191: avg_time=56.04, vehicles=184\n",
      "Step 192: avg_time=56.44, vehicles=184\n",
      "Step 193: avg_time=56.83, vehicles=184\n",
      "Step 194: avg_time=57.22, vehicles=184\n",
      "Step 195: avg_time=56.20, vehicles=194\n",
      "Step 196: avg_time=56.60, vehicles=192\n",
      "Step 197: avg_time=57.00, vehicles=192\n",
      "Step 198: avg_time=57.39, vehicles=188\n",
      "Step 199: avg_time=57.78, vehicles=188\n",
      "Step 200: avg_time=56.77, vehicles=194\n",
      "Step 201: avg_time=57.16, vehicles=192\n",
      "Step 202: avg_time=57.54, vehicles=188\n",
      "Step 203: avg_time=57.92, vehicles=188\n",
      "Step 204: avg_time=58.29, vehicles=184\n",
      "Step 205: avg_time=57.29, vehicles=194\n",
      "Step 206: avg_time=57.67, vehicles=190\n",
      "Step 207: avg_time=58.04, vehicles=188\n",
      "Step 208: avg_time=58.41, vehicles=188\n",
      "Step 209: avg_time=58.78, vehicles=184\n",
      "Step 210: avg_time=57.79, vehicles=194\n",
      "Step 211: avg_time=58.16, vehicles=190\n",
      "Step 212: avg_time=58.52, vehicles=188\n",
      "Step 213: avg_time=58.88, vehicles=186\n",
      "Step 214: avg_time=59.24, vehicles=184\n",
      "Step 215: avg_time=58.26, vehicles=196\n",
      "Step 216: avg_time=58.62, vehicles=190\n",
      "Step 217: avg_time=58.98, vehicles=188\n",
      "Step 218: avg_time=59.33, vehicles=186\n",
      "Step 219: avg_time=59.68, vehicles=184\n",
      "Step 220: avg_time=58.71, vehicles=194\n",
      "Step 221: avg_time=59.06, vehicles=189\n",
      "Step 222: avg_time=59.41, vehicles=188\n",
      "Step 223: avg_time=59.76, vehicles=186\n",
      "Step 224: avg_time=60.10, vehicles=185\n",
      "Step 225: avg_time=59.14, vehicles=194\n",
      "Step 226: avg_time=59.49, vehicles=190\n",
      "Step 227: avg_time=59.83, vehicles=190\n",
      "Step 228: avg_time=60.18, vehicles=190\n",
      "Step 229: avg_time=60.52, vehicles=190\n",
      "Step 230: avg_time=59.59, vehicles=199\n",
      "Step 231: avg_time=59.94, vehicles=198\n",
      "Step 232: avg_time=60.29, vehicles=198\n",
      "Step 233: avg_time=60.64, vehicles=198\n",
      "Step 234: avg_time=60.98, vehicles=192\n",
      "Step 235: avg_time=60.05, vehicles=195\n",
      "Step 236: avg_time=60.38, vehicles=194\n",
      "Step 237: avg_time=60.71, vehicles=188\n",
      "Step 238: avg_time=61.04, vehicles=188\n",
      "Step 239: avg_time=61.35, vehicles=182\n",
      "Step 240: avg_time=60.43, vehicles=194\n",
      "Step 241: avg_time=60.74, vehicles=184\n",
      "Step 242: avg_time=61.06, vehicles=184\n",
      "Step 243: avg_time=61.36, vehicles=178\n",
      "Step 244: avg_time=61.66, vehicles=178\n",
      "Step 245: avg_time=60.73, vehicles=182\n",
      "Step 246: avg_time=61.03, vehicles=180\n",
      "Step 247: avg_time=61.32, vehicles=175\n",
      "Step 248: avg_time=61.62, vehicles=175\n",
      "Step 249: avg_time=61.90, vehicles=173\n",
      "Step 250: avg_time=60.98, vehicles=180\n",
      "Step 251: avg_time=61.27, vehicles=178\n",
      "Step 252: avg_time=61.57, vehicles=178\n",
      "Step 253: avg_time=61.86, vehicles=178\n",
      "Step 254: avg_time=62.15, vehicles=178\n",
      "Step 255: avg_time=61.25, vehicles=186\n",
      "Step 256: avg_time=61.54, vehicles=184\n",
      "Step 257: avg_time=61.84, vehicles=184\n",
      "Step 258: avg_time=62.13, vehicles=184\n",
      "Step 259: avg_time=62.43, vehicles=184\n",
      "Step 260: avg_time=61.55, vehicles=191\n",
      "Step 261: avg_time=61.85, vehicles=190\n",
      "Step 262: avg_time=62.15, vehicles=190\n",
      "Step 263: avg_time=62.45, vehicles=190\n",
      "Step 264: avg_time=62.75, vehicles=190\n",
      "Step 265: avg_time=61.89, vehicles=199\n",
      "Step 266: avg_time=62.20, vehicles=198\n",
      "Step 267: avg_time=62.50, vehicles=198\n",
      "Step 268: avg_time=62.80, vehicles=194\n",
      "Step 269: avg_time=63.10, vehicles=194\n",
      "Step 270: avg_time=62.26, vehicles=200\n",
      "Step 271: avg_time=62.56, vehicles=198\n",
      "Step 272: avg_time=62.85, vehicles=194\n",
      "Step 273: avg_time=63.15, vehicles=194\n",
      "Step 274: avg_time=63.43, vehicles=190\n",
      "Step 275: avg_time=62.60, vehicles=200\n",
      "Step 276: avg_time=62.89, vehicles=196\n",
      "Step 277: avg_time=63.18, vehicles=194\n",
      "Step 278: avg_time=63.47, vehicles=194\n",
      "Step 279: avg_time=63.75, vehicles=190\n",
      "Step 280: avg_time=62.93, vehicles=201\n",
      "Step 281: avg_time=63.21, vehicles=196\n",
      "Step 282: avg_time=63.50, vehicles=194\n",
      "Step 283: avg_time=63.78, vehicles=192\n",
      "Step 284: avg_time=64.05, vehicles=190\n",
      "Step 285: avg_time=63.24, vehicles=201\n",
      "Step 286: avg_time=63.52, vehicles=196\n",
      "Step 287: avg_time=63.80, vehicles=195\n",
      "Step 288: avg_time=64.08, vehicles=193\n",
      "Step 289: avg_time=64.35, vehicles=192\n",
      "Step 290: avg_time=63.55, vehicles=202\n",
      "Step 291: avg_time=63.83, vehicles=197\n",
      "Step 292: avg_time=64.10, vehicles=197\n",
      "Step 293: avg_time=64.38, vehicles=194\n",
      "Step 294: avg_time=64.65, vehicles=193\n",
      "Step 295: avg_time=63.85, vehicles=199\n",
      "Step 296: avg_time=64.12, vehicles=198\n",
      "Step 297: avg_time=64.40, vehicles=198\n",
      "Step 298: avg_time=64.67, vehicles=198\n",
      "Step 299: avg_time=64.95, vehicles=198\n",
      "Step 300: avg_time=64.17, vehicles=207\n",
      "Step 301: avg_time=64.45, vehicles=206\n",
      "Step 302: avg_time=64.73, vehicles=206\n",
      "Step 303: avg_time=65.01, vehicles=206\n",
      "Step 304: avg_time=65.29, vehicles=200\n",
      "Step 305: avg_time=64.51, vehicles=203\n",
      "Step 306: avg_time=64.78, vehicles=202\n",
      "Step 307: avg_time=65.04, vehicles=196\n",
      "Step 308: avg_time=65.30, vehicles=196\n",
      "Step 309: avg_time=65.56, vehicles=190\n",
      "Step 310: avg_time=64.78, vehicles=200\n",
      "Step 311: avg_time=65.04, vehicles=192\n",
      "Step 312: avg_time=65.29, vehicles=192\n",
      "Step 313: avg_time=65.54, vehicles=187\n",
      "Step 314: avg_time=65.79, vehicles=187\n",
      "Step 315: avg_time=65.01, vehicles=192\n",
      "Step 316: avg_time=65.26, vehicles=190\n",
      "Step 317: avg_time=65.50, vehicles=186\n",
      "Step 318: avg_time=65.74, vehicles=186\n",
      "Step 319: avg_time=65.98, vehicles=182\n",
      "Step 320: avg_time=65.21, vehicles=194\n",
      "Step 321: avg_time=65.45, vehicles=187\n",
      "Step 322: avg_time=65.69, vehicles=187\n",
      "Step 323: avg_time=65.93, vehicles=186\n",
      "Step 324: avg_time=66.17, vehicles=186\n",
      "Step 325: avg_time=65.41, vehicles=193\n",
      "Step 326: avg_time=65.65, vehicles=192\n",
      "Step 327: avg_time=65.89, vehicles=192\n",
      "Step 328: avg_time=66.14, vehicles=192\n",
      "Step 329: avg_time=66.38, vehicles=192\n",
      "Step 330: avg_time=65.64, vehicles=200\n",
      "Step 331: avg_time=65.88, vehicles=198\n",
      "Step 332: avg_time=66.13, vehicles=198\n",
      "Step 333: avg_time=66.37, vehicles=198\n",
      "Step 334: avg_time=66.62, vehicles=198\n",
      "Step 335: avg_time=65.90, vehicles=208\n",
      "Step 336: avg_time=66.15, vehicles=206\n",
      "Step 337: avg_time=66.40, vehicles=206\n",
      "Step 338: avg_time=66.65, vehicles=202\n",
      "Step 339: avg_time=66.90, vehicles=202\n",
      "Step 340: avg_time=66.18, vehicles=206\n",
      "Step 341: avg_time=66.42, vehicles=205\n",
      "Step 342: avg_time=66.67, vehicles=202\n",
      "Step 343: avg_time=66.91, vehicles=202\n",
      "Step 344: avg_time=67.15, vehicles=198\n",
      "Step 345: avg_time=66.44, vehicles=209\n",
      "Step 346: avg_time=66.68, vehicles=203\n",
      "Step 347: avg_time=66.92, vehicles=202\n",
      "Step 348: avg_time=67.16, vehicles=201\n",
      "Step 349: avg_time=67.40, vehicles=198\n",
      "Step 350: avg_time=66.69, vehicles=210\n",
      "Step 351: avg_time=66.93, vehicles=203\n",
      "Step 352: avg_time=67.17, vehicles=202\n",
      "Step 353: avg_time=67.40, vehicles=200\n",
      "Step 354: avg_time=67.64, vehicles=198\n",
      "Step 355: avg_time=66.94, vehicles=207\n",
      "Step 356: avg_time=67.17, vehicles=203\n",
      "Step 357: avg_time=67.41, vehicles=202\n",
      "Step 358: avg_time=67.64, vehicles=200\n",
      "Step 359: avg_time=67.87, vehicles=198\n",
      "Step 360: avg_time=67.17, vehicles=207\n",
      "Step 361: avg_time=67.40, vehicles=203\n",
      "Step 362: avg_time=67.63, vehicles=202\n",
      "Step 363: avg_time=67.86, vehicles=200\n",
      "Step 364: avg_time=68.09, vehicles=198\n",
      "Step 365: avg_time=67.40, vehicles=205\n",
      "Step 366: avg_time=67.63, vehicles=203\n",
      "Step 367: avg_time=67.86, vehicles=203\n",
      "Step 368: avg_time=68.09, vehicles=203\n",
      "Step 369: avg_time=68.31, vehicles=203\n",
      "Step 370: avg_time=67.64, vehicles=211\n",
      "Step 371: avg_time=67.87, vehicles=211\n",
      "Step 372: avg_time=68.11, vehicles=211\n",
      "Step 373: avg_time=68.34, vehicles=211\n",
      "Step 374: avg_time=68.57, vehicles=205\n",
      "Step 375: avg_time=67.90, vehicles=209\n",
      "Step 376: avg_time=68.12, vehicles=207\n",
      "Step 377: avg_time=68.34, vehicles=202\n",
      "Step 378: avg_time=68.57, vehicles=202\n",
      "Step 379: avg_time=68.78, vehicles=197\n",
      "Step 380: avg_time=68.11, vehicles=207\n",
      "Step 381: avg_time=68.33, vehicles=200\n",
      "Step 382: avg_time=68.55, vehicles=200\n",
      "Step 383: avg_time=68.76, vehicles=195\n",
      "Step 384: avg_time=68.97, vehicles=195\n",
      "Step 385: avg_time=68.30, vehicles=200\n",
      "Step 386: avg_time=68.51, vehicles=199\n",
      "Step 387: avg_time=68.72, vehicles=195\n",
      "Step 388: avg_time=68.93, vehicles=195\n",
      "Step 389: avg_time=69.13, vehicles=192\n",
      "Step 390: avg_time=68.47, vehicles=201\n",
      "Step 391: avg_time=68.68, vehicles=196\n",
      "Step 392: avg_time=68.88, vehicles=196\n",
      "Step 393: avg_time=69.09, vehicles=193\n",
      "Step 394: avg_time=69.29, vehicles=193\n",
      "Step 395: avg_time=68.63, vehicles=200\n",
      "Step 396: avg_time=68.84, vehicles=198\n",
      "Step 397: avg_time=69.04, vehicles=197\n",
      "Step 398: avg_time=69.25, vehicles=197\n",
      "Step 399: avg_time=69.45, vehicles=197\n",
      "Step 400: avg_time=68.81, vehicles=205\n",
      "Step 401: avg_time=69.02, vehicles=203\n",
      "Step 402: avg_time=69.22, vehicles=203\n",
      "Step 403: avg_time=69.43, vehicles=203\n",
      "Step 404: avg_time=69.64, vehicles=203\n",
      "Step 405: avg_time=69.01, vehicles=213\n",
      "Step 406: avg_time=69.22, vehicles=211\n",
      "Step 407: avg_time=69.44, vehicles=211\n",
      "Step 408: avg_time=69.65, vehicles=207\n",
      "Step 409: avg_time=69.86, vehicles=207\n",
      "Step 410: avg_time=69.23, vehicles=213\n",
      "Step 411: avg_time=69.44, vehicles=210\n",
      "Step 412: avg_time=69.65, vehicles=207\n",
      "Step 413: avg_time=69.86, vehicles=207\n",
      "Step 414: avg_time=70.06, vehicles=203\n",
      "Step 415: avg_time=69.44, vehicles=213\n",
      "Step 416: avg_time=69.65, vehicles=209\n",
      "Step 417: avg_time=69.85, vehicles=207\n",
      "Step 418: avg_time=70.06, vehicles=206\n",
      "Step 419: avg_time=70.26, vehicles=203\n",
      "Step 420: avg_time=69.64, vehicles=213\n",
      "Step 421: avg_time=69.84, vehicles=208\n",
      "Step 422: avg_time=70.05, vehicles=207\n",
      "Step 423: avg_time=70.25, vehicles=205\n",
      "Step 424: avg_time=70.45, vehicles=203\n",
      "Step 425: avg_time=69.83, vehicles=212\n",
      "Step 426: avg_time=70.03, vehicles=208\n",
      "Step 427: avg_time=70.23, vehicles=207\n",
      "Step 428: avg_time=70.43, vehicles=205\n",
      "Step 429: avg_time=70.63, vehicles=203\n",
      "Step 430: avg_time=70.02, vehicles=212\n",
      "Step 431: avg_time=70.22, vehicles=207\n",
      "Step 432: avg_time=70.42, vehicles=207\n",
      "Step 433: avg_time=70.61, vehicles=204\n",
      "Step 434: avg_time=70.81, vehicles=203\n",
      "Step 435: avg_time=70.20, vehicles=212\n",
      "Step 436: avg_time=70.40, vehicles=207\n",
      "Step 437: avg_time=70.60, vehicles=207\n",
      "Step 438: avg_time=70.79, vehicles=207\n",
      "Step 439: avg_time=70.99, vehicles=207\n",
      "Step 440: avg_time=70.39, vehicles=217\n",
      "Step 441: avg_time=70.59, vehicles=215\n",
      "Step 442: avg_time=70.80, vehicles=215\n",
      "Step 443: avg_time=71.00, vehicles=215\n",
      "Step 444: avg_time=71.19, vehicles=209\n",
      "Step 445: avg_time=70.60, vehicles=213\n",
      "Step 446: avg_time=70.79, vehicles=211\n",
      "Step 447: avg_time=70.98, vehicles=205\n",
      "Step 448: avg_time=71.17, vehicles=205\n",
      "Step 449: avg_time=71.36, vehicles=199\n",
      "Step 450: avg_time=70.77, vehicles=210\n",
      "Step 451: avg_time=70.95, vehicles=201\n",
      "Step 452: avg_time=71.13, vehicles=201\n",
      "Step 453: avg_time=71.31, vehicles=195\n",
      "Step 454: avg_time=71.49, vehicles=195\n",
      "Step 455: avg_time=70.90, vehicles=201\n",
      "Step 456: avg_time=71.08, vehicles=198\n",
      "Step 457: avg_time=71.25, vehicles=194\n",
      "Step 458: avg_time=71.43, vehicles=194\n",
      "Step 459: avg_time=71.60, vehicles=191\n",
      "Step 460: avg_time=71.01, vehicles=202\n",
      "Step 461: avg_time=71.19, vehicles=197\n",
      "Step 462: avg_time=71.36, vehicles=197\n",
      "Step 463: avg_time=71.54, vehicles=195\n",
      "Step 464: avg_time=71.71, vehicles=195\n",
      "Step 465: avg_time=71.13, vehicles=204\n",
      "Step 466: avg_time=71.31, vehicles=201\n",
      "Step 467: avg_time=71.49, vehicles=201\n",
      "Step 468: avg_time=71.67, vehicles=201\n",
      "Step 469: avg_time=71.84, vehicles=201\n",
      "Step 470: avg_time=71.27, vehicles=211\n",
      "Step 471: avg_time=71.46, vehicles=207\n",
      "Step 472: avg_time=71.64, vehicles=207\n",
      "Step 473: avg_time=71.82, vehicles=207\n",
      "Step 474: avg_time=72.00, vehicles=207\n",
      "Step 475: avg_time=71.44, vehicles=217\n",
      "Step 476: avg_time=71.62, vehicles=215\n",
      "Step 477: avg_time=71.81, vehicles=215\n",
      "Step 478: avg_time=71.99, vehicles=211\n",
      "Step 479: avg_time=72.18, vehicles=211\n",
      "Step 480: avg_time=71.62, vehicles=217\n",
      "Step 481: avg_time=71.80, vehicles=214\n",
      "Step 482: avg_time=71.99, vehicles=211\n",
      "Step 483: avg_time=72.17, vehicles=211\n",
      "Step 484: avg_time=72.34, vehicles=207\n",
      "Step 485: avg_time=71.79, vehicles=218\n",
      "Step 486: avg_time=71.97, vehicles=211\n",
      "Step 487: avg_time=72.15, vehicles=211\n",
      "Step 488: avg_time=72.33, vehicles=210\n",
      "Step 489: avg_time=72.51, vehicles=207\n",
      "Step 490: avg_time=71.96, vehicles=218\n",
      "Step 491: avg_time=72.13, vehicles=211\n",
      "Step 492: avg_time=72.31, vehicles=211\n",
      "Step 493: avg_time=72.49, vehicles=209\n",
      "Step 494: avg_time=72.66, vehicles=207\n",
      "Step 495: avg_time=72.12, vehicles=217\n",
      "Step 496: avg_time=72.29, vehicles=211\n",
      "Step 497: avg_time=72.47, vehicles=211\n",
      "Step 498: avg_time=72.64, vehicles=210\n",
      "Step 499: avg_time=72.81, vehicles=207\n",
      "Step 500: avg_time=72.27, vehicles=218\n",
      "Step 501: avg_time=72.45, vehicles=212\n",
      "Step 502: avg_time=72.62, vehicles=212\n",
      "Step 503: avg_time=72.80, vehicles=208\n",
      "Step 504: avg_time=72.97, vehicles=208\n",
      "Step 505: avg_time=72.43, vehicles=215\n",
      "Step 506: avg_time=72.60, vehicles=213\n",
      "Step 507: avg_time=72.78, vehicles=213\n",
      "Step 508: avg_time=72.95, vehicles=213\n",
      "Step 509: avg_time=73.12, vehicles=213\n",
      "Step 510: avg_time=72.59, vehicles=224\n",
      "Step 511: avg_time=72.77, vehicles=221\n",
      "Step 512: avg_time=72.95, vehicles=221\n",
      "Step 513: avg_time=73.13, vehicles=221\n",
      "Step 514: avg_time=73.31, vehicles=215\n",
      "Step 515: avg_time=72.77, vehicles=217\n",
      "Step 516: avg_time=72.95, vehicles=217\n",
      "Step 517: avg_time=73.12, vehicles=211\n",
      "Step 518: avg_time=73.29, vehicles=211\n",
      "Step 519: avg_time=73.45, vehicles=205\n",
      "Step 520: avg_time=72.92, vehicles=215\n",
      "Step 521: avg_time=73.09, vehicles=207\n",
      "Step 522: avg_time=73.25, vehicles=207\n",
      "Step 523: avg_time=73.41, vehicles=203\n",
      "Step 524: avg_time=73.57, vehicles=203\n",
      "Step 525: avg_time=73.04, vehicles=210\n",
      "Step 526: avg_time=73.21, vehicles=207\n",
      "Step 527: avg_time=73.37, vehicles=205\n",
      "Step 528: avg_time=73.53, vehicles=205\n",
      "Step 529: avg_time=73.69, vehicles=203\n",
      "Step 530: avg_time=73.16, vehicles=212\n",
      "Step 531: avg_time=73.33, vehicles=207\n",
      "Step 532: avg_time=73.49, vehicles=207\n",
      "Step 533: avg_time=73.65, vehicles=205\n",
      "Step 534: avg_time=73.81, vehicles=205\n",
      "Step 535: avg_time=73.29, vehicles=214\n",
      "Step 536: avg_time=73.45, vehicles=210\n",
      "Step 537: avg_time=73.61, vehicles=208\n",
      "Step 538: avg_time=73.77, vehicles=208\n",
      "Step 539: avg_time=73.93, vehicles=207\n",
      "Step 540: avg_time=73.42, vehicles=216\n",
      "Step 541: avg_time=73.58, vehicles=213\n",
      "Step 542: avg_time=73.74, vehicles=213\n",
      "Step 543: avg_time=73.91, vehicles=213\n",
      "Step 544: avg_time=74.07, vehicles=213\n",
      "Step 545: avg_time=73.56, vehicles=223\n",
      "Step 546: avg_time=73.73, vehicles=221\n",
      "Step 547: avg_time=73.90, vehicles=221\n",
      "Step 548: avg_time=74.06, vehicles=217\n",
      "Step 549: avg_time=74.23, vehicles=217\n",
      "Step 550: avg_time=73.73, vehicles=222\n",
      "Step 551: avg_time=73.89, vehicles=219\n",
      "Step 552: avg_time=74.05, vehicles=217\n",
      "Step 553: avg_time=74.22, vehicles=217\n",
      "Step 554: avg_time=74.38, vehicles=213\n",
      "Step 555: avg_time=73.88, vehicles=221\n",
      "Step 556: avg_time=74.04, vehicles=217\n",
      "Step 557: avg_time=74.20, vehicles=217\n",
      "Step 558: avg_time=74.36, vehicles=215\n",
      "Step 559: avg_time=74.52, vehicles=213\n",
      "Step 560: avg_time=74.02, vehicles=222\n",
      "Step 561: avg_time=74.18, vehicles=217\n",
      "Step 562: avg_time=74.34, vehicles=217\n",
      "Step 563: avg_time=74.50, vehicles=215\n",
      "Step 564: avg_time=74.66, vehicles=213\n",
      "Step 565: avg_time=74.16, vehicles=219\n",
      "Step 566: avg_time=74.32, vehicles=217\n",
      "Step 567: avg_time=74.48, vehicles=217\n",
      "Step 568: avg_time=74.64, vehicles=215\n",
      "Step 569: avg_time=74.79, vehicles=213\n",
      "Step 570: avg_time=74.30, vehicles=221\n",
      "Step 571: avg_time=74.46, vehicles=217\n",
      "Step 572: avg_time=74.62, vehicles=217\n",
      "Step 573: avg_time=74.77, vehicles=213\n",
      "Step 574: avg_time=74.93, vehicles=213\n",
      "Step 575: avg_time=74.44, vehicles=221\n",
      "Step 576: avg_time=74.59, vehicles=217\n",
      "Step 577: avg_time=74.75, vehicles=217\n",
      "Step 578: avg_time=74.91, vehicles=217\n",
      "Step 579: avg_time=75.06, vehicles=217\n",
      "Step 580: avg_time=74.58, vehicles=227\n",
      "Step 581: avg_time=74.74, vehicles=225\n",
      "Step 582: avg_time=74.90, vehicles=225\n",
      "Step 583: avg_time=75.06, vehicles=225\n",
      "Step 584: avg_time=75.22, vehicles=219\n",
      "Step 585: avg_time=74.74, vehicles=224\n",
      "Step 586: avg_time=74.90, vehicles=221\n",
      "Step 587: avg_time=75.05, vehicles=215\n",
      "Step 588: avg_time=75.20, vehicles=215\n",
      "Step 589: avg_time=75.35, vehicles=209\n",
      "Step 590: avg_time=74.87, vehicles=218\n",
      "Step 591: avg_time=75.01, vehicles=211\n",
      "Step 592: avg_time=75.16, vehicles=211\n",
      "Step 593: avg_time=75.31, vehicles=205\n",
      "Step 594: avg_time=75.45, vehicles=205\n",
      "Step 595: avg_time=74.97, vehicles=211\n",
      "Step 596: avg_time=75.11, vehicles=208\n",
      "Step 597: avg_time=75.25, vehicles=205\n",
      "Step 598: avg_time=75.40, vehicles=205\n",
      "Step 599: avg_time=75.54, vehicles=203\n",
      "Step 600: avg_time=75.06, vehicles=209\n",
      "Step 601: avg_time=75.20, vehicles=207\n",
      "Step 602: avg_time=75.34, vehicles=207\n",
      "Step 603: avg_time=75.48, vehicles=206\n",
      "Step 604: avg_time=75.63, vehicles=206\n",
      "Step 605: avg_time=75.15, vehicles=212\n",
      "Step 606: avg_time=75.30, vehicles=211\n",
      "Step 607: avg_time=75.44, vehicles=211\n",
      "Step 608: avg_time=75.58, vehicles=211\n",
      "Step 609: avg_time=75.73, vehicles=211\n",
      "Step 610: avg_time=75.26, vehicles=219\n",
      "Step 611: avg_time=75.41, vehicles=217\n",
      "Step 612: avg_time=75.55, vehicles=217\n",
      "Step 613: avg_time=75.70, vehicles=217\n",
      "Step 614: avg_time=75.85, vehicles=217\n",
      "Step 615: avg_time=75.39, vehicles=227\n",
      "Step 616: avg_time=75.54, vehicles=225\n",
      "Step 617: avg_time=75.69, vehicles=225\n",
      "Step 618: avg_time=75.84, vehicles=221\n",
      "Step 619: avg_time=75.99, vehicles=221\n",
      "Step 620: avg_time=75.53, vehicles=227\n",
      "Step 621: avg_time=75.68, vehicles=224\n",
      "Step 622: avg_time=75.83, vehicles=221\n",
      "Step 623: avg_time=75.98, vehicles=221\n",
      "Step 624: avg_time=76.12, vehicles=217\n",
      "Step 625: avg_time=75.67, vehicles=227\n",
      "Step 626: avg_time=75.81, vehicles=221\n",
      "Step 627: avg_time=75.96, vehicles=221\n",
      "Step 628: avg_time=76.10, vehicles=220\n",
      "Step 629: avg_time=76.25, vehicles=217\n",
      "Step 630: avg_time=75.80, vehicles=227\n",
      "Step 631: avg_time=75.94, vehicles=221\n",
      "Step 632: avg_time=76.09, vehicles=221\n",
      "Step 633: avg_time=76.23, vehicles=219\n",
      "Step 634: avg_time=76.37, vehicles=217\n",
      "Step 635: avg_time=75.92, vehicles=227\n",
      "Step 636: avg_time=76.07, vehicles=221\n",
      "Step 637: avg_time=76.21, vehicles=221\n",
      "Step 638: avg_time=76.35, vehicles=219\n",
      "Step 639: avg_time=76.50, vehicles=217\n",
      "Step 640: avg_time=76.05, vehicles=226\n",
      "Step 641: avg_time=76.19, vehicles=221\n",
      "Step 642: avg_time=76.33, vehicles=221\n",
      "Step 643: avg_time=76.47, vehicles=217\n",
      "Step 644: avg_time=76.61, vehicles=217\n",
      "Step 645: avg_time=76.17, vehicles=222\n",
      "Step 646: avg_time=76.31, vehicles=221\n",
      "Step 647: avg_time=76.45, vehicles=221\n",
      "Step 648: avg_time=76.59, vehicles=221\n",
      "Step 649: avg_time=76.73, vehicles=221\n",
      "Step 650: avg_time=76.30, vehicles=231\n",
      "Step 651: avg_time=76.44, vehicles=229\n",
      "Step 652: avg_time=76.59, vehicles=229\n",
      "Step 653: avg_time=76.73, vehicles=229\n",
      "Step 654: avg_time=76.87, vehicles=223\n",
      "Step 655: avg_time=76.43, vehicles=226\n",
      "Step 656: avg_time=76.58, vehicles=225\n",
      "Step 657: avg_time=76.71, vehicles=219\n",
      "Step 658: avg_time=76.85, vehicles=219\n",
      "Step 659: avg_time=76.99, vehicles=213\n",
      "Step 660: avg_time=76.55, vehicles=222\n",
      "Step 661: avg_time=76.68, vehicles=215\n",
      "Step 662: avg_time=76.82, vehicles=215\n",
      "Step 663: avg_time=76.95, vehicles=209\n",
      "Step 664: avg_time=77.08, vehicles=209\n",
      "Step 665: avg_time=76.64, vehicles=217\n",
      "Step 666: avg_time=76.77, vehicles=213\n",
      "Step 667: avg_time=76.90, vehicles=209\n",
      "Step 668: avg_time=77.03, vehicles=209\n",
      "Step 669: avg_time=77.16, vehicles=207\n",
      "Step 670: avg_time=76.72, vehicles=218\n",
      "Step 671: avg_time=76.85, vehicles=212\n",
      "Step 672: avg_time=76.98, vehicles=212\n",
      "Step 673: avg_time=77.11, vehicles=210\n",
      "Step 674: avg_time=77.24, vehicles=210\n",
      "Step 675: avg_time=76.81, vehicles=219\n",
      "Step 676: avg_time=76.94, vehicles=216\n",
      "Step 677: avg_time=77.07, vehicles=215\n",
      "Step 678: avg_time=77.21, vehicles=215\n",
      "Step 679: avg_time=77.34, vehicles=215\n",
      "Step 680: avg_time=76.91, vehicles=223\n",
      "Step 681: avg_time=77.04, vehicles=221\n",
      "Step 682: avg_time=77.18, vehicles=221\n",
      "Step 683: avg_time=77.31, vehicles=221\n",
      "Step 684: avg_time=77.45, vehicles=221\n",
      "Step 685: avg_time=77.02, vehicles=231\n",
      "Step 686: avg_time=77.16, vehicles=229\n",
      "Step 687: avg_time=77.30, vehicles=229\n",
      "Step 688: avg_time=77.44, vehicles=225\n",
      "Step 689: avg_time=77.57, vehicles=225\n",
      "Step 690: avg_time=77.15, vehicles=231\n",
      "Step 691: avg_time=77.29, vehicles=227\n",
      "Step 692: avg_time=77.42, vehicles=225\n",
      "Step 693: avg_time=77.56, vehicles=225\n",
      "Step 694: avg_time=77.69, vehicles=221\n",
      "Step 695: avg_time=77.27, vehicles=231\n",
      "Step 696: avg_time=77.41, vehicles=225\n",
      "Step 697: avg_time=77.54, vehicles=225\n",
      "Step 698: avg_time=77.67, vehicles=223\n",
      "Step 699: avg_time=77.81, vehicles=221\n",
      "Step 700: avg_time=77.39, vehicles=231\n",
      "Step 701: avg_time=77.52, vehicles=225\n",
      "Step 702: avg_time=77.66, vehicles=225\n",
      "Step 703: avg_time=77.79, vehicles=223\n",
      "Step 704: avg_time=77.92, vehicles=221\n",
      "Step 705: avg_time=77.51, vehicles=229\n",
      "Step 706: avg_time=77.64, vehicles=225\n",
      "Step 707: avg_time=77.77, vehicles=225\n",
      "Step 708: avg_time=77.90, vehicles=223\n",
      "Step 709: avg_time=78.03, vehicles=221\n",
      "Step 710: avg_time=77.62, vehicles=228\n",
      "Step 711: avg_time=77.75, vehicles=225\n",
      "Step 712: avg_time=77.88, vehicles=225\n",
      "Step 713: avg_time=78.01, vehicles=221\n",
      "Step 714: avg_time=78.14, vehicles=221\n",
      "Step 715: avg_time=77.72, vehicles=225\n",
      "Step 716: avg_time=77.85, vehicles=225\n",
      "Step 717: avg_time=77.98, vehicles=225\n",
      "Step 718: avg_time=78.12, vehicles=225\n",
      "Step 719: avg_time=78.25, vehicles=225\n",
      "Step 720: avg_time=77.84, vehicles=234\n",
      "Step 721: avg_time=77.97, vehicles=233\n",
      "Step 722: avg_time=78.11, vehicles=233\n",
      "Step 723: avg_time=78.24, vehicles=233\n",
      "Step 724: avg_time=78.37, vehicles=227\n",
      "Step 725: avg_time=77.97, vehicles=231\n",
      "Step 726: avg_time=78.10, vehicles=229\n",
      "Step 727: avg_time=78.23, vehicles=223\n",
      "Step 728: avg_time=78.35, vehicles=223\n",
      "Step 729: avg_time=78.48, vehicles=217\n",
      "Step 730: avg_time=78.07, vehicles=226\n",
      "Step 731: avg_time=78.20, vehicles=219\n",
      "Step 732: avg_time=78.32, vehicles=219\n",
      "Step 733: avg_time=78.44, vehicles=213\n",
      "Step 734: avg_time=78.56, vehicles=213\n",
      "Step 735: avg_time=78.15, vehicles=217\n",
      "Step 736: avg_time=78.27, vehicles=215\n",
      "Step 737: avg_time=78.39, vehicles=210\n",
      "Step 738: avg_time=78.51, vehicles=210\n",
      "Step 739: avg_time=78.63, vehicles=208\n",
      "Step 740: avg_time=78.22, vehicles=217\n",
      "Step 741: avg_time=78.34, vehicles=213\n",
      "Step 742: avg_time=78.46, vehicles=213\n",
      "Step 743: avg_time=78.58, vehicles=213\n",
      "Step 744: avg_time=78.70, vehicles=213\n",
      "Step 745: avg_time=78.30, vehicles=221\n",
      "Step 746: avg_time=78.42, vehicles=219\n",
      "Step 747: avg_time=78.54, vehicles=219\n",
      "Step 748: avg_time=78.66, vehicles=219\n",
      "Step 749: avg_time=78.78, vehicles=219\n",
      "Step 750: avg_time=78.38, vehicles=225\n",
      "Step 751: avg_time=78.51, vehicles=225\n",
      "Step 752: avg_time=78.63, vehicles=225\n",
      "Step 753: avg_time=78.76, vehicles=225\n",
      "Step 754: avg_time=78.88, vehicles=225\n",
      "Step 755: avg_time=78.49, vehicles=235\n",
      "Step 756: avg_time=78.62, vehicles=233\n",
      "Step 757: avg_time=78.75, vehicles=233\n",
      "Step 758: avg_time=78.87, vehicles=229\n",
      "Step 759: avg_time=79.00, vehicles=229\n",
      "Step 760: avg_time=78.61, vehicles=234\n",
      "Step 761: avg_time=78.73, vehicles=232\n",
      "Step 762: avg_time=78.86, vehicles=229\n",
      "Step 763: avg_time=78.98, vehicles=229\n",
      "Step 764: avg_time=79.11, vehicles=225\n",
      "Step 765: avg_time=78.72, vehicles=236\n",
      "Step 766: avg_time=78.84, vehicles=229\n",
      "Step 767: avg_time=78.97, vehicles=229\n",
      "Step 768: avg_time=79.09, vehicles=228\n",
      "Step 769: avg_time=79.21, vehicles=225\n",
      "Step 770: avg_time=78.83, vehicles=235\n",
      "Step 771: avg_time=78.95, vehicles=229\n",
      "Step 772: avg_time=79.08, vehicles=229\n",
      "Step 773: avg_time=79.20, vehicles=227\n",
      "Step 774: avg_time=79.32, vehicles=225\n",
      "Step 775: avg_time=78.93, vehicles=234\n",
      "Step 776: avg_time=79.06, vehicles=229\n",
      "Step 777: avg_time=79.18, vehicles=229\n",
      "Step 778: avg_time=79.30, vehicles=227\n",
      "Step 779: avg_time=79.42, vehicles=225\n",
      "Step 780: avg_time=79.04, vehicles=234\n",
      "Step 781: avg_time=79.16, vehicles=229\n",
      "Step 782: avg_time=79.28, vehicles=229\n",
      "Step 783: avg_time=79.40, vehicles=225\n",
      "Step 784: avg_time=79.52, vehicles=225\n",
      "Step 785: avg_time=79.14, vehicles=229\n",
      "Step 786: avg_time=79.26, vehicles=229\n",
      "Step 787: avg_time=79.38, vehicles=229\n",
      "Step 788: avg_time=79.50, vehicles=229\n",
      "Step 789: avg_time=79.62, vehicles=229\n",
      "Step 790: avg_time=79.25, vehicles=237\n",
      "Step 791: avg_time=79.37, vehicles=237\n",
      "Step 792: avg_time=79.49, vehicles=237\n",
      "Step 793: avg_time=79.62, vehicles=237\n",
      "Step 794: avg_time=79.74, vehicles=231\n",
      "Step 795: avg_time=79.36, vehicles=235\n",
      "Step 796: avg_time=79.48, vehicles=233\n",
      "Step 797: avg_time=79.60, vehicles=227\n",
      "Step 798: avg_time=79.72, vehicles=227\n",
      "Step 799: avg_time=79.84, vehicles=221\n",
      "Step 800: avg_time=79.46, vehicles=230\n",
      "Step 801: avg_time=79.57, vehicles=223\n",
      "Step 802: avg_time=79.69, vehicles=223\n",
      "Step 803: avg_time=79.80, vehicles=218\n",
      "Step 804: avg_time=79.92, vehicles=218\n",
      "Step 805: avg_time=79.54, vehicles=224\n",
      "Step 806: avg_time=79.65, vehicles=221\n",
      "Step 807: avg_time=79.76, vehicles=218\n",
      "Step 808: avg_time=79.88, vehicles=218\n",
      "Step 809: avg_time=79.99, vehicles=216\n",
      "Step 810: avg_time=79.61, vehicles=223\n",
      "Step 811: avg_time=79.72, vehicles=220\n",
      "Step 812: avg_time=79.83, vehicles=220\n",
      "Step 813: avg_time=79.95, vehicles=218\n",
      "Step 814: avg_time=80.06, vehicles=218\n",
      "Step 815: avg_time=79.68, vehicles=227\n",
      "Step 816: avg_time=79.80, vehicles=223\n",
      "Step 817: avg_time=79.91, vehicles=223\n",
      "Step 818: avg_time=80.02, vehicles=223\n",
      "Step 819: avg_time=80.14, vehicles=223\n",
      "Step 820: avg_time=79.77, vehicles=230\n",
      "Step 821: avg_time=79.88, vehicles=229\n",
      "Step 822: avg_time=80.00, vehicles=229\n",
      "Step 823: avg_time=80.12, vehicles=229\n",
      "Step 824: avg_time=80.23, vehicles=229\n",
      "Step 825: avg_time=79.87, vehicles=238\n",
      "Step 826: avg_time=79.99, vehicles=237\n",
      "Step 827: avg_time=80.11, vehicles=237\n",
      "Step 828: avg_time=80.22, vehicles=233\n",
      "Step 829: avg_time=80.34, vehicles=233\n",
      "Step 830: avg_time=79.98, vehicles=239\n",
      "Step 831: avg_time=80.09, vehicles=235\n",
      "Step 832: avg_time=80.21, vehicles=233\n",
      "Step 833: avg_time=80.33, vehicles=233\n",
      "Step 834: avg_time=80.44, vehicles=229\n",
      "Step 835: avg_time=80.08, vehicles=239\n",
      "Step 836: avg_time=80.20, vehicles=233\n",
      "Step 837: avg_time=80.31, vehicles=233\n",
      "Step 838: avg_time=80.43, vehicles=231\n",
      "Step 839: avg_time=80.54, vehicles=229\n",
      "Step 840: avg_time=80.18, vehicles=238\n",
      "Step 841: avg_time=80.30, vehicles=233\n",
      "Step 842: avg_time=80.41, vehicles=233\n",
      "Step 843: avg_time=80.53, vehicles=231\n",
      "Step 844: avg_time=80.64, vehicles=229\n",
      "Step 845: avg_time=80.28, vehicles=237\n",
      "Step 846: avg_time=80.39, vehicles=233\n",
      "Step 847: avg_time=80.51, vehicles=233\n",
      "Step 848: avg_time=80.62, vehicles=231\n",
      "Step 849: avg_time=80.73, vehicles=229\n",
      "Step 850: avg_time=80.38, vehicles=238\n",
      "Step 851: avg_time=80.49, vehicles=233\n",
      "Step 852: avg_time=80.60, vehicles=233\n",
      "Step 853: avg_time=80.72, vehicles=229\n",
      "Step 854: avg_time=80.83, vehicles=229\n",
      "Step 855: avg_time=80.47, vehicles=234\n",
      "Step 856: avg_time=80.58, vehicles=233\n",
      "Step 857: avg_time=80.70, vehicles=233\n",
      "Step 858: avg_time=80.81, vehicles=233\n",
      "Step 859: avg_time=80.92, vehicles=233\n",
      "Step 860: avg_time=80.57, vehicles=244\n",
      "Step 861: avg_time=80.69, vehicles=241\n",
      "Step 862: avg_time=80.80, vehicles=241\n",
      "Step 863: avg_time=80.92, vehicles=241\n",
      "Step 864: avg_time=81.03, vehicles=235\n",
      "Step 865: avg_time=80.68, vehicles=241\n",
      "Step 866: avg_time=80.80, vehicles=237\n",
      "Step 867: avg_time=80.91, vehicles=231\n",
      "Step 868: avg_time=81.02, vehicles=231\n",
      "Step 869: avg_time=81.13, vehicles=225\n",
      "Step 870: avg_time=80.77, vehicles=235\n",
      "Step 871: avg_time=80.88, vehicles=227\n",
      "Step 872: avg_time=80.99, vehicles=227\n",
      "Step 873: avg_time=81.10, vehicles=221\n",
      "Step 874: avg_time=81.20, vehicles=221\n",
      "Step 875: avg_time=80.85, vehicles=225\n",
      "Step 876: avg_time=80.95, vehicles=223\n",
      "Step 877: avg_time=81.06, vehicles=219\n",
      "Step 878: avg_time=81.16, vehicles=219\n",
      "Step 879: avg_time=81.26, vehicles=216\n",
      "Step 880: avg_time=80.91, vehicles=225\n",
      "Step 881: avg_time=81.01, vehicles=221\n",
      "Step 882: avg_time=81.12, vehicles=221\n",
      "Step 883: avg_time=81.22, vehicles=221\n",
      "Step 884: avg_time=81.32, vehicles=221\n",
      "Step 885: avg_time=80.97, vehicles=228\n",
      "Step 886: avg_time=81.08, vehicles=227\n",
      "Step 887: avg_time=81.19, vehicles=227\n",
      "Step 888: avg_time=81.29, vehicles=227\n",
      "Step 889: avg_time=81.40, vehicles=227\n",
      "Step 890: avg_time=81.05, vehicles=234\n",
      "Step 891: avg_time=81.16, vehicles=233\n",
      "Step 892: avg_time=81.27, vehicles=233\n",
      "Step 893: avg_time=81.38, vehicles=233\n",
      "Step 894: avg_time=81.49, vehicles=233\n",
      "Step 895: avg_time=81.15, vehicles=245\n",
      "Step 896: avg_time=81.26, vehicles=241\n",
      "Step 897: avg_time=81.37, vehicles=241\n",
      "Step 898: avg_time=81.48, vehicles=237\n",
      "Step 899: avg_time=81.59, vehicles=237\n",
      "Step 900: avg_time=81.25, vehicles=242\n",
      "Step 901: avg_time=81.36, vehicles=240\n",
      "Step 902: avg_time=81.47, vehicles=237\n",
      "Step 903: avg_time=81.58, vehicles=237\n",
      "Step 904: avg_time=81.69, vehicles=233\n",
      "Step 905: avg_time=81.35, vehicles=245\n",
      "Step 906: avg_time=81.46, vehicles=238\n",
      "Step 907: avg_time=81.57, vehicles=237\n",
      "Step 908: avg_time=81.68, vehicles=236\n",
      "Step 909: avg_time=81.78, vehicles=233\n",
      "Step 910: avg_time=81.45, vehicles=242\n",
      "Step 911: avg_time=81.56, vehicles=238\n",
      "Step 912: avg_time=81.66, vehicles=237\n",
      "Step 913: avg_time=81.77, vehicles=235\n",
      "Step 914: avg_time=81.88, vehicles=233\n",
      "Step 915: avg_time=81.54, vehicles=241\n",
      "Step 916: avg_time=81.65, vehicles=238\n",
      "Step 917: avg_time=81.76, vehicles=237\n",
      "Step 918: avg_time=81.86, vehicles=235\n",
      "Step 919: avg_time=81.97, vehicles=233\n",
      "Step 920: avg_time=81.63, vehicles=241\n",
      "Step 921: avg_time=81.74, vehicles=237\n",
      "Step 922: avg_time=81.85, vehicles=237\n",
      "Step 923: avg_time=81.95, vehicles=235\n",
      "Step 924: avg_time=82.06, vehicles=234\n",
      "Step 925: avg_time=81.73, vehicles=244\n",
      "Step 926: avg_time=81.83, vehicles=239\n",
      "Step 927: avg_time=81.94, vehicles=239\n",
      "Step 928: avg_time=82.05, vehicles=239\n",
      "Step 929: avg_time=82.15, vehicles=239\n",
      "Step 930: avg_time=81.83, vehicles=250\n",
      "Step 931: avg_time=81.94, vehicles=247\n",
      "Step 932: avg_time=82.05, vehicles=247\n",
      "Step 933: avg_time=82.16, vehicles=247\n",
      "Step 934: avg_time=82.26, vehicles=241\n",
      "Step 935: avg_time=81.93, vehicles=245\n",
      "Step 936: avg_time=82.04, vehicles=243\n",
      "Step 937: avg_time=82.15, vehicles=237\n",
      "Step 938: avg_time=82.25, vehicles=237\n",
      "Step 939: avg_time=82.36, vehicles=232\n",
      "Step 940: avg_time=82.03, vehicles=240\n",
      "Step 941: avg_time=82.13, vehicles=235\n",
      "Step 942: avg_time=82.23, vehicles=235\n",
      "Step 943: avg_time=82.34, vehicles=232\n",
      "Step 944: avg_time=82.44, vehicles=232\n",
      "Step 945: avg_time=82.11, vehicles=237\n",
      "Step 946: avg_time=82.21, vehicles=236\n",
      "Step 947: avg_time=82.31, vehicles=233\n",
      "Step 948: avg_time=82.42, vehicles=233\n",
      "Step 949: avg_time=82.52, vehicles=230\n",
      "Step 950: avg_time=82.19, vehicles=241\n",
      "Step 951: avg_time=82.29, vehicles=235\n",
      "Step 952: avg_time=82.39, vehicles=235\n",
      "Step 953: avg_time=82.50, vehicles=233\n",
      "Step 954: avg_time=82.60, vehicles=233\n",
      "Step 955: avg_time=82.27, vehicles=240\n",
      "Step 956: avg_time=82.38, vehicles=238\n",
      "Step 957: avg_time=82.48, vehicles=237\n",
      "Step 958: avg_time=82.58, vehicles=237\n",
      "Step 959: avg_time=82.68, vehicles=236\n",
      "Step 960: avg_time=82.36, vehicles=244\n",
      "Step 961: avg_time=82.46, vehicles=241\n",
      "Step 962: avg_time=82.57, vehicles=241\n",
      "Step 963: avg_time=82.67, vehicles=241\n",
      "Step 964: avg_time=82.78, vehicles=241\n",
      "Step 965: avg_time=82.46, vehicles=252\n",
      "Step 966: avg_time=82.56, vehicles=249\n",
      "Step 967: avg_time=82.67, vehicles=249\n",
      "Step 968: avg_time=82.78, vehicles=245\n",
      "Step 969: avg_time=82.88, vehicles=245\n",
      "Step 970: avg_time=82.56, vehicles=252\n",
      "Step 971: avg_time=82.67, vehicles=247\n",
      "Step 972: avg_time=82.78, vehicles=245\n",
      "Step 973: avg_time=82.88, vehicles=245\n",
      "Step 974: avg_time=82.98, vehicles=241\n",
      "Step 975: avg_time=82.67, vehicles=251\n",
      "Step 976: avg_time=82.77, vehicles=245\n",
      "Step 977: avg_time=82.87, vehicles=245\n",
      "Step 978: avg_time=82.98, vehicles=243\n",
      "Step 979: avg_time=83.08, vehicles=241\n",
      "Step 980: avg_time=82.76, vehicles=250\n",
      "Step 981: avg_time=82.87, vehicles=245\n",
      "Step 982: avg_time=82.97, vehicles=245\n",
      "Step 983: avg_time=83.07, vehicles=243\n",
      "Step 984: avg_time=83.18, vehicles=241\n",
      "Step 985: avg_time=82.86, vehicles=248\n",
      "Step 986: avg_time=82.96, vehicles=245\n",
      "Step 987: avg_time=83.07, vehicles=245\n",
      "Step 988: avg_time=83.17, vehicles=243\n",
      "Step 989: avg_time=83.27, vehicles=241\n",
      "Step 990: avg_time=82.96, vehicles=248\n",
      "Step 991: avg_time=83.06, vehicles=245\n",
      "Step 992: avg_time=83.16, vehicles=245\n",
      "Step 993: avg_time=83.26, vehicles=241\n",
      "Step 994: avg_time=83.36, vehicles=241\n",
      "Step 995: avg_time=83.05, vehicles=248\n",
      "Step 996: avg_time=83.15, vehicles=245\n",
      "Step 997: avg_time=83.25, vehicles=245\n",
      "Step 998: avg_time=83.36, vehicles=245\n",
      "Step 999: avg_time=83.46, vehicles=245\n"
     ]
    }
   ],
   "source": [
    "import csv\n",
    "\n",
    "env = cityflow.Engine(\"config/config_fixed.json\", thread_num=1)\n",
    "travel_times=[] \n",
    "vehicle_counts=[]\n",
    "\n",
    "with open(\"metrics.csv\", \"w\", newline=\"\") as f: \n",
    "    writer = csv.writer(f) \n",
    "    writer.writerow([\"step\", \"avg_travel_time\", \"vehicle_count\"]) \n",
    "    \n",
    "    for step in range(1000): \n",
    "        env.next_step() \n",
    "        avg_time = env.get_average_travel_time() \n",
    "        count = len(env.get_vehicles()) \n",
    "        # Save metrics \n",
    "        writer.writerow([step, avg_time, count]) \n",
    "        print(f\"Step {step}: avg_time={avg_time:.2f}, vehicles={count}\")"
   ]
  },
  {
   "cell_type": "code",
   "execution_count": 17,
   "id": "77c564d87b75db80",
   "metadata": {},
   "outputs": [],
   "source": [
    "import cityflow\n",
    "\n",
    "def evaluate_baseline(config_path=\"config/config_fixed.json\", episodes=5, max_steps=1000):\n",
    "    results = []\n",
    "    for ep in range(episodes):\n",
    "        env = cityflow.Engine(config_path, thread_num=1)\n",
    "        total_reward, total_queue, steps = 0, 0, 0\n",
    "\n",
    "        for step in range(max_steps):\n",
    "            env.next_step()\n",
    "\n",
    "            # reward = negative of total waiting\n",
    "            waiting_counts = env.get_lane_waiting_vehicle_count()\n",
    "            total_waiting = sum(waiting_counts.values())\n",
    "            reward = -float(total_waiting)\n",
    "\n",
    "            total_reward += reward\n",
    "            total_queue += total_waiting\n",
    "            steps += 1\n",
    "\n",
    "        avg_time = env.get_average_travel_time()\n",
    "        avg_queue = total_queue / steps\n",
    "\n",
    "        ep_result = {\n",
    "            \"episode\": ep,\n",
    "            \"reward\": total_reward,\n",
    "            \"avg_time\": avg_time,\n",
    "            \"avg_queue\": avg_queue\n",
    "        }\n",
    "        results.append(ep_result)\n",
    "\n",
    "        # ✅ Print result same style as DQN\n",
    "        print(f\"Baseline Episode {ep}: reward={total_reward:.2f}, avg_time={avg_time:.2f}, avg_queue={avg_queue:.2f}\")\n",
    "\n",
    "    return results"
   ]
  },
  {
   "cell_type": "code",
   "execution_count": 27,
   "id": "4de54ed5-1ba6-4ee9-b807-9ba90f86c227",
   "metadata": {},
   "outputs": [
    {
     "name": "stdout",
     "output_type": "stream",
     "text": [
      "Baseline Episode 0: reward=-98542.00, avg_time=83.46, avg_queue=98.54\n",
      "Baseline Episode 1: reward=-98542.00, avg_time=83.46, avg_queue=98.54\n",
      "Baseline Episode 2: reward=-98542.00, avg_time=83.46, avg_queue=98.54\n",
      "Baseline Episode 3: reward=-98542.00, avg_time=83.46, avg_queue=98.54\n",
      "Baseline Episode 4: reward=-98542.00, avg_time=83.46, avg_queue=98.54\n",
      "Baseline Episode 5: reward=-98542.00, avg_time=83.46, avg_queue=98.54\n",
      "Baseline Episode 6: reward=-98542.00, avg_time=83.46, avg_queue=98.54\n",
      "Baseline Episode 7: reward=-98542.00, avg_time=83.46, avg_queue=98.54\n",
      "Baseline Episode 8: reward=-98542.00, avg_time=83.46, avg_queue=98.54\n",
      "Baseline Episode 9: reward=-98542.00, avg_time=83.46, avg_queue=98.54\n"
     ]
    }
   ],
   "source": [
    "baseline_results = evaluate_baseline(\"config/config_fixed.json\", episodes=10, max_steps=1000)"
   ]
  },
  {
   "cell_type": "markdown",
   "id": "8c0e0781",
   "metadata": {},
   "source": [
    "# DQN on the Example Env"
   ]
  },
  {
   "cell_type": "code",
   "execution_count": 8,
   "id": "82a502ae",
   "metadata": {},
   "outputs": [],
   "source": [
    "import gymnasium as gym\n",
    "from gymnasium import spaces\n",
    "import numpy as np\n",
    "import cityflow\n",
    "import matplotlib.pyplot as plt\n",
    "import matplotlib.patches as patches\n",
    "\n",
    "\n",
    "class CityFlowEnv(gym.Env):\n",
    "    metadata = {\"render_modes\": [\"human\", \"rgb_array\"], \"render_fps\": 15}\n",
    "\n",
    "    def __init__(self, config_path=\"config/config.json\", intersection_id=\"intersection_1_1\"):\n",
    "        super(CityFlowEnv, self).__init__()\n",
    "\n",
    "        # CityFlow engine\n",
    "        self.eng = cityflow.Engine(config_path, thread_num=1)\n",
    "        self.intersection_id = intersection_id\n",
    "\n",
    "        # Action space = 8 phases (from your roadnet.json)\n",
    "        self.action_space = spaces.Discrete(8)\n",
    "\n",
    "        # Observation space = vehicle count per lane\n",
    "        self.lanes = list(self.eng.get_lane_vehicle_count().keys())\n",
    "        self.observation_space = spaces.Box(\n",
    "            low=0, high=100, shape=(len(self.lanes),), dtype=np.float32\n",
    "        )\n",
    "\n",
    "        # Rendering setup\n",
    "        self.fig, self.ax = None, None\n",
    "\n",
    "        self.step_count = 0\n",
    "        self.max_steps = 1000\n",
    "\n",
    "    def reset(self, seed=None, options=None):\n",
    "        self.eng.reset()\n",
    "        self.step_count = 0\n",
    "        return self._get_state(), {}\n",
    "\n",
    "    def step(self, action):\n",
    "        # Set traffic light phase\n",
    "        self.eng.set_tl_phase(self.intersection_id, int(action))\n",
    "\n",
    "        # Advance the simulation for a few steps\n",
    "        for _ in range(5):\n",
    "            self.eng.next_step()\n",
    "            self.step_count += 1\n",
    "\n",
    "        obs = self._get_state()\n",
    "\n",
    "        # Reward = negative of waiting vehicles\n",
    "        waiting_counts = self.eng.get_lane_waiting_vehicle_count()  # returns dict\n",
    "        total_waiting = sum(waiting_counts.values())\n",
    "        reward = -float(total_waiting)\n",
    "\n",
    "        done = self.step_count >= self.max_steps\n",
    "        return obs, reward, done, False, {}\n",
    "\n",
    "    def _get_state(self):\n",
    "        lane_counts = self.eng.get_lane_vehicle_count()\n",
    "        state = [lane_counts[lane] for lane in self.lanes]\n",
    "        return np.array(state, dtype=np.float32)"
   ]
  },
  {
   "cell_type": "code",
   "execution_count": 14,
   "id": "bc3f5171-d4a2-4b3f-8bfc-b4c2455357ed",
   "metadata": {},
   "outputs": [
    {
     "data": {
      "text/html": [
       "<pre style=\"white-space:pre;overflow-x:auto;line-height:normal;font-family:Menlo,'DejaVu Sans Mono',consolas,'Courier New',monospace\">Using cpu device\n",
       "</pre>\n"
      ],
      "text/plain": [
       "Using cpu device\n"
      ]
     },
     "metadata": {},
     "output_type": "display_data"
    },
    {
     "data": {
      "text/html": [
       "<pre style=\"white-space:pre;overflow-x:auto;line-height:normal;font-family:Menlo,'DejaVu Sans Mono',consolas,'Courier New',monospace\">----------------------------------\n",
       "| rollout/            |          |\n",
       "|    exploration_rate | 0.05     |\n",
       "| time/               |          |\n",
       "|    episodes         | 4        |\n",
       "|    fps              | 162      |\n",
       "|    time_elapsed     | 4        |\n",
       "|    total_timesteps  | 800      |\n",
       "| train/              |          |\n",
       "|    learning_rate    | 0.001    |\n",
       "|    loss             | 14.6     |\n",
       "|    n_updates        | 174      |\n",
       "----------------------------------\n",
       "</pre>\n"
      ],
      "text/plain": [
       "----------------------------------\n",
       "| rollout/            |          |\n",
       "|    exploration_rate | 0.05     |\n",
       "| time/               |          |\n",
       "|    episodes         | 4        |\n",
       "|    fps              | 162      |\n",
       "|    time_elapsed     | 4        |\n",
       "|    total_timesteps  | 800      |\n",
       "| train/              |          |\n",
       "|    learning_rate    | 0.001    |\n",
       "|    loss             | 14.6     |\n",
       "|    n_updates        | 174      |\n",
       "----------------------------------\n"
      ]
     },
     "metadata": {},
     "output_type": "display_data"
    },
    {
     "data": {
      "text/html": [
       "<pre style=\"white-space:pre;overflow-x:auto;line-height:normal;font-family:Menlo,'DejaVu Sans Mono',consolas,'Courier New',monospace\">Finished training episode 1\n",
       "</pre>\n"
      ],
      "text/plain": [
       "Finished training episode 1\n"
      ]
     },
     "metadata": {},
     "output_type": "display_data"
    },
    {
     "data": {
      "text/html": [
       "<pre style=\"white-space:pre;overflow-x:auto;line-height:normal;font-family:Menlo,'DejaVu Sans Mono',consolas,'Courier New',monospace\">----------------------------------\n",
       "| rollout/            |          |\n",
       "|    exploration_rate | 0.05     |\n",
       "| time/               |          |\n",
       "|    episodes         | 8        |\n",
       "|    fps              | 184      |\n",
       "|    time_elapsed     | 3        |\n",
       "|    total_timesteps  | 1600     |\n",
       "| train/              |          |\n",
       "|    learning_rate    | 0.001    |\n",
       "|    loss             | 7.72     |\n",
       "|    n_updates        | 374      |\n",
       "----------------------------------\n",
       "</pre>\n"
      ],
      "text/plain": [
       "----------------------------------\n",
       "| rollout/            |          |\n",
       "|    exploration_rate | 0.05     |\n",
       "| time/               |          |\n",
       "|    episodes         | 8        |\n",
       "|    fps              | 184      |\n",
       "|    time_elapsed     | 3        |\n",
       "|    total_timesteps  | 1600     |\n",
       "| train/              |          |\n",
       "|    learning_rate    | 0.001    |\n",
       "|    loss             | 7.72     |\n",
       "|    n_updates        | 374      |\n",
       "----------------------------------\n"
      ]
     },
     "metadata": {},
     "output_type": "display_data"
    },
    {
     "data": {
      "text/html": [
       "<pre style=\"white-space:pre;overflow-x:auto;line-height:normal;font-family:Menlo,'DejaVu Sans Mono',consolas,'Courier New',monospace\">Finished training episode 2\n",
       "</pre>\n"
      ],
      "text/plain": [
       "Finished training episode 2\n"
      ]
     },
     "metadata": {},
     "output_type": "display_data"
    },
    {
     "data": {
      "text/html": [
       "<pre style=\"white-space:pre;overflow-x:auto;line-height:normal;font-family:Menlo,'DejaVu Sans Mono',consolas,'Courier New',monospace\">----------------------------------\n",
       "| rollout/            |          |\n",
       "|    exploration_rate | 0.05     |\n",
       "| time/               |          |\n",
       "|    episodes         | 12       |\n",
       "|    fps              | 194      |\n",
       "|    time_elapsed     | 2        |\n",
       "|    total_timesteps  | 2400     |\n",
       "| train/              |          |\n",
       "|    learning_rate    | 0.001    |\n",
       "|    loss             | 7.27     |\n",
       "|    n_updates        | 574      |\n",
       "----------------------------------\n",
       "</pre>\n"
      ],
      "text/plain": [
       "----------------------------------\n",
       "| rollout/            |          |\n",
       "|    exploration_rate | 0.05     |\n",
       "| time/               |          |\n",
       "|    episodes         | 12       |\n",
       "|    fps              | 194      |\n",
       "|    time_elapsed     | 2        |\n",
       "|    total_timesteps  | 2400     |\n",
       "| train/              |          |\n",
       "|    learning_rate    | 0.001    |\n",
       "|    loss             | 7.27     |\n",
       "|    n_updates        | 574      |\n",
       "----------------------------------\n"
      ]
     },
     "metadata": {},
     "output_type": "display_data"
    },
    {
     "data": {
      "text/html": [
       "<pre style=\"white-space:pre;overflow-x:auto;line-height:normal;font-family:Menlo,'DejaVu Sans Mono',consolas,'Courier New',monospace\">Finished training episode 3\n",
       "</pre>\n"
      ],
      "text/plain": [
       "Finished training episode 3\n"
      ]
     },
     "metadata": {},
     "output_type": "display_data"
    },
    {
     "data": {
      "text/html": [
       "<pre style=\"white-space:pre;overflow-x:auto;line-height:normal;font-family:Menlo,'DejaVu Sans Mono',consolas,'Courier New',monospace\">----------------------------------\n",
       "| rollout/            |          |\n",
       "|    exploration_rate | 0.05     |\n",
       "| time/               |          |\n",
       "|    episodes         | 16       |\n",
       "|    fps              | 192      |\n",
       "|    time_elapsed     | 1        |\n",
       "|    total_timesteps  | 3200     |\n",
       "| train/              |          |\n",
       "|    learning_rate    | 0.001    |\n",
       "|    loss             | 5.59     |\n",
       "|    n_updates        | 774      |\n",
       "----------------------------------\n",
       "</pre>\n"
      ],
      "text/plain": [
       "----------------------------------\n",
       "| rollout/            |          |\n",
       "|    exploration_rate | 0.05     |\n",
       "| time/               |          |\n",
       "|    episodes         | 16       |\n",
       "|    fps              | 192      |\n",
       "|    time_elapsed     | 1        |\n",
       "|    total_timesteps  | 3200     |\n",
       "| train/              |          |\n",
       "|    learning_rate    | 0.001    |\n",
       "|    loss             | 5.59     |\n",
       "|    n_updates        | 774      |\n",
       "----------------------------------\n"
      ]
     },
     "metadata": {},
     "output_type": "display_data"
    },
    {
     "data": {
      "text/html": [
       "<pre style=\"white-space:pre;overflow-x:auto;line-height:normal;font-family:Menlo,'DejaVu Sans Mono',consolas,'Courier New',monospace\">----------------------------------\n",
       "| rollout/            |          |\n",
       "|    exploration_rate | 0.05     |\n",
       "| time/               |          |\n",
       "|    episodes         | 20       |\n",
       "|    fps              | 191      |\n",
       "|    time_elapsed     | 5        |\n",
       "|    total_timesteps  | 4000     |\n",
       "| train/              |          |\n",
       "|    learning_rate    | 0.001    |\n",
       "|    loss             | 5.74     |\n",
       "|    n_updates        | 974      |\n",
       "----------------------------------\n",
       "</pre>\n"
      ],
      "text/plain": [
       "----------------------------------\n",
       "| rollout/            |          |\n",
       "|    exploration_rate | 0.05     |\n",
       "| time/               |          |\n",
       "|    episodes         | 20       |\n",
       "|    fps              | 191      |\n",
       "|    time_elapsed     | 5        |\n",
       "|    total_timesteps  | 4000     |\n",
       "| train/              |          |\n",
       "|    learning_rate    | 0.001    |\n",
       "|    loss             | 5.74     |\n",
       "|    n_updates        | 974      |\n",
       "----------------------------------\n"
      ]
     },
     "metadata": {},
     "output_type": "display_data"
    },
    {
     "data": {
      "text/html": [
       "<pre style=\"white-space:pre;overflow-x:auto;line-height:normal;font-family:Menlo,'DejaVu Sans Mono',consolas,'Courier New',monospace\">Finished training episode 4\n",
       "</pre>\n"
      ],
      "text/plain": [
       "Finished training episode 4\n"
      ]
     },
     "metadata": {},
     "output_type": "display_data"
    },
    {
     "data": {
      "text/html": [
       "<pre style=\"white-space:pre;overflow-x:auto;line-height:normal;font-family:Menlo,'DejaVu Sans Mono',consolas,'Courier New',monospace\">----------------------------------\n",
       "| rollout/            |          |\n",
       "|    exploration_rate | 0.05     |\n",
       "| time/               |          |\n",
       "|    episodes         | 24       |\n",
       "|    fps              | 195      |\n",
       "|    time_elapsed     | 4        |\n",
       "|    total_timesteps  | 4800     |\n",
       "| train/              |          |\n",
       "|    learning_rate    | 0.001    |\n",
       "|    loss             | 5.26     |\n",
       "|    n_updates        | 1174     |\n",
       "----------------------------------\n",
       "</pre>\n"
      ],
      "text/plain": [
       "----------------------------------\n",
       "| rollout/            |          |\n",
       "|    exploration_rate | 0.05     |\n",
       "| time/               |          |\n",
       "|    episodes         | 24       |\n",
       "|    fps              | 195      |\n",
       "|    time_elapsed     | 4        |\n",
       "|    total_timesteps  | 4800     |\n",
       "| train/              |          |\n",
       "|    learning_rate    | 0.001    |\n",
       "|    loss             | 5.26     |\n",
       "|    n_updates        | 1174     |\n",
       "----------------------------------\n"
      ]
     },
     "metadata": {},
     "output_type": "display_data"
    },
    {
     "data": {
      "text/html": [
       "<pre style=\"white-space:pre;overflow-x:auto;line-height:normal;font-family:Menlo,'DejaVu Sans Mono',consolas,'Courier New',monospace\">Finished training episode 5\n",
       "</pre>\n"
      ],
      "text/plain": [
       "Finished training episode 5\n"
      ]
     },
     "metadata": {},
     "output_type": "display_data"
    },
    {
     "data": {
      "text/html": [
       "<pre style=\"white-space:pre;overflow-x:auto;line-height:normal;font-family:Menlo,'DejaVu Sans Mono',consolas,'Courier New',monospace\">----------------------------------\n",
       "| rollout/            |          |\n",
       "|    exploration_rate | 0.05     |\n",
       "| time/               |          |\n",
       "|    episodes         | 28       |\n",
       "|    fps              | 199      |\n",
       "|    time_elapsed     | 3        |\n",
       "|    total_timesteps  | 5600     |\n",
       "| train/              |          |\n",
       "|    learning_rate    | 0.001    |\n",
       "|    loss             | 5.41     |\n",
       "|    n_updates        | 1374     |\n",
       "----------------------------------\n",
       "</pre>\n"
      ],
      "text/plain": [
       "----------------------------------\n",
       "| rollout/            |          |\n",
       "|    exploration_rate | 0.05     |\n",
       "| time/               |          |\n",
       "|    episodes         | 28       |\n",
       "|    fps              | 199      |\n",
       "|    time_elapsed     | 3        |\n",
       "|    total_timesteps  | 5600     |\n",
       "| train/              |          |\n",
       "|    learning_rate    | 0.001    |\n",
       "|    loss             | 5.41     |\n",
       "|    n_updates        | 1374     |\n",
       "----------------------------------\n"
      ]
     },
     "metadata": {},
     "output_type": "display_data"
    },
    {
     "data": {
      "text/html": [
       "<pre style=\"white-space:pre;overflow-x:auto;line-height:normal;font-family:Menlo,'DejaVu Sans Mono',consolas,'Courier New',monospace\">Finished training episode 6\n",
       "</pre>\n"
      ],
      "text/plain": [
       "Finished training episode 6\n"
      ]
     },
     "metadata": {},
     "output_type": "display_data"
    },
    {
     "data": {
      "text/html": [
       "<pre style=\"white-space:pre;overflow-x:auto;line-height:normal;font-family:Menlo,'DejaVu Sans Mono',consolas,'Courier New',monospace\">----------------------------------\n",
       "| rollout/            |          |\n",
       "|    exploration_rate | 0.05     |\n",
       "| time/               |          |\n",
       "|    episodes         | 32       |\n",
       "|    fps              | 204      |\n",
       "|    time_elapsed     | 1        |\n",
       "|    total_timesteps  | 6400     |\n",
       "| train/              |          |\n",
       "|    learning_rate    | 0.001    |\n",
       "|    loss             | 4.96     |\n",
       "|    n_updates        | 1574     |\n",
       "----------------------------------\n",
       "</pre>\n"
      ],
      "text/plain": [
       "----------------------------------\n",
       "| rollout/            |          |\n",
       "|    exploration_rate | 0.05     |\n",
       "| time/               |          |\n",
       "|    episodes         | 32       |\n",
       "|    fps              | 204      |\n",
       "|    time_elapsed     | 1        |\n",
       "|    total_timesteps  | 6400     |\n",
       "| train/              |          |\n",
       "|    learning_rate    | 0.001    |\n",
       "|    loss             | 4.96     |\n",
       "|    n_updates        | 1574     |\n",
       "----------------------------------\n"
      ]
     },
     "metadata": {},
     "output_type": "display_data"
    },
    {
     "data": {
      "text/html": [
       "<pre style=\"white-space:pre;overflow-x:auto;line-height:normal;font-family:Menlo,'DejaVu Sans Mono',consolas,'Courier New',monospace\">Finished training episode 7\n",
       "</pre>\n"
      ],
      "text/plain": [
       "Finished training episode 7\n"
      ]
     },
     "metadata": {},
     "output_type": "display_data"
    },
    {
     "data": {
      "text/html": [
       "<pre style=\"white-space:pre;overflow-x:auto;line-height:normal;font-family:Menlo,'DejaVu Sans Mono',consolas,'Courier New',monospace\">----------------------------------\n",
       "| rollout/            |          |\n",
       "|    exploration_rate | 0.05     |\n",
       "| time/               |          |\n",
       "|    episodes         | 36       |\n",
       "|    fps              | 193      |\n",
       "|    time_elapsed     | 1        |\n",
       "|    total_timesteps  | 7200     |\n",
       "| train/              |          |\n",
       "|    learning_rate    | 0.001    |\n",
       "|    loss             | 5.97     |\n",
       "|    n_updates        | 1774     |\n",
       "----------------------------------\n",
       "</pre>\n"
      ],
      "text/plain": [
       "----------------------------------\n",
       "| rollout/            |          |\n",
       "|    exploration_rate | 0.05     |\n",
       "| time/               |          |\n",
       "|    episodes         | 36       |\n",
       "|    fps              | 193      |\n",
       "|    time_elapsed     | 1        |\n",
       "|    total_timesteps  | 7200     |\n",
       "| train/              |          |\n",
       "|    learning_rate    | 0.001    |\n",
       "|    loss             | 5.97     |\n",
       "|    n_updates        | 1774     |\n",
       "----------------------------------\n"
      ]
     },
     "metadata": {},
     "output_type": "display_data"
    },
    {
     "data": {
      "text/html": [
       "<pre style=\"white-space:pre;overflow-x:auto;line-height:normal;font-family:Menlo,'DejaVu Sans Mono',consolas,'Courier New',monospace\">----------------------------------\n",
       "| rollout/            |          |\n",
       "|    exploration_rate | 0.05     |\n",
       "| time/               |          |\n",
       "|    episodes         | 40       |\n",
       "|    fps              | 198      |\n",
       "|    time_elapsed     | 5        |\n",
       "|    total_timesteps  | 8000     |\n",
       "| train/              |          |\n",
       "|    learning_rate    | 0.001    |\n",
       "|    loss             | 5.35     |\n",
       "|    n_updates        | 1974     |\n",
       "----------------------------------\n",
       "</pre>\n"
      ],
      "text/plain": [
       "----------------------------------\n",
       "| rollout/            |          |\n",
       "|    exploration_rate | 0.05     |\n",
       "| time/               |          |\n",
       "|    episodes         | 40       |\n",
       "|    fps              | 198      |\n",
       "|    time_elapsed     | 5        |\n",
       "|    total_timesteps  | 8000     |\n",
       "| train/              |          |\n",
       "|    learning_rate    | 0.001    |\n",
       "|    loss             | 5.35     |\n",
       "|    n_updates        | 1974     |\n",
       "----------------------------------\n"
      ]
     },
     "metadata": {},
     "output_type": "display_data"
    },
    {
     "data": {
      "text/html": [
       "<pre style=\"white-space:pre;overflow-x:auto;line-height:normal;font-family:Menlo,'DejaVu Sans Mono',consolas,'Courier New',monospace\">Finished training episode 8\n",
       "</pre>\n"
      ],
      "text/plain": [
       "Finished training episode 8\n"
      ]
     },
     "metadata": {},
     "output_type": "display_data"
    },
    {
     "data": {
      "text/html": [
       "<pre style=\"white-space:pre;overflow-x:auto;line-height:normal;font-family:Menlo,'DejaVu Sans Mono',consolas,'Courier New',monospace\">----------------------------------\n",
       "| rollout/            |          |\n",
       "|    exploration_rate | 0.05     |\n",
       "| time/               |          |\n",
       "|    episodes         | 44       |\n",
       "|    fps              | 198      |\n",
       "|    time_elapsed     | 4        |\n",
       "|    total_timesteps  | 8800     |\n",
       "| train/              |          |\n",
       "|    learning_rate    | 0.001    |\n",
       "|    loss             | 4.4      |\n",
       "|    n_updates        | 2174     |\n",
       "----------------------------------\n",
       "</pre>\n"
      ],
      "text/plain": [
       "----------------------------------\n",
       "| rollout/            |          |\n",
       "|    exploration_rate | 0.05     |\n",
       "| time/               |          |\n",
       "|    episodes         | 44       |\n",
       "|    fps              | 198      |\n",
       "|    time_elapsed     | 4        |\n",
       "|    total_timesteps  | 8800     |\n",
       "| train/              |          |\n",
       "|    learning_rate    | 0.001    |\n",
       "|    loss             | 4.4      |\n",
       "|    n_updates        | 2174     |\n",
       "----------------------------------\n"
      ]
     },
     "metadata": {},
     "output_type": "display_data"
    },
    {
     "data": {
      "text/html": [
       "<pre style=\"white-space:pre;overflow-x:auto;line-height:normal;font-family:Menlo,'DejaVu Sans Mono',consolas,'Courier New',monospace\">Finished training episode 9\n",
       "</pre>\n"
      ],
      "text/plain": [
       "Finished training episode 9\n"
      ]
     },
     "metadata": {},
     "output_type": "display_data"
    },
    {
     "data": {
      "text/html": [
       "<pre style=\"white-space:pre;overflow-x:auto;line-height:normal;font-family:Menlo,'DejaVu Sans Mono',consolas,'Courier New',monospace\">----------------------------------\n",
       "| rollout/            |          |\n",
       "|    exploration_rate | 0.05     |\n",
       "| time/               |          |\n",
       "|    episodes         | 48       |\n",
       "|    fps              | 200      |\n",
       "|    time_elapsed     | 2        |\n",
       "|    total_timesteps  | 9600     |\n",
       "| train/              |          |\n",
       "|    learning_rate    | 0.001    |\n",
       "|    loss             | 4.14     |\n",
       "|    n_updates        | 2374     |\n",
       "----------------------------------\n",
       "</pre>\n"
      ],
      "text/plain": [
       "----------------------------------\n",
       "| rollout/            |          |\n",
       "|    exploration_rate | 0.05     |\n",
       "| time/               |          |\n",
       "|    episodes         | 48       |\n",
       "|    fps              | 200      |\n",
       "|    time_elapsed     | 2        |\n",
       "|    total_timesteps  | 9600     |\n",
       "| train/              |          |\n",
       "|    learning_rate    | 0.001    |\n",
       "|    loss             | 4.14     |\n",
       "|    n_updates        | 2374     |\n",
       "----------------------------------\n"
      ]
     },
     "metadata": {},
     "output_type": "display_data"
    },
    {
     "data": {
      "text/html": [
       "<pre style=\"white-space:pre;overflow-x:auto;line-height:normal;font-family:Menlo,'DejaVu Sans Mono',consolas,'Courier New',monospace\">Finished training episode 10\n",
       "</pre>\n"
      ],
      "text/plain": [
       "Finished training episode 10\n"
      ]
     },
     "metadata": {},
     "output_type": "display_data"
    },
    {
     "data": {
      "text/html": [
       "<pre style=\"white-space:pre;overflow-x:auto;line-height:normal;font-family:Menlo,'DejaVu Sans Mono',consolas,'Courier New',monospace\">----------------------------------\n",
       "| rollout/            |          |\n",
       "|    exploration_rate | 0.05     |\n",
       "| time/               |          |\n",
       "|    episodes         | 52       |\n",
       "|    fps              | 192      |\n",
       "|    time_elapsed     | 2        |\n",
       "|    total_timesteps  | 10400    |\n",
       "| train/              |          |\n",
       "|    learning_rate    | 0.001    |\n",
       "|    loss             | 5.65     |\n",
       "|    n_updates        | 2574     |\n",
       "----------------------------------\n",
       "</pre>\n"
      ],
      "text/plain": [
       "----------------------------------\n",
       "| rollout/            |          |\n",
       "|    exploration_rate | 0.05     |\n",
       "| time/               |          |\n",
       "|    episodes         | 52       |\n",
       "|    fps              | 192      |\n",
       "|    time_elapsed     | 2        |\n",
       "|    total_timesteps  | 10400    |\n",
       "| train/              |          |\n",
       "|    learning_rate    | 0.001    |\n",
       "|    loss             | 5.65     |\n",
       "|    n_updates        | 2574     |\n",
       "----------------------------------\n"
      ]
     },
     "metadata": {},
     "output_type": "display_data"
    },
    {
     "data": {
      "text/html": [
       "<pre style=\"white-space:pre;overflow-x:auto;line-height:normal;font-family:Menlo,'DejaVu Sans Mono',consolas,'Courier New',monospace\">Finished training episode 11\n",
       "</pre>\n"
      ],
      "text/plain": [
       "Finished training episode 11\n"
      ]
     },
     "metadata": {},
     "output_type": "display_data"
    },
    {
     "data": {
      "text/html": [
       "<pre style=\"white-space:pre;overflow-x:auto;line-height:normal;font-family:Menlo,'DejaVu Sans Mono',consolas,'Courier New',monospace\">----------------------------------\n",
       "| rollout/            |          |\n",
       "|    exploration_rate | 0.05     |\n",
       "| time/               |          |\n",
       "|    episodes         | 56       |\n",
       "|    fps              | 199      |\n",
       "|    time_elapsed     | 1        |\n",
       "|    total_timesteps  | 11200    |\n",
       "| train/              |          |\n",
       "|    learning_rate    | 0.001    |\n",
       "|    loss             | 5.74     |\n",
       "|    n_updates        | 2774     |\n",
       "----------------------------------\n",
       "</pre>\n"
      ],
      "text/plain": [
       "----------------------------------\n",
       "| rollout/            |          |\n",
       "|    exploration_rate | 0.05     |\n",
       "| time/               |          |\n",
       "|    episodes         | 56       |\n",
       "|    fps              | 199      |\n",
       "|    time_elapsed     | 1        |\n",
       "|    total_timesteps  | 11200    |\n",
       "| train/              |          |\n",
       "|    learning_rate    | 0.001    |\n",
       "|    loss             | 5.74     |\n",
       "|    n_updates        | 2774     |\n",
       "----------------------------------\n"
      ]
     },
     "metadata": {},
     "output_type": "display_data"
    },
    {
     "data": {
      "text/html": [
       "<pre style=\"white-space:pre;overflow-x:auto;line-height:normal;font-family:Menlo,'DejaVu Sans Mono',consolas,'Courier New',monospace\">----------------------------------\n",
       "| rollout/            |          |\n",
       "|    exploration_rate | 0.05     |\n",
       "| time/               |          |\n",
       "|    episodes         | 60       |\n",
       "|    fps              | 196      |\n",
       "|    time_elapsed     | 5        |\n",
       "|    total_timesteps  | 12000    |\n",
       "| train/              |          |\n",
       "|    learning_rate    | 0.001    |\n",
       "|    loss             | 13.6     |\n",
       "|    n_updates        | 2974     |\n",
       "----------------------------------\n",
       "</pre>\n"
      ],
      "text/plain": [
       "----------------------------------\n",
       "| rollout/            |          |\n",
       "|    exploration_rate | 0.05     |\n",
       "| time/               |          |\n",
       "|    episodes         | 60       |\n",
       "|    fps              | 196      |\n",
       "|    time_elapsed     | 5        |\n",
       "|    total_timesteps  | 12000    |\n",
       "| train/              |          |\n",
       "|    learning_rate    | 0.001    |\n",
       "|    loss             | 13.6     |\n",
       "|    n_updates        | 2974     |\n",
       "----------------------------------\n"
      ]
     },
     "metadata": {},
     "output_type": "display_data"
    },
    {
     "data": {
      "text/html": [
       "<pre style=\"white-space:pre;overflow-x:auto;line-height:normal;font-family:Menlo,'DejaVu Sans Mono',consolas,'Courier New',monospace\">Finished training episode 12\n",
       "</pre>\n"
      ],
      "text/plain": [
       "Finished training episode 12\n"
      ]
     },
     "metadata": {},
     "output_type": "display_data"
    },
    {
     "data": {
      "text/html": [
       "<pre style=\"white-space:pre;overflow-x:auto;line-height:normal;font-family:Menlo,'DejaVu Sans Mono',consolas,'Courier New',monospace\">----------------------------------\n",
       "| rollout/            |          |\n",
       "|    exploration_rate | 0.05     |\n",
       "| time/               |          |\n",
       "|    episodes         | 64       |\n",
       "|    fps              | 194      |\n",
       "|    time_elapsed     | 4        |\n",
       "|    total_timesteps  | 12800    |\n",
       "| train/              |          |\n",
       "|    learning_rate    | 0.001    |\n",
       "|    loss             | 6.64     |\n",
       "|    n_updates        | 3174     |\n",
       "----------------------------------\n",
       "</pre>\n"
      ],
      "text/plain": [
       "----------------------------------\n",
       "| rollout/            |          |\n",
       "|    exploration_rate | 0.05     |\n",
       "| time/               |          |\n",
       "|    episodes         | 64       |\n",
       "|    fps              | 194      |\n",
       "|    time_elapsed     | 4        |\n",
       "|    total_timesteps  | 12800    |\n",
       "| train/              |          |\n",
       "|    learning_rate    | 0.001    |\n",
       "|    loss             | 6.64     |\n",
       "|    n_updates        | 3174     |\n",
       "----------------------------------\n"
      ]
     },
     "metadata": {},
     "output_type": "display_data"
    },
    {
     "data": {
      "text/html": [
       "<pre style=\"white-space:pre;overflow-x:auto;line-height:normal;font-family:Menlo,'DejaVu Sans Mono',consolas,'Courier New',monospace\">Finished training episode 13\n",
       "</pre>\n"
      ],
      "text/plain": [
       "Finished training episode 13\n"
      ]
     },
     "metadata": {},
     "output_type": "display_data"
    },
    {
     "data": {
      "text/html": [
       "<pre style=\"white-space:pre;overflow-x:auto;line-height:normal;font-family:Menlo,'DejaVu Sans Mono',consolas,'Courier New',monospace\">----------------------------------\n",
       "| rollout/            |          |\n",
       "|    exploration_rate | 0.05     |\n",
       "| time/               |          |\n",
       "|    episodes         | 68       |\n",
       "|    fps              | 196      |\n",
       "|    time_elapsed     | 3        |\n",
       "|    total_timesteps  | 13600    |\n",
       "| train/              |          |\n",
       "|    learning_rate    | 0.001    |\n",
       "|    loss             | 9.58     |\n",
       "|    n_updates        | 3374     |\n",
       "----------------------------------\n",
       "</pre>\n"
      ],
      "text/plain": [
       "----------------------------------\n",
       "| rollout/            |          |\n",
       "|    exploration_rate | 0.05     |\n",
       "| time/               |          |\n",
       "|    episodes         | 68       |\n",
       "|    fps              | 196      |\n",
       "|    time_elapsed     | 3        |\n",
       "|    total_timesteps  | 13600    |\n",
       "| train/              |          |\n",
       "|    learning_rate    | 0.001    |\n",
       "|    loss             | 9.58     |\n",
       "|    n_updates        | 3374     |\n",
       "----------------------------------\n"
      ]
     },
     "metadata": {},
     "output_type": "display_data"
    },
    {
     "data": {
      "text/html": [
       "<pre style=\"white-space:pre;overflow-x:auto;line-height:normal;font-family:Menlo,'DejaVu Sans Mono',consolas,'Courier New',monospace\">Finished training episode 14\n",
       "</pre>\n"
      ],
      "text/plain": [
       "Finished training episode 14\n"
      ]
     },
     "metadata": {},
     "output_type": "display_data"
    },
    {
     "data": {
      "text/html": [
       "<pre style=\"white-space:pre;overflow-x:auto;line-height:normal;font-family:Menlo,'DejaVu Sans Mono',consolas,'Courier New',monospace\">----------------------------------\n",
       "| rollout/            |          |\n",
       "|    exploration_rate | 0.05     |\n",
       "| time/               |          |\n",
       "|    episodes         | 72       |\n",
       "|    fps              | 194      |\n",
       "|    time_elapsed     | 2        |\n",
       "|    total_timesteps  | 14400    |\n",
       "| train/              |          |\n",
       "|    learning_rate    | 0.001    |\n",
       "|    loss             | 8.89     |\n",
       "|    n_updates        | 3574     |\n",
       "----------------------------------\n",
       "</pre>\n"
      ],
      "text/plain": [
       "----------------------------------\n",
       "| rollout/            |          |\n",
       "|    exploration_rate | 0.05     |\n",
       "| time/               |          |\n",
       "|    episodes         | 72       |\n",
       "|    fps              | 194      |\n",
       "|    time_elapsed     | 2        |\n",
       "|    total_timesteps  | 14400    |\n",
       "| train/              |          |\n",
       "|    learning_rate    | 0.001    |\n",
       "|    loss             | 8.89     |\n",
       "|    n_updates        | 3574     |\n",
       "----------------------------------\n"
      ]
     },
     "metadata": {},
     "output_type": "display_data"
    },
    {
     "data": {
      "text/html": [
       "<pre style=\"white-space:pre;overflow-x:auto;line-height:normal;font-family:Menlo,'DejaVu Sans Mono',consolas,'Courier New',monospace\">Finished training episode 15\n",
       "</pre>\n"
      ],
      "text/plain": [
       "Finished training episode 15\n"
      ]
     },
     "metadata": {},
     "output_type": "display_data"
    },
    {
     "data": {
      "text/html": [
       "<pre style=\"white-space:pre;overflow-x:auto;line-height:normal;font-family:Menlo,'DejaVu Sans Mono',consolas,'Courier New',monospace\">----------------------------------\n",
       "| rollout/            |          |\n",
       "|    exploration_rate | 0.05     |\n",
       "| time/               |          |\n",
       "|    episodes         | 76       |\n",
       "|    fps              | 193      |\n",
       "|    time_elapsed     | 1        |\n",
       "|    total_timesteps  | 15200    |\n",
       "| train/              |          |\n",
       "|    learning_rate    | 0.001    |\n",
       "|    loss             | 6.49     |\n",
       "|    n_updates        | 3774     |\n",
       "----------------------------------\n",
       "</pre>\n"
      ],
      "text/plain": [
       "----------------------------------\n",
       "| rollout/            |          |\n",
       "|    exploration_rate | 0.05     |\n",
       "| time/               |          |\n",
       "|    episodes         | 76       |\n",
       "|    fps              | 193      |\n",
       "|    time_elapsed     | 1        |\n",
       "|    total_timesteps  | 15200    |\n",
       "| train/              |          |\n",
       "|    learning_rate    | 0.001    |\n",
       "|    loss             | 6.49     |\n",
       "|    n_updates        | 3774     |\n",
       "----------------------------------\n"
      ]
     },
     "metadata": {},
     "output_type": "display_data"
    },
    {
     "data": {
      "text/html": [
       "<pre style=\"white-space:pre;overflow-x:auto;line-height:normal;font-family:Menlo,'DejaVu Sans Mono',consolas,'Courier New',monospace\">----------------------------------\n",
       "| rollout/            |          |\n",
       "|    exploration_rate | 0.05     |\n",
       "| time/               |          |\n",
       "|    episodes         | 80       |\n",
       "|    fps              | 194      |\n",
       "|    time_elapsed     | 5        |\n",
       "|    total_timesteps  | 16000    |\n",
       "| train/              |          |\n",
       "|    learning_rate    | 0.001    |\n",
       "|    loss             | 5.12     |\n",
       "|    n_updates        | 3974     |\n",
       "----------------------------------\n",
       "</pre>\n"
      ],
      "text/plain": [
       "----------------------------------\n",
       "| rollout/            |          |\n",
       "|    exploration_rate | 0.05     |\n",
       "| time/               |          |\n",
       "|    episodes         | 80       |\n",
       "|    fps              | 194      |\n",
       "|    time_elapsed     | 5        |\n",
       "|    total_timesteps  | 16000    |\n",
       "| train/              |          |\n",
       "|    learning_rate    | 0.001    |\n",
       "|    loss             | 5.12     |\n",
       "|    n_updates        | 3974     |\n",
       "----------------------------------\n"
      ]
     },
     "metadata": {},
     "output_type": "display_data"
    },
    {
     "data": {
      "text/html": [
       "<pre style=\"white-space:pre;overflow-x:auto;line-height:normal;font-family:Menlo,'DejaVu Sans Mono',consolas,'Courier New',monospace\">Finished training episode 16\n",
       "</pre>\n"
      ],
      "text/plain": [
       "Finished training episode 16\n"
      ]
     },
     "metadata": {},
     "output_type": "display_data"
    },
    {
     "data": {
      "text/html": [
       "<pre style=\"white-space:pre;overflow-x:auto;line-height:normal;font-family:Menlo,'DejaVu Sans Mono',consolas,'Courier New',monospace\">----------------------------------\n",
       "| rollout/            |          |\n",
       "|    exploration_rate | 0.05     |\n",
       "| time/               |          |\n",
       "|    episodes         | 84       |\n",
       "|    fps              | 199      |\n",
       "|    time_elapsed     | 4        |\n",
       "|    total_timesteps  | 16800    |\n",
       "| train/              |          |\n",
       "|    learning_rate    | 0.001    |\n",
       "|    loss             | 4.85     |\n",
       "|    n_updates        | 4174     |\n",
       "----------------------------------\n",
       "</pre>\n"
      ],
      "text/plain": [
       "----------------------------------\n",
       "| rollout/            |          |\n",
       "|    exploration_rate | 0.05     |\n",
       "| time/               |          |\n",
       "|    episodes         | 84       |\n",
       "|    fps              | 199      |\n",
       "|    time_elapsed     | 4        |\n",
       "|    total_timesteps  | 16800    |\n",
       "| train/              |          |\n",
       "|    learning_rate    | 0.001    |\n",
       "|    loss             | 4.85     |\n",
       "|    n_updates        | 4174     |\n",
       "----------------------------------\n"
      ]
     },
     "metadata": {},
     "output_type": "display_data"
    },
    {
     "data": {
      "text/html": [
       "<pre style=\"white-space:pre;overflow-x:auto;line-height:normal;font-family:Menlo,'DejaVu Sans Mono',consolas,'Courier New',monospace\">Finished training episode 17\n",
       "</pre>\n"
      ],
      "text/plain": [
       "Finished training episode 17\n"
      ]
     },
     "metadata": {},
     "output_type": "display_data"
    },
    {
     "data": {
      "text/html": [
       "<pre style=\"white-space:pre;overflow-x:auto;line-height:normal;font-family:Menlo,'DejaVu Sans Mono',consolas,'Courier New',monospace\">----------------------------------\n",
       "| rollout/            |          |\n",
       "|    exploration_rate | 0.05     |\n",
       "| time/               |          |\n",
       "|    episodes         | 88       |\n",
       "|    fps              | 197      |\n",
       "|    time_elapsed     | 3        |\n",
       "|    total_timesteps  | 17600    |\n",
       "| train/              |          |\n",
       "|    learning_rate    | 0.001    |\n",
       "|    loss             | 5.51     |\n",
       "|    n_updates        | 4374     |\n",
       "----------------------------------\n",
       "</pre>\n"
      ],
      "text/plain": [
       "----------------------------------\n",
       "| rollout/            |          |\n",
       "|    exploration_rate | 0.05     |\n",
       "| time/               |          |\n",
       "|    episodes         | 88       |\n",
       "|    fps              | 197      |\n",
       "|    time_elapsed     | 3        |\n",
       "|    total_timesteps  | 17600    |\n",
       "| train/              |          |\n",
       "|    learning_rate    | 0.001    |\n",
       "|    loss             | 5.51     |\n",
       "|    n_updates        | 4374     |\n",
       "----------------------------------\n"
      ]
     },
     "metadata": {},
     "output_type": "display_data"
    },
    {
     "data": {
      "text/html": [
       "<pre style=\"white-space:pre;overflow-x:auto;line-height:normal;font-family:Menlo,'DejaVu Sans Mono',consolas,'Courier New',monospace\">Finished training episode 18\n",
       "</pre>\n"
      ],
      "text/plain": [
       "Finished training episode 18\n"
      ]
     },
     "metadata": {},
     "output_type": "display_data"
    },
    {
     "data": {
      "text/html": [
       "<pre style=\"white-space:pre;overflow-x:auto;line-height:normal;font-family:Menlo,'DejaVu Sans Mono',consolas,'Courier New',monospace\">----------------------------------\n",
       "| rollout/            |          |\n",
       "|    exploration_rate | 0.05     |\n",
       "| time/               |          |\n",
       "|    episodes         | 92       |\n",
       "|    fps              | 203      |\n",
       "|    time_elapsed     | 1        |\n",
       "|    total_timesteps  | 18400    |\n",
       "| train/              |          |\n",
       "|    learning_rate    | 0.001    |\n",
       "|    loss             | 9.12     |\n",
       "|    n_updates        | 4574     |\n",
       "----------------------------------\n",
       "</pre>\n"
      ],
      "text/plain": [
       "----------------------------------\n",
       "| rollout/            |          |\n",
       "|    exploration_rate | 0.05     |\n",
       "| time/               |          |\n",
       "|    episodes         | 92       |\n",
       "|    fps              | 203      |\n",
       "|    time_elapsed     | 1        |\n",
       "|    total_timesteps  | 18400    |\n",
       "| train/              |          |\n",
       "|    learning_rate    | 0.001    |\n",
       "|    loss             | 9.12     |\n",
       "|    n_updates        | 4574     |\n",
       "----------------------------------\n"
      ]
     },
     "metadata": {},
     "output_type": "display_data"
    },
    {
     "data": {
      "text/html": [
       "<pre style=\"white-space:pre;overflow-x:auto;line-height:normal;font-family:Menlo,'DejaVu Sans Mono',consolas,'Courier New',monospace\">Finished training episode 19\n",
       "</pre>\n"
      ],
      "text/plain": [
       "Finished training episode 19\n"
      ]
     },
     "metadata": {},
     "output_type": "display_data"
    },
    {
     "data": {
      "text/html": [
       "<pre style=\"white-space:pre;overflow-x:auto;line-height:normal;font-family:Menlo,'DejaVu Sans Mono',consolas,'Courier New',monospace\">----------------------------------\n",
       "| rollout/            |          |\n",
       "|    exploration_rate | 0.05     |\n",
       "| time/               |          |\n",
       "|    episodes         | 96       |\n",
       "|    fps              | 202      |\n",
       "|    time_elapsed     | 0        |\n",
       "|    total_timesteps  | 19200    |\n",
       "| train/              |          |\n",
       "|    learning_rate    | 0.001    |\n",
       "|    loss             | 10.3     |\n",
       "|    n_updates        | 4774     |\n",
       "----------------------------------\n",
       "</pre>\n"
      ],
      "text/plain": [
       "----------------------------------\n",
       "| rollout/            |          |\n",
       "|    exploration_rate | 0.05     |\n",
       "| time/               |          |\n",
       "|    episodes         | 96       |\n",
       "|    fps              | 202      |\n",
       "|    time_elapsed     | 0        |\n",
       "|    total_timesteps  | 19200    |\n",
       "| train/              |          |\n",
       "|    learning_rate    | 0.001    |\n",
       "|    loss             | 10.3     |\n",
       "|    n_updates        | 4774     |\n",
       "----------------------------------\n"
      ]
     },
     "metadata": {},
     "output_type": "display_data"
    },
    {
     "data": {
      "text/html": [
       "<pre style=\"white-space:pre;overflow-x:auto;line-height:normal;font-family:Menlo,'DejaVu Sans Mono',consolas,'Courier New',monospace\">----------------------------------\n",
       "| rollout/            |          |\n",
       "|    exploration_rate | 0.05     |\n",
       "| time/               |          |\n",
       "|    episodes         | 100      |\n",
       "|    fps              | 199      |\n",
       "|    time_elapsed     | 5        |\n",
       "|    total_timesteps  | 20000    |\n",
       "| train/              |          |\n",
       "|    learning_rate    | 0.001    |\n",
       "|    loss             | 5.84     |\n",
       "|    n_updates        | 4974     |\n",
       "----------------------------------\n",
       "</pre>\n"
      ],
      "text/plain": [
       "----------------------------------\n",
       "| rollout/            |          |\n",
       "|    exploration_rate | 0.05     |\n",
       "| time/               |          |\n",
       "|    episodes         | 100      |\n",
       "|    fps              | 199      |\n",
       "|    time_elapsed     | 5        |\n",
       "|    total_timesteps  | 20000    |\n",
       "| train/              |          |\n",
       "|    learning_rate    | 0.001    |\n",
       "|    loss             | 5.84     |\n",
       "|    n_updates        | 4974     |\n",
       "----------------------------------\n"
      ]
     },
     "metadata": {},
     "output_type": "display_data"
    },
    {
     "data": {
      "text/html": [
       "<pre style=\"white-space:pre;overflow-x:auto;line-height:normal;font-family:Menlo,'DejaVu Sans Mono',consolas,'Courier New',monospace\">Finished training episode 20\n",
       "</pre>\n"
      ],
      "text/plain": [
       "Finished training episode 20\n"
      ]
     },
     "metadata": {},
     "output_type": "display_data"
    },
    {
     "data": {
      "text/html": [
       "<pre style=\"white-space:pre;overflow-x:auto;line-height:normal;font-family:Menlo,'DejaVu Sans Mono',consolas,'Courier New',monospace\">----------------------------------\n",
       "| rollout/            |          |\n",
       "|    exploration_rate | 0.05     |\n",
       "| time/               |          |\n",
       "|    episodes         | 104      |\n",
       "|    fps              | 193      |\n",
       "|    time_elapsed     | 4        |\n",
       "|    total_timesteps  | 20800    |\n",
       "| train/              |          |\n",
       "|    learning_rate    | 0.001    |\n",
       "|    loss             | 7.04     |\n",
       "|    n_updates        | 5174     |\n",
       "----------------------------------\n",
       "</pre>\n"
      ],
      "text/plain": [
       "----------------------------------\n",
       "| rollout/            |          |\n",
       "|    exploration_rate | 0.05     |\n",
       "| time/               |          |\n",
       "|    episodes         | 104      |\n",
       "|    fps              | 193      |\n",
       "|    time_elapsed     | 4        |\n",
       "|    total_timesteps  | 20800    |\n",
       "| train/              |          |\n",
       "|    learning_rate    | 0.001    |\n",
       "|    loss             | 7.04     |\n",
       "|    n_updates        | 5174     |\n",
       "----------------------------------\n"
      ]
     },
     "metadata": {},
     "output_type": "display_data"
    },
    {
     "data": {
      "text/html": [
       "<pre style=\"white-space:pre;overflow-x:auto;line-height:normal;font-family:Menlo,'DejaVu Sans Mono',consolas,'Courier New',monospace\">Finished training episode 21\n",
       "</pre>\n"
      ],
      "text/plain": [
       "Finished training episode 21\n"
      ]
     },
     "metadata": {},
     "output_type": "display_data"
    },
    {
     "data": {
      "text/html": [
       "<pre style=\"white-space:pre;overflow-x:auto;line-height:normal;font-family:Menlo,'DejaVu Sans Mono',consolas,'Courier New',monospace\">----------------------------------\n",
       "| rollout/            |          |\n",
       "|    exploration_rate | 0.05     |\n",
       "| time/               |          |\n",
       "|    episodes         | 108      |\n",
       "|    fps              | 197      |\n",
       "|    time_elapsed     | 3        |\n",
       "|    total_timesteps  | 21600    |\n",
       "| train/              |          |\n",
       "|    learning_rate    | 0.001    |\n",
       "|    loss             | 18.4     |\n",
       "|    n_updates        | 5374     |\n",
       "----------------------------------\n",
       "</pre>\n"
      ],
      "text/plain": [
       "----------------------------------\n",
       "| rollout/            |          |\n",
       "|    exploration_rate | 0.05     |\n",
       "| time/               |          |\n",
       "|    episodes         | 108      |\n",
       "|    fps              | 197      |\n",
       "|    time_elapsed     | 3        |\n",
       "|    total_timesteps  | 21600    |\n",
       "| train/              |          |\n",
       "|    learning_rate    | 0.001    |\n",
       "|    loss             | 18.4     |\n",
       "|    n_updates        | 5374     |\n",
       "----------------------------------\n"
      ]
     },
     "metadata": {},
     "output_type": "display_data"
    },
    {
     "data": {
      "text/html": [
       "<pre style=\"white-space:pre;overflow-x:auto;line-height:normal;font-family:Menlo,'DejaVu Sans Mono',consolas,'Courier New',monospace\">Finished training episode 22\n",
       "</pre>\n"
      ],
      "text/plain": [
       "Finished training episode 22\n"
      ]
     },
     "metadata": {},
     "output_type": "display_data"
    },
    {
     "data": {
      "text/html": [
       "<pre style=\"white-space:pre;overflow-x:auto;line-height:normal;font-family:Menlo,'DejaVu Sans Mono',consolas,'Courier New',monospace\">----------------------------------\n",
       "| rollout/            |          |\n",
       "|    exploration_rate | 0.05     |\n",
       "| time/               |          |\n",
       "|    episodes         | 112      |\n",
       "|    fps              | 204      |\n",
       "|    time_elapsed     | 1        |\n",
       "|    total_timesteps  | 22400    |\n",
       "| train/              |          |\n",
       "|    learning_rate    | 0.001    |\n",
       "|    loss             | 7.09     |\n",
       "|    n_updates        | 5574     |\n",
       "----------------------------------\n",
       "</pre>\n"
      ],
      "text/plain": [
       "----------------------------------\n",
       "| rollout/            |          |\n",
       "|    exploration_rate | 0.05     |\n",
       "| time/               |          |\n",
       "|    episodes         | 112      |\n",
       "|    fps              | 204      |\n",
       "|    time_elapsed     | 1        |\n",
       "|    total_timesteps  | 22400    |\n",
       "| train/              |          |\n",
       "|    learning_rate    | 0.001    |\n",
       "|    loss             | 7.09     |\n",
       "|    n_updates        | 5574     |\n",
       "----------------------------------\n"
      ]
     },
     "metadata": {},
     "output_type": "display_data"
    },
    {
     "data": {
      "text/html": [
       "<pre style=\"white-space:pre;overflow-x:auto;line-height:normal;font-family:Menlo,'DejaVu Sans Mono',consolas,'Courier New',monospace\">Finished training episode 23\n",
       "</pre>\n"
      ],
      "text/plain": [
       "Finished training episode 23\n"
      ]
     },
     "metadata": {},
     "output_type": "display_data"
    },
    {
     "data": {
      "text/html": [
       "<pre style=\"white-space:pre;overflow-x:auto;line-height:normal;font-family:Menlo,'DejaVu Sans Mono',consolas,'Courier New',monospace\">----------------------------------\n",
       "| rollout/            |          |\n",
       "|    exploration_rate | 0.05     |\n",
       "| time/               |          |\n",
       "|    episodes         | 116      |\n",
       "|    fps              | 201      |\n",
       "|    time_elapsed     | 0        |\n",
       "|    total_timesteps  | 23200    |\n",
       "| train/              |          |\n",
       "|    learning_rate    | 0.001    |\n",
       "|    loss             | 7.47     |\n",
       "|    n_updates        | 5774     |\n",
       "----------------------------------\n",
       "</pre>\n"
      ],
      "text/plain": [
       "----------------------------------\n",
       "| rollout/            |          |\n",
       "|    exploration_rate | 0.05     |\n",
       "| time/               |          |\n",
       "|    episodes         | 116      |\n",
       "|    fps              | 201      |\n",
       "|    time_elapsed     | 0        |\n",
       "|    total_timesteps  | 23200    |\n",
       "| train/              |          |\n",
       "|    learning_rate    | 0.001    |\n",
       "|    loss             | 7.47     |\n",
       "|    n_updates        | 5774     |\n",
       "----------------------------------\n"
      ]
     },
     "metadata": {},
     "output_type": "display_data"
    },
    {
     "data": {
      "text/html": [
       "<pre style=\"white-space:pre;overflow-x:auto;line-height:normal;font-family:Menlo,'DejaVu Sans Mono',consolas,'Courier New',monospace\">----------------------------------\n",
       "| rollout/            |          |\n",
       "|    exploration_rate | 0.05     |\n",
       "| time/               |          |\n",
       "|    episodes         | 120      |\n",
       "|    fps              | 202      |\n",
       "|    time_elapsed     | 4        |\n",
       "|    total_timesteps  | 24000    |\n",
       "| train/              |          |\n",
       "|    learning_rate    | 0.001    |\n",
       "|    loss             | 13.3     |\n",
       "|    n_updates        | 5974     |\n",
       "----------------------------------\n",
       "</pre>\n"
      ],
      "text/plain": [
       "----------------------------------\n",
       "| rollout/            |          |\n",
       "|    exploration_rate | 0.05     |\n",
       "| time/               |          |\n",
       "|    episodes         | 120      |\n",
       "|    fps              | 202      |\n",
       "|    time_elapsed     | 4        |\n",
       "|    total_timesteps  | 24000    |\n",
       "| train/              |          |\n",
       "|    learning_rate    | 0.001    |\n",
       "|    loss             | 13.3     |\n",
       "|    n_updates        | 5974     |\n",
       "----------------------------------\n"
      ]
     },
     "metadata": {},
     "output_type": "display_data"
    },
    {
     "data": {
      "text/html": [
       "<pre style=\"white-space:pre;overflow-x:auto;line-height:normal;font-family:Menlo,'DejaVu Sans Mono',consolas,'Courier New',monospace\">Finished training episode 24\n",
       "</pre>\n"
      ],
      "text/plain": [
       "Finished training episode 24\n"
      ]
     },
     "metadata": {},
     "output_type": "display_data"
    },
    {
     "data": {
      "text/html": [
       "<pre style=\"white-space:pre;overflow-x:auto;line-height:normal;font-family:Menlo,'DejaVu Sans Mono',consolas,'Courier New',monospace\">----------------------------------\n",
       "| rollout/            |          |\n",
       "|    exploration_rate | 0.05     |\n",
       "| time/               |          |\n",
       "|    episodes         | 124      |\n",
       "|    fps              | 202      |\n",
       "|    time_elapsed     | 3        |\n",
       "|    total_timesteps  | 24800    |\n",
       "| train/              |          |\n",
       "|    learning_rate    | 0.001    |\n",
       "|    loss             | 7.23     |\n",
       "|    n_updates        | 6174     |\n",
       "----------------------------------\n",
       "</pre>\n"
      ],
      "text/plain": [
       "----------------------------------\n",
       "| rollout/            |          |\n",
       "|    exploration_rate | 0.05     |\n",
       "| time/               |          |\n",
       "|    episodes         | 124      |\n",
       "|    fps              | 202      |\n",
       "|    time_elapsed     | 3        |\n",
       "|    total_timesteps  | 24800    |\n",
       "| train/              |          |\n",
       "|    learning_rate    | 0.001    |\n",
       "|    loss             | 7.23     |\n",
       "|    n_updates        | 6174     |\n",
       "----------------------------------\n"
      ]
     },
     "metadata": {},
     "output_type": "display_data"
    },
    {
     "data": {
      "text/html": [
       "<pre style=\"white-space:pre;overflow-x:auto;line-height:normal;font-family:Menlo,'DejaVu Sans Mono',consolas,'Courier New',monospace\">Finished training episode 25\n",
       "</pre>\n"
      ],
      "text/plain": [
       "Finished training episode 25\n"
      ]
     },
     "metadata": {},
     "output_type": "display_data"
    },
    {
     "data": {
      "text/html": [
       "<pre style=\"white-space:pre;overflow-x:auto;line-height:normal;font-family:Menlo,'DejaVu Sans Mono',consolas,'Courier New',monospace\">----------------------------------\n",
       "| rollout/            |          |\n",
       "|    exploration_rate | 0.05     |\n",
       "| time/               |          |\n",
       "|    episodes         | 128      |\n",
       "|    fps              | 200      |\n",
       "|    time_elapsed     | 2        |\n",
       "|    total_timesteps  | 25600    |\n",
       "| train/              |          |\n",
       "|    learning_rate    | 0.001    |\n",
       "|    loss             | 13.8     |\n",
       "|    n_updates        | 6374     |\n",
       "----------------------------------\n",
       "</pre>\n"
      ],
      "text/plain": [
       "----------------------------------\n",
       "| rollout/            |          |\n",
       "|    exploration_rate | 0.05     |\n",
       "| time/               |          |\n",
       "|    episodes         | 128      |\n",
       "|    fps              | 200      |\n",
       "|    time_elapsed     | 2        |\n",
       "|    total_timesteps  | 25600    |\n",
       "| train/              |          |\n",
       "|    learning_rate    | 0.001    |\n",
       "|    loss             | 13.8     |\n",
       "|    n_updates        | 6374     |\n",
       "----------------------------------\n"
      ]
     },
     "metadata": {},
     "output_type": "display_data"
    },
    {
     "data": {
      "text/html": [
       "<pre style=\"white-space:pre;overflow-x:auto;line-height:normal;font-family:Menlo,'DejaVu Sans Mono',consolas,'Courier New',monospace\">Finished training episode 26\n",
       "</pre>\n"
      ],
      "text/plain": [
       "Finished training episode 26\n"
      ]
     },
     "metadata": {},
     "output_type": "display_data"
    },
    {
     "data": {
      "text/html": [
       "<pre style=\"white-space:pre;overflow-x:auto;line-height:normal;font-family:Menlo,'DejaVu Sans Mono',consolas,'Courier New',monospace\">----------------------------------\n",
       "| rollout/            |          |\n",
       "|    exploration_rate | 0.05     |\n",
       "| time/               |          |\n",
       "|    episodes         | 132      |\n",
       "|    fps              | 207      |\n",
       "|    time_elapsed     | 1        |\n",
       "|    total_timesteps  | 26400    |\n",
       "| train/              |          |\n",
       "|    learning_rate    | 0.001    |\n",
       "|    loss             | 6.21     |\n",
       "|    n_updates        | 6574     |\n",
       "----------------------------------\n",
       "</pre>\n"
      ],
      "text/plain": [
       "----------------------------------\n",
       "| rollout/            |          |\n",
       "|    exploration_rate | 0.05     |\n",
       "| time/               |          |\n",
       "|    episodes         | 132      |\n",
       "|    fps              | 207      |\n",
       "|    time_elapsed     | 1        |\n",
       "|    total_timesteps  | 26400    |\n",
       "| train/              |          |\n",
       "|    learning_rate    | 0.001    |\n",
       "|    loss             | 6.21     |\n",
       "|    n_updates        | 6574     |\n",
       "----------------------------------\n"
      ]
     },
     "metadata": {},
     "output_type": "display_data"
    },
    {
     "data": {
      "text/html": [
       "<pre style=\"white-space:pre;overflow-x:auto;line-height:normal;font-family:Menlo,'DejaVu Sans Mono',consolas,'Courier New',monospace\">Finished training episode 27\n",
       "</pre>\n"
      ],
      "text/plain": [
       "Finished training episode 27\n"
      ]
     },
     "metadata": {},
     "output_type": "display_data"
    },
    {
     "data": {
      "text/html": [
       "<pre style=\"white-space:pre;overflow-x:auto;line-height:normal;font-family:Menlo,'DejaVu Sans Mono',consolas,'Courier New',monospace\">----------------------------------\n",
       "| rollout/            |          |\n",
       "|    exploration_rate | 0.05     |\n",
       "| time/               |          |\n",
       "|    episodes         | 136      |\n",
       "|    fps              | 204      |\n",
       "|    time_elapsed     | 0        |\n",
       "|    total_timesteps  | 27200    |\n",
       "| train/              |          |\n",
       "|    learning_rate    | 0.001    |\n",
       "|    loss             | 8.02     |\n",
       "|    n_updates        | 6774     |\n",
       "----------------------------------\n",
       "</pre>\n"
      ],
      "text/plain": [
       "----------------------------------\n",
       "| rollout/            |          |\n",
       "|    exploration_rate | 0.05     |\n",
       "| time/               |          |\n",
       "|    episodes         | 136      |\n",
       "|    fps              | 204      |\n",
       "|    time_elapsed     | 0        |\n",
       "|    total_timesteps  | 27200    |\n",
       "| train/              |          |\n",
       "|    learning_rate    | 0.001    |\n",
       "|    loss             | 8.02     |\n",
       "|    n_updates        | 6774     |\n",
       "----------------------------------\n"
      ]
     },
     "metadata": {},
     "output_type": "display_data"
    },
    {
     "data": {
      "text/html": [
       "<pre style=\"white-space:pre;overflow-x:auto;line-height:normal;font-family:Menlo,'DejaVu Sans Mono',consolas,'Courier New',monospace\">----------------------------------\n",
       "| rollout/            |          |\n",
       "|    exploration_rate | 0.05     |\n",
       "| time/               |          |\n",
       "|    episodes         | 140      |\n",
       "|    fps              | 202      |\n",
       "|    time_elapsed     | 4        |\n",
       "|    total_timesteps  | 28000    |\n",
       "| train/              |          |\n",
       "|    learning_rate    | 0.001    |\n",
       "|    loss             | 6.4      |\n",
       "|    n_updates        | 6974     |\n",
       "----------------------------------\n",
       "</pre>\n"
      ],
      "text/plain": [
       "----------------------------------\n",
       "| rollout/            |          |\n",
       "|    exploration_rate | 0.05     |\n",
       "| time/               |          |\n",
       "|    episodes         | 140      |\n",
       "|    fps              | 202      |\n",
       "|    time_elapsed     | 4        |\n",
       "|    total_timesteps  | 28000    |\n",
       "| train/              |          |\n",
       "|    learning_rate    | 0.001    |\n",
       "|    loss             | 6.4      |\n",
       "|    n_updates        | 6974     |\n",
       "----------------------------------\n"
      ]
     },
     "metadata": {},
     "output_type": "display_data"
    },
    {
     "data": {
      "text/html": [
       "<pre style=\"white-space:pre;overflow-x:auto;line-height:normal;font-family:Menlo,'DejaVu Sans Mono',consolas,'Courier New',monospace\">Finished training episode 28\n",
       "</pre>\n"
      ],
      "text/plain": [
       "Finished training episode 28\n"
      ]
     },
     "metadata": {},
     "output_type": "display_data"
    },
    {
     "data": {
      "text/html": [
       "<pre style=\"white-space:pre;overflow-x:auto;line-height:normal;font-family:Menlo,'DejaVu Sans Mono',consolas,'Courier New',monospace\">----------------------------------\n",
       "| rollout/            |          |\n",
       "|    exploration_rate | 0.05     |\n",
       "| time/               |          |\n",
       "|    episodes         | 144      |\n",
       "|    fps              | 200      |\n",
       "|    time_elapsed     | 3        |\n",
       "|    total_timesteps  | 28800    |\n",
       "| train/              |          |\n",
       "|    learning_rate    | 0.001    |\n",
       "|    loss             | 6.11     |\n",
       "|    n_updates        | 7174     |\n",
       "----------------------------------\n",
       "</pre>\n"
      ],
      "text/plain": [
       "----------------------------------\n",
       "| rollout/            |          |\n",
       "|    exploration_rate | 0.05     |\n",
       "| time/               |          |\n",
       "|    episodes         | 144      |\n",
       "|    fps              | 200      |\n",
       "|    time_elapsed     | 3        |\n",
       "|    total_timesteps  | 28800    |\n",
       "| train/              |          |\n",
       "|    learning_rate    | 0.001    |\n",
       "|    loss             | 6.11     |\n",
       "|    n_updates        | 7174     |\n",
       "----------------------------------\n"
      ]
     },
     "metadata": {},
     "output_type": "display_data"
    },
    {
     "data": {
      "text/html": [
       "<pre style=\"white-space:pre;overflow-x:auto;line-height:normal;font-family:Menlo,'DejaVu Sans Mono',consolas,'Courier New',monospace\">Finished training episode 29\n",
       "</pre>\n"
      ],
      "text/plain": [
       "Finished training episode 29\n"
      ]
     },
     "metadata": {},
     "output_type": "display_data"
    },
    {
     "data": {
      "text/html": [
       "<pre style=\"white-space:pre;overflow-x:auto;line-height:normal;font-family:Menlo,'DejaVu Sans Mono',consolas,'Courier New',monospace\">----------------------------------\n",
       "| rollout/            |          |\n",
       "|    exploration_rate | 0.05     |\n",
       "| time/               |          |\n",
       "|    episodes         | 148      |\n",
       "|    fps              | 198      |\n",
       "|    time_elapsed     | 3        |\n",
       "|    total_timesteps  | 29600    |\n",
       "| train/              |          |\n",
       "|    learning_rate    | 0.001    |\n",
       "|    loss             | 6.48     |\n",
       "|    n_updates        | 7374     |\n",
       "----------------------------------\n",
       "</pre>\n"
      ],
      "text/plain": [
       "----------------------------------\n",
       "| rollout/            |          |\n",
       "|    exploration_rate | 0.05     |\n",
       "| time/               |          |\n",
       "|    episodes         | 148      |\n",
       "|    fps              | 198      |\n",
       "|    time_elapsed     | 3        |\n",
       "|    total_timesteps  | 29600    |\n",
       "| train/              |          |\n",
       "|    learning_rate    | 0.001    |\n",
       "|    loss             | 6.48     |\n",
       "|    n_updates        | 7374     |\n",
       "----------------------------------\n"
      ]
     },
     "metadata": {},
     "output_type": "display_data"
    },
    {
     "data": {
      "text/html": [
       "<pre style=\"white-space:pre;overflow-x:auto;line-height:normal;font-family:Menlo,'DejaVu Sans Mono',consolas,'Courier New',monospace\">Finished training episode 30\n",
       "</pre>\n"
      ],
      "text/plain": [
       "Finished training episode 30\n"
      ]
     },
     "metadata": {},
     "output_type": "display_data"
    },
    {
     "data": {
      "text/html": [
       "<pre style=\"white-space:pre;overflow-x:auto;line-height:normal;font-family:Menlo,'DejaVu Sans Mono',consolas,'Courier New',monospace\">----------------------------------\n",
       "| rollout/            |          |\n",
       "|    exploration_rate | 0.05     |\n",
       "| time/               |          |\n",
       "|    episodes         | 152      |\n",
       "|    fps              | 192      |\n",
       "|    time_elapsed     | 2        |\n",
       "|    total_timesteps  | 30400    |\n",
       "| train/              |          |\n",
       "|    learning_rate    | 0.001    |\n",
       "|    loss             | 7.01     |\n",
       "|    n_updates        | 7574     |\n",
       "----------------------------------\n",
       "</pre>\n"
      ],
      "text/plain": [
       "----------------------------------\n",
       "| rollout/            |          |\n",
       "|    exploration_rate | 0.05     |\n",
       "| time/               |          |\n",
       "|    episodes         | 152      |\n",
       "|    fps              | 192      |\n",
       "|    time_elapsed     | 2        |\n",
       "|    total_timesteps  | 30400    |\n",
       "| train/              |          |\n",
       "|    learning_rate    | 0.001    |\n",
       "|    loss             | 7.01     |\n",
       "|    n_updates        | 7574     |\n",
       "----------------------------------\n"
      ]
     },
     "metadata": {},
     "output_type": "display_data"
    },
    {
     "data": {
      "text/html": [
       "<pre style=\"white-space:pre;overflow-x:auto;line-height:normal;font-family:Menlo,'DejaVu Sans Mono',consolas,'Courier New',monospace\">Finished training episode 31\n",
       "</pre>\n"
      ],
      "text/plain": [
       "Finished training episode 31\n"
      ]
     },
     "metadata": {},
     "output_type": "display_data"
    },
    {
     "data": {
      "text/html": [
       "<pre style=\"white-space:pre;overflow-x:auto;line-height:normal;font-family:Menlo,'DejaVu Sans Mono',consolas,'Courier New',monospace\">----------------------------------\n",
       "| rollout/            |          |\n",
       "|    exploration_rate | 0.05     |\n",
       "| time/               |          |\n",
       "|    episodes         | 156      |\n",
       "|    fps              | 209      |\n",
       "|    time_elapsed     | 0        |\n",
       "|    total_timesteps  | 31200    |\n",
       "| train/              |          |\n",
       "|    learning_rate    | 0.001    |\n",
       "|    loss             | 7.98     |\n",
       "|    n_updates        | 7774     |\n",
       "----------------------------------\n",
       "</pre>\n"
      ],
      "text/plain": [
       "----------------------------------\n",
       "| rollout/            |          |\n",
       "|    exploration_rate | 0.05     |\n",
       "| time/               |          |\n",
       "|    episodes         | 156      |\n",
       "|    fps              | 209      |\n",
       "|    time_elapsed     | 0        |\n",
       "|    total_timesteps  | 31200    |\n",
       "| train/              |          |\n",
       "|    learning_rate    | 0.001    |\n",
       "|    loss             | 7.98     |\n",
       "|    n_updates        | 7774     |\n",
       "----------------------------------\n"
      ]
     },
     "metadata": {},
     "output_type": "display_data"
    },
    {
     "data": {
      "text/html": [
       "<pre style=\"white-space:pre;overflow-x:auto;line-height:normal;font-family:Menlo,'DejaVu Sans Mono',consolas,'Courier New',monospace\">----------------------------------\n",
       "| rollout/            |          |\n",
       "|    exploration_rate | 0.05     |\n",
       "| time/               |          |\n",
       "|    episodes         | 160      |\n",
       "|    fps              | 198      |\n",
       "|    time_elapsed     | 5        |\n",
       "|    total_timesteps  | 32000    |\n",
       "| train/              |          |\n",
       "|    learning_rate    | 0.001    |\n",
       "|    loss             | 16       |\n",
       "|    n_updates        | 7974     |\n",
       "----------------------------------\n",
       "</pre>\n"
      ],
      "text/plain": [
       "----------------------------------\n",
       "| rollout/            |          |\n",
       "|    exploration_rate | 0.05     |\n",
       "| time/               |          |\n",
       "|    episodes         | 160      |\n",
       "|    fps              | 198      |\n",
       "|    time_elapsed     | 5        |\n",
       "|    total_timesteps  | 32000    |\n",
       "| train/              |          |\n",
       "|    learning_rate    | 0.001    |\n",
       "|    loss             | 16       |\n",
       "|    n_updates        | 7974     |\n",
       "----------------------------------\n"
      ]
     },
     "metadata": {},
     "output_type": "display_data"
    },
    {
     "data": {
      "text/html": [
       "<pre style=\"white-space:pre;overflow-x:auto;line-height:normal;font-family:Menlo,'DejaVu Sans Mono',consolas,'Courier New',monospace\">Finished training episode 32\n",
       "</pre>\n"
      ],
      "text/plain": [
       "Finished training episode 32\n"
      ]
     },
     "metadata": {},
     "output_type": "display_data"
    },
    {
     "data": {
      "text/html": [
       "<pre style=\"white-space:pre;overflow-x:auto;line-height:normal;font-family:Menlo,'DejaVu Sans Mono',consolas,'Courier New',monospace\">----------------------------------\n",
       "| rollout/            |          |\n",
       "|    exploration_rate | 0.05     |\n",
       "| time/               |          |\n",
       "|    episodes         | 164      |\n",
       "|    fps              | 206      |\n",
       "|    time_elapsed     | 3        |\n",
       "|    total_timesteps  | 32800    |\n",
       "| train/              |          |\n",
       "|    learning_rate    | 0.001    |\n",
       "|    loss             | 6.39     |\n",
       "|    n_updates        | 8174     |\n",
       "----------------------------------\n",
       "</pre>\n"
      ],
      "text/plain": [
       "----------------------------------\n",
       "| rollout/            |          |\n",
       "|    exploration_rate | 0.05     |\n",
       "| time/               |          |\n",
       "|    episodes         | 164      |\n",
       "|    fps              | 206      |\n",
       "|    time_elapsed     | 3        |\n",
       "|    total_timesteps  | 32800    |\n",
       "| train/              |          |\n",
       "|    learning_rate    | 0.001    |\n",
       "|    loss             | 6.39     |\n",
       "|    n_updates        | 8174     |\n",
       "----------------------------------\n"
      ]
     },
     "metadata": {},
     "output_type": "display_data"
    },
    {
     "data": {
      "text/html": [
       "<pre style=\"white-space:pre;overflow-x:auto;line-height:normal;font-family:Menlo,'DejaVu Sans Mono',consolas,'Courier New',monospace\">Finished training episode 33\n",
       "</pre>\n"
      ],
      "text/plain": [
       "Finished training episode 33\n"
      ]
     },
     "metadata": {},
     "output_type": "display_data"
    },
    {
     "data": {
      "text/html": [
       "<pre style=\"white-space:pre;overflow-x:auto;line-height:normal;font-family:Menlo,'DejaVu Sans Mono',consolas,'Courier New',monospace\">----------------------------------\n",
       "| rollout/            |          |\n",
       "|    exploration_rate | 0.05     |\n",
       "| time/               |          |\n",
       "|    episodes         | 168      |\n",
       "|    fps              | 191      |\n",
       "|    time_elapsed     | 3        |\n",
       "|    total_timesteps  | 33600    |\n",
       "| train/              |          |\n",
       "|    learning_rate    | 0.001    |\n",
       "|    loss             | 14.6     |\n",
       "|    n_updates        | 8374     |\n",
       "----------------------------------\n",
       "</pre>\n"
      ],
      "text/plain": [
       "----------------------------------\n",
       "| rollout/            |          |\n",
       "|    exploration_rate | 0.05     |\n",
       "| time/               |          |\n",
       "|    episodes         | 168      |\n",
       "|    fps              | 191      |\n",
       "|    time_elapsed     | 3        |\n",
       "|    total_timesteps  | 33600    |\n",
       "| train/              |          |\n",
       "|    learning_rate    | 0.001    |\n",
       "|    loss             | 14.6     |\n",
       "|    n_updates        | 8374     |\n",
       "----------------------------------\n"
      ]
     },
     "metadata": {},
     "output_type": "display_data"
    },
    {
     "data": {
      "text/html": [
       "<pre style=\"white-space:pre;overflow-x:auto;line-height:normal;font-family:Menlo,'DejaVu Sans Mono',consolas,'Courier New',monospace\">Finished training episode 34\n",
       "</pre>\n"
      ],
      "text/plain": [
       "Finished training episode 34\n"
      ]
     },
     "metadata": {},
     "output_type": "display_data"
    },
    {
     "data": {
      "text/html": [
       "<pre style=\"white-space:pre;overflow-x:auto;line-height:normal;font-family:Menlo,'DejaVu Sans Mono',consolas,'Courier New',monospace\">----------------------------------\n",
       "| rollout/            |          |\n",
       "|    exploration_rate | 0.05     |\n",
       "| time/               |          |\n",
       "|    episodes         | 172      |\n",
       "|    fps              | 211      |\n",
       "|    time_elapsed     | 1        |\n",
       "|    total_timesteps  | 34400    |\n",
       "| train/              |          |\n",
       "|    learning_rate    | 0.001    |\n",
       "|    loss             | 24.7     |\n",
       "|    n_updates        | 8574     |\n",
       "----------------------------------\n",
       "</pre>\n"
      ],
      "text/plain": [
       "----------------------------------\n",
       "| rollout/            |          |\n",
       "|    exploration_rate | 0.05     |\n",
       "| time/               |          |\n",
       "|    episodes         | 172      |\n",
       "|    fps              | 211      |\n",
       "|    time_elapsed     | 1        |\n",
       "|    total_timesteps  | 34400    |\n",
       "| train/              |          |\n",
       "|    learning_rate    | 0.001    |\n",
       "|    loss             | 24.7     |\n",
       "|    n_updates        | 8574     |\n",
       "----------------------------------\n"
      ]
     },
     "metadata": {},
     "output_type": "display_data"
    },
    {
     "data": {
      "text/html": [
       "<pre style=\"white-space:pre;overflow-x:auto;line-height:normal;font-family:Menlo,'DejaVu Sans Mono',consolas,'Courier New',monospace\">Finished training episode 35\n",
       "</pre>\n"
      ],
      "text/plain": [
       "Finished training episode 35\n"
      ]
     },
     "metadata": {},
     "output_type": "display_data"
    },
    {
     "data": {
      "text/html": [
       "<pre style=\"white-space:pre;overflow-x:auto;line-height:normal;font-family:Menlo,'DejaVu Sans Mono',consolas,'Courier New',monospace\">----------------------------------\n",
       "| rollout/            |          |\n",
       "|    exploration_rate | 0.05     |\n",
       "| time/               |          |\n",
       "|    episodes         | 176      |\n",
       "|    fps              | 205      |\n",
       "|    time_elapsed     | 0        |\n",
       "|    total_timesteps  | 35200    |\n",
       "| train/              |          |\n",
       "|    learning_rate    | 0.001    |\n",
       "|    loss             | 8.12     |\n",
       "|    n_updates        | 8774     |\n",
       "----------------------------------\n",
       "</pre>\n"
      ],
      "text/plain": [
       "----------------------------------\n",
       "| rollout/            |          |\n",
       "|    exploration_rate | 0.05     |\n",
       "| time/               |          |\n",
       "|    episodes         | 176      |\n",
       "|    fps              | 205      |\n",
       "|    time_elapsed     | 0        |\n",
       "|    total_timesteps  | 35200    |\n",
       "| train/              |          |\n",
       "|    learning_rate    | 0.001    |\n",
       "|    loss             | 8.12     |\n",
       "|    n_updates        | 8774     |\n",
       "----------------------------------\n"
      ]
     },
     "metadata": {},
     "output_type": "display_data"
    },
    {
     "data": {
      "text/html": [
       "<pre style=\"white-space:pre;overflow-x:auto;line-height:normal;font-family:Menlo,'DejaVu Sans Mono',consolas,'Courier New',monospace\">----------------------------------\n",
       "| rollout/            |          |\n",
       "|    exploration_rate | 0.05     |\n",
       "| time/               |          |\n",
       "|    episodes         | 180      |\n",
       "|    fps              | 205      |\n",
       "|    time_elapsed     | 4        |\n",
       "|    total_timesteps  | 36000    |\n",
       "| train/              |          |\n",
       "|    learning_rate    | 0.001    |\n",
       "|    loss             | 18.9     |\n",
       "|    n_updates        | 8974     |\n",
       "----------------------------------\n",
       "</pre>\n"
      ],
      "text/plain": [
       "----------------------------------\n",
       "| rollout/            |          |\n",
       "|    exploration_rate | 0.05     |\n",
       "| time/               |          |\n",
       "|    episodes         | 180      |\n",
       "|    fps              | 205      |\n",
       "|    time_elapsed     | 4        |\n",
       "|    total_timesteps  | 36000    |\n",
       "| train/              |          |\n",
       "|    learning_rate    | 0.001    |\n",
       "|    loss             | 18.9     |\n",
       "|    n_updates        | 8974     |\n",
       "----------------------------------\n"
      ]
     },
     "metadata": {},
     "output_type": "display_data"
    },
    {
     "data": {
      "text/html": [
       "<pre style=\"white-space:pre;overflow-x:auto;line-height:normal;font-family:Menlo,'DejaVu Sans Mono',consolas,'Courier New',monospace\">Finished training episode 36\n",
       "</pre>\n"
      ],
      "text/plain": [
       "Finished training episode 36\n"
      ]
     },
     "metadata": {},
     "output_type": "display_data"
    },
    {
     "data": {
      "text/html": [
       "<pre style=\"white-space:pre;overflow-x:auto;line-height:normal;font-family:Menlo,'DejaVu Sans Mono',consolas,'Courier New',monospace\">----------------------------------\n",
       "| rollout/            |          |\n",
       "|    exploration_rate | 0.05     |\n",
       "| time/               |          |\n",
       "|    episodes         | 184      |\n",
       "|    fps              | 204      |\n",
       "|    time_elapsed     | 3        |\n",
       "|    total_timesteps  | 36800    |\n",
       "| train/              |          |\n",
       "|    learning_rate    | 0.001    |\n",
       "|    loss             | 7.99     |\n",
       "|    n_updates        | 9174     |\n",
       "----------------------------------\n",
       "</pre>\n"
      ],
      "text/plain": [
       "----------------------------------\n",
       "| rollout/            |          |\n",
       "|    exploration_rate | 0.05     |\n",
       "| time/               |          |\n",
       "|    episodes         | 184      |\n",
       "|    fps              | 204      |\n",
       "|    time_elapsed     | 3        |\n",
       "|    total_timesteps  | 36800    |\n",
       "| train/              |          |\n",
       "|    learning_rate    | 0.001    |\n",
       "|    loss             | 7.99     |\n",
       "|    n_updates        | 9174     |\n",
       "----------------------------------\n"
      ]
     },
     "metadata": {},
     "output_type": "display_data"
    },
    {
     "data": {
      "text/html": [
       "<pre style=\"white-space:pre;overflow-x:auto;line-height:normal;font-family:Menlo,'DejaVu Sans Mono',consolas,'Courier New',monospace\">Finished training episode 37\n",
       "</pre>\n"
      ],
      "text/plain": [
       "Finished training episode 37\n"
      ]
     },
     "metadata": {},
     "output_type": "display_data"
    },
    {
     "data": {
      "text/html": [
       "<pre style=\"white-space:pre;overflow-x:auto;line-height:normal;font-family:Menlo,'DejaVu Sans Mono',consolas,'Courier New',monospace\">----------------------------------\n",
       "| rollout/            |          |\n",
       "|    exploration_rate | 0.05     |\n",
       "| time/               |          |\n",
       "|    episodes         | 188      |\n",
       "|    fps              | 201      |\n",
       "|    time_elapsed     | 2        |\n",
       "|    total_timesteps  | 37600    |\n",
       "| train/              |          |\n",
       "|    learning_rate    | 0.001    |\n",
       "|    loss             | 6.6      |\n",
       "|    n_updates        | 9374     |\n",
       "----------------------------------\n",
       "</pre>\n"
      ],
      "text/plain": [
       "----------------------------------\n",
       "| rollout/            |          |\n",
       "|    exploration_rate | 0.05     |\n",
       "| time/               |          |\n",
       "|    episodes         | 188      |\n",
       "|    fps              | 201      |\n",
       "|    time_elapsed     | 2        |\n",
       "|    total_timesteps  | 37600    |\n",
       "| train/              |          |\n",
       "|    learning_rate    | 0.001    |\n",
       "|    loss             | 6.6      |\n",
       "|    n_updates        | 9374     |\n",
       "----------------------------------\n"
      ]
     },
     "metadata": {},
     "output_type": "display_data"
    },
    {
     "data": {
      "text/html": [
       "<pre style=\"white-space:pre;overflow-x:auto;line-height:normal;font-family:Menlo,'DejaVu Sans Mono',consolas,'Courier New',monospace\">Finished training episode 38\n",
       "</pre>\n"
      ],
      "text/plain": [
       "Finished training episode 38\n"
      ]
     },
     "metadata": {},
     "output_type": "display_data"
    },
    {
     "data": {
      "text/html": [
       "<pre style=\"white-space:pre;overflow-x:auto;line-height:normal;font-family:Menlo,'DejaVu Sans Mono',consolas,'Courier New',monospace\">----------------------------------\n",
       "| rollout/            |          |\n",
       "|    exploration_rate | 0.05     |\n",
       "| time/               |          |\n",
       "|    episodes         | 192      |\n",
       "|    fps              | 204      |\n",
       "|    time_elapsed     | 1        |\n",
       "|    total_timesteps  | 38400    |\n",
       "| train/              |          |\n",
       "|    learning_rate    | 0.001    |\n",
       "|    loss             | 7.66     |\n",
       "|    n_updates        | 9574     |\n",
       "----------------------------------\n",
       "</pre>\n"
      ],
      "text/plain": [
       "----------------------------------\n",
       "| rollout/            |          |\n",
       "|    exploration_rate | 0.05     |\n",
       "| time/               |          |\n",
       "|    episodes         | 192      |\n",
       "|    fps              | 204      |\n",
       "|    time_elapsed     | 1        |\n",
       "|    total_timesteps  | 38400    |\n",
       "| train/              |          |\n",
       "|    learning_rate    | 0.001    |\n",
       "|    loss             | 7.66     |\n",
       "|    n_updates        | 9574     |\n",
       "----------------------------------\n"
      ]
     },
     "metadata": {},
     "output_type": "display_data"
    },
    {
     "data": {
      "text/html": [
       "<pre style=\"white-space:pre;overflow-x:auto;line-height:normal;font-family:Menlo,'DejaVu Sans Mono',consolas,'Courier New',monospace\">Finished training episode 39\n",
       "</pre>\n"
      ],
      "text/plain": [
       "Finished training episode 39\n"
      ]
     },
     "metadata": {},
     "output_type": "display_data"
    },
    {
     "data": {
      "text/html": [
       "<pre style=\"white-space:pre;overflow-x:auto;line-height:normal;font-family:Menlo,'DejaVu Sans Mono',consolas,'Courier New',monospace\">----------------------------------\n",
       "| rollout/            |          |\n",
       "|    exploration_rate | 0.05     |\n",
       "| time/               |          |\n",
       "|    episodes         | 196      |\n",
       "|    fps              | 208      |\n",
       "|    time_elapsed     | 0        |\n",
       "|    total_timesteps  | 39200    |\n",
       "| train/              |          |\n",
       "|    learning_rate    | 0.001    |\n",
       "|    loss             | 17.3     |\n",
       "|    n_updates        | 9774     |\n",
       "----------------------------------\n",
       "</pre>\n"
      ],
      "text/plain": [
       "----------------------------------\n",
       "| rollout/            |          |\n",
       "|    exploration_rate | 0.05     |\n",
       "| time/               |          |\n",
       "|    episodes         | 196      |\n",
       "|    fps              | 208      |\n",
       "|    time_elapsed     | 0        |\n",
       "|    total_timesteps  | 39200    |\n",
       "| train/              |          |\n",
       "|    learning_rate    | 0.001    |\n",
       "|    loss             | 17.3     |\n",
       "|    n_updates        | 9774     |\n",
       "----------------------------------\n"
      ]
     },
     "metadata": {},
     "output_type": "display_data"
    },
    {
     "data": {
      "text/html": [
       "<pre style=\"white-space:pre;overflow-x:auto;line-height:normal;font-family:Menlo,'DejaVu Sans Mono',consolas,'Courier New',monospace\">----------------------------------\n",
       "| rollout/            |          |\n",
       "|    exploration_rate | 0.05     |\n",
       "| time/               |          |\n",
       "|    episodes         | 200      |\n",
       "|    fps              | 205      |\n",
       "|    time_elapsed     | 4        |\n",
       "|    total_timesteps  | 40000    |\n",
       "| train/              |          |\n",
       "|    learning_rate    | 0.001    |\n",
       "|    loss             | 7.65     |\n",
       "|    n_updates        | 9974     |\n",
       "----------------------------------\n",
       "</pre>\n"
      ],
      "text/plain": [
       "----------------------------------\n",
       "| rollout/            |          |\n",
       "|    exploration_rate | 0.05     |\n",
       "| time/               |          |\n",
       "|    episodes         | 200      |\n",
       "|    fps              | 205      |\n",
       "|    time_elapsed     | 4        |\n",
       "|    total_timesteps  | 40000    |\n",
       "| train/              |          |\n",
       "|    learning_rate    | 0.001    |\n",
       "|    loss             | 7.65     |\n",
       "|    n_updates        | 9974     |\n",
       "----------------------------------\n"
      ]
     },
     "metadata": {},
     "output_type": "display_data"
    },
    {
     "data": {
      "text/html": [
       "<pre style=\"white-space:pre;overflow-x:auto;line-height:normal;font-family:Menlo,'DejaVu Sans Mono',consolas,'Courier New',monospace\">Finished training episode 40\n",
       "</pre>\n"
      ],
      "text/plain": [
       "Finished training episode 40\n"
      ]
     },
     "metadata": {},
     "output_type": "display_data"
    },
    {
     "data": {
      "text/html": [
       "<pre style=\"white-space:pre;overflow-x:auto;line-height:normal;font-family:Menlo,'DejaVu Sans Mono',consolas,'Courier New',monospace\">----------------------------------\n",
       "| rollout/            |          |\n",
       "|    exploration_rate | 0.05     |\n",
       "| time/               |          |\n",
       "|    episodes         | 204      |\n",
       "|    fps              | 188      |\n",
       "|    time_elapsed     | 4        |\n",
       "|    total_timesteps  | 40800    |\n",
       "| train/              |          |\n",
       "|    learning_rate    | 0.001    |\n",
       "|    loss             | 8.46     |\n",
       "|    n_updates        | 10174    |\n",
       "----------------------------------\n",
       "</pre>\n"
      ],
      "text/plain": [
       "----------------------------------\n",
       "| rollout/            |          |\n",
       "|    exploration_rate | 0.05     |\n",
       "| time/               |          |\n",
       "|    episodes         | 204      |\n",
       "|    fps              | 188      |\n",
       "|    time_elapsed     | 4        |\n",
       "|    total_timesteps  | 40800    |\n",
       "| train/              |          |\n",
       "|    learning_rate    | 0.001    |\n",
       "|    loss             | 8.46     |\n",
       "|    n_updates        | 10174    |\n",
       "----------------------------------\n"
      ]
     },
     "metadata": {},
     "output_type": "display_data"
    },
    {
     "data": {
      "text/html": [
       "<pre style=\"white-space:pre;overflow-x:auto;line-height:normal;font-family:Menlo,'DejaVu Sans Mono',consolas,'Courier New',monospace\">Finished training episode 41\n",
       "</pre>\n"
      ],
      "text/plain": [
       "Finished training episode 41\n"
      ]
     },
     "metadata": {},
     "output_type": "display_data"
    },
    {
     "data": {
      "text/html": [
       "<pre style=\"white-space:pre;overflow-x:auto;line-height:normal;font-family:Menlo,'DejaVu Sans Mono',consolas,'Courier New',monospace\">----------------------------------\n",
       "| rollout/            |          |\n",
       "|    exploration_rate | 0.05     |\n",
       "| time/               |          |\n",
       "|    episodes         | 208      |\n",
       "|    fps              | 201      |\n",
       "|    time_elapsed     | 2        |\n",
       "|    total_timesteps  | 41600    |\n",
       "| train/              |          |\n",
       "|    learning_rate    | 0.001    |\n",
       "|    loss             | 20.7     |\n",
       "|    n_updates        | 10374    |\n",
       "----------------------------------\n",
       "</pre>\n"
      ],
      "text/plain": [
       "----------------------------------\n",
       "| rollout/            |          |\n",
       "|    exploration_rate | 0.05     |\n",
       "| time/               |          |\n",
       "|    episodes         | 208      |\n",
       "|    fps              | 201      |\n",
       "|    time_elapsed     | 2        |\n",
       "|    total_timesteps  | 41600    |\n",
       "| train/              |          |\n",
       "|    learning_rate    | 0.001    |\n",
       "|    loss             | 20.7     |\n",
       "|    n_updates        | 10374    |\n",
       "----------------------------------\n"
      ]
     },
     "metadata": {},
     "output_type": "display_data"
    },
    {
     "data": {
      "text/html": [
       "<pre style=\"white-space:pre;overflow-x:auto;line-height:normal;font-family:Menlo,'DejaVu Sans Mono',consolas,'Courier New',monospace\">Finished training episode 42\n",
       "</pre>\n"
      ],
      "text/plain": [
       "Finished training episode 42\n"
      ]
     },
     "metadata": {},
     "output_type": "display_data"
    },
    {
     "data": {
      "text/html": [
       "<pre style=\"white-space:pre;overflow-x:auto;line-height:normal;font-family:Menlo,'DejaVu Sans Mono',consolas,'Courier New',monospace\">----------------------------------\n",
       "| rollout/            |          |\n",
       "|    exploration_rate | 0.05     |\n",
       "| time/               |          |\n",
       "|    episodes         | 212      |\n",
       "|    fps              | 204      |\n",
       "|    time_elapsed     | 1        |\n",
       "|    total_timesteps  | 42400    |\n",
       "| train/              |          |\n",
       "|    learning_rate    | 0.001    |\n",
       "|    loss             | 9.44     |\n",
       "|    n_updates        | 10574    |\n",
       "----------------------------------\n",
       "</pre>\n"
      ],
      "text/plain": [
       "----------------------------------\n",
       "| rollout/            |          |\n",
       "|    exploration_rate | 0.05     |\n",
       "| time/               |          |\n",
       "|    episodes         | 212      |\n",
       "|    fps              | 204      |\n",
       "|    time_elapsed     | 1        |\n",
       "|    total_timesteps  | 42400    |\n",
       "| train/              |          |\n",
       "|    learning_rate    | 0.001    |\n",
       "|    loss             | 9.44     |\n",
       "|    n_updates        | 10574    |\n",
       "----------------------------------\n"
      ]
     },
     "metadata": {},
     "output_type": "display_data"
    },
    {
     "data": {
      "text/html": [
       "<pre style=\"white-space:pre;overflow-x:auto;line-height:normal;font-family:Menlo,'DejaVu Sans Mono',consolas,'Courier New',monospace\">Finished training episode 43\n",
       "</pre>\n"
      ],
      "text/plain": [
       "Finished training episode 43\n"
      ]
     },
     "metadata": {},
     "output_type": "display_data"
    },
    {
     "data": {
      "text/html": [
       "<pre style=\"white-space:pre;overflow-x:auto;line-height:normal;font-family:Menlo,'DejaVu Sans Mono',consolas,'Courier New',monospace\">----------------------------------\n",
       "| rollout/            |          |\n",
       "|    exploration_rate | 0.05     |\n",
       "| time/               |          |\n",
       "|    episodes         | 216      |\n",
       "|    fps              | 198      |\n",
       "|    time_elapsed     | 1        |\n",
       "|    total_timesteps  | 43200    |\n",
       "| train/              |          |\n",
       "|    learning_rate    | 0.001    |\n",
       "|    loss             | 7.23     |\n",
       "|    n_updates        | 10774    |\n",
       "----------------------------------\n",
       "</pre>\n"
      ],
      "text/plain": [
       "----------------------------------\n",
       "| rollout/            |          |\n",
       "|    exploration_rate | 0.05     |\n",
       "| time/               |          |\n",
       "|    episodes         | 216      |\n",
       "|    fps              | 198      |\n",
       "|    time_elapsed     | 1        |\n",
       "|    total_timesteps  | 43200    |\n",
       "| train/              |          |\n",
       "|    learning_rate    | 0.001    |\n",
       "|    loss             | 7.23     |\n",
       "|    n_updates        | 10774    |\n",
       "----------------------------------\n"
      ]
     },
     "metadata": {},
     "output_type": "display_data"
    },
    {
     "data": {
      "text/html": [
       "<pre style=\"white-space:pre;overflow-x:auto;line-height:normal;font-family:Menlo,'DejaVu Sans Mono',consolas,'Courier New',monospace\">----------------------------------\n",
       "| rollout/            |          |\n",
       "|    exploration_rate | 0.05     |\n",
       "| time/               |          |\n",
       "|    episodes         | 220      |\n",
       "|    fps              | 202      |\n",
       "|    time_elapsed     | 4        |\n",
       "|    total_timesteps  | 44000    |\n",
       "| train/              |          |\n",
       "|    learning_rate    | 0.001    |\n",
       "|    loss             | 30.3     |\n",
       "|    n_updates        | 10974    |\n",
       "----------------------------------\n",
       "</pre>\n"
      ],
      "text/plain": [
       "----------------------------------\n",
       "| rollout/            |          |\n",
       "|    exploration_rate | 0.05     |\n",
       "| time/               |          |\n",
       "|    episodes         | 220      |\n",
       "|    fps              | 202      |\n",
       "|    time_elapsed     | 4        |\n",
       "|    total_timesteps  | 44000    |\n",
       "| train/              |          |\n",
       "|    learning_rate    | 0.001    |\n",
       "|    loss             | 30.3     |\n",
       "|    n_updates        | 10974    |\n",
       "----------------------------------\n"
      ]
     },
     "metadata": {},
     "output_type": "display_data"
    },
    {
     "data": {
      "text/html": [
       "<pre style=\"white-space:pre;overflow-x:auto;line-height:normal;font-family:Menlo,'DejaVu Sans Mono',consolas,'Courier New',monospace\">Finished training episode 44\n",
       "</pre>\n"
      ],
      "text/plain": [
       "Finished training episode 44\n"
      ]
     },
     "metadata": {},
     "output_type": "display_data"
    },
    {
     "data": {
      "text/html": [
       "<pre style=\"white-space:pre;overflow-x:auto;line-height:normal;font-family:Menlo,'DejaVu Sans Mono',consolas,'Courier New',monospace\">----------------------------------\n",
       "| rollout/            |          |\n",
       "|    exploration_rate | 0.05     |\n",
       "| time/               |          |\n",
       "|    episodes         | 224      |\n",
       "|    fps              | 206      |\n",
       "|    time_elapsed     | 3        |\n",
       "|    total_timesteps  | 44800    |\n",
       "| train/              |          |\n",
       "|    learning_rate    | 0.001    |\n",
       "|    loss             | 20.4     |\n",
       "|    n_updates        | 11174    |\n",
       "----------------------------------\n",
       "</pre>\n"
      ],
      "text/plain": [
       "----------------------------------\n",
       "| rollout/            |          |\n",
       "|    exploration_rate | 0.05     |\n",
       "| time/               |          |\n",
       "|    episodes         | 224      |\n",
       "|    fps              | 206      |\n",
       "|    time_elapsed     | 3        |\n",
       "|    total_timesteps  | 44800    |\n",
       "| train/              |          |\n",
       "|    learning_rate    | 0.001    |\n",
       "|    loss             | 20.4     |\n",
       "|    n_updates        | 11174    |\n",
       "----------------------------------\n"
      ]
     },
     "metadata": {},
     "output_type": "display_data"
    },
    {
     "data": {
      "text/html": [
       "<pre style=\"white-space:pre;overflow-x:auto;line-height:normal;font-family:Menlo,'DejaVu Sans Mono',consolas,'Courier New',monospace\">Finished training episode 45\n",
       "</pre>\n"
      ],
      "text/plain": [
       "Finished training episode 45\n"
      ]
     },
     "metadata": {},
     "output_type": "display_data"
    },
    {
     "data": {
      "text/html": [
       "<pre style=\"white-space:pre;overflow-x:auto;line-height:normal;font-family:Menlo,'DejaVu Sans Mono',consolas,'Courier New',monospace\">----------------------------------\n",
       "| rollout/            |          |\n",
       "|    exploration_rate | 0.05     |\n",
       "| time/               |          |\n",
       "|    episodes         | 228      |\n",
       "|    fps              | 204      |\n",
       "|    time_elapsed     | 2        |\n",
       "|    total_timesteps  | 45600    |\n",
       "| train/              |          |\n",
       "|    learning_rate    | 0.001    |\n",
       "|    loss             | 21       |\n",
       "|    n_updates        | 11374    |\n",
       "----------------------------------\n",
       "</pre>\n"
      ],
      "text/plain": [
       "----------------------------------\n",
       "| rollout/            |          |\n",
       "|    exploration_rate | 0.05     |\n",
       "| time/               |          |\n",
       "|    episodes         | 228      |\n",
       "|    fps              | 204      |\n",
       "|    time_elapsed     | 2        |\n",
       "|    total_timesteps  | 45600    |\n",
       "| train/              |          |\n",
       "|    learning_rate    | 0.001    |\n",
       "|    loss             | 21       |\n",
       "|    n_updates        | 11374    |\n",
       "----------------------------------\n"
      ]
     },
     "metadata": {},
     "output_type": "display_data"
    },
    {
     "data": {
      "text/html": [
       "<pre style=\"white-space:pre;overflow-x:auto;line-height:normal;font-family:Menlo,'DejaVu Sans Mono',consolas,'Courier New',monospace\">Finished training episode 46\n",
       "</pre>\n"
      ],
      "text/plain": [
       "Finished training episode 46\n"
      ]
     },
     "metadata": {},
     "output_type": "display_data"
    },
    {
     "data": {
      "text/html": [
       "<pre style=\"white-space:pre;overflow-x:auto;line-height:normal;font-family:Menlo,'DejaVu Sans Mono',consolas,'Courier New',monospace\">----------------------------------\n",
       "| rollout/            |          |\n",
       "|    exploration_rate | 0.05     |\n",
       "| time/               |          |\n",
       "|    episodes         | 232      |\n",
       "|    fps              | 213      |\n",
       "|    time_elapsed     | 1        |\n",
       "|    total_timesteps  | 46400    |\n",
       "| train/              |          |\n",
       "|    learning_rate    | 0.001    |\n",
       "|    loss             | 6.76     |\n",
       "|    n_updates        | 11574    |\n",
       "----------------------------------\n",
       "</pre>\n"
      ],
      "text/plain": [
       "----------------------------------\n",
       "| rollout/            |          |\n",
       "|    exploration_rate | 0.05     |\n",
       "| time/               |          |\n",
       "|    episodes         | 232      |\n",
       "|    fps              | 213      |\n",
       "|    time_elapsed     | 1        |\n",
       "|    total_timesteps  | 46400    |\n",
       "| train/              |          |\n",
       "|    learning_rate    | 0.001    |\n",
       "|    loss             | 6.76     |\n",
       "|    n_updates        | 11574    |\n",
       "----------------------------------\n"
      ]
     },
     "metadata": {},
     "output_type": "display_data"
    },
    {
     "data": {
      "text/html": [
       "<pre style=\"white-space:pre;overflow-x:auto;line-height:normal;font-family:Menlo,'DejaVu Sans Mono',consolas,'Courier New',monospace\">Finished training episode 47\n",
       "</pre>\n"
      ],
      "text/plain": [
       "Finished training episode 47\n"
      ]
     },
     "metadata": {},
     "output_type": "display_data"
    },
    {
     "data": {
      "text/html": [
       "<pre style=\"white-space:pre;overflow-x:auto;line-height:normal;font-family:Menlo,'DejaVu Sans Mono',consolas,'Courier New',monospace\">----------------------------------\n",
       "| rollout/            |          |\n",
       "|    exploration_rate | 0.05     |\n",
       "| time/               |          |\n",
       "|    episodes         | 236      |\n",
       "|    fps              | 202      |\n",
       "|    time_elapsed     | 0        |\n",
       "|    total_timesteps  | 47200    |\n",
       "| train/              |          |\n",
       "|    learning_rate    | 0.001    |\n",
       "|    loss             | 8.98     |\n",
       "|    n_updates        | 11774    |\n",
       "----------------------------------\n",
       "</pre>\n"
      ],
      "text/plain": [
       "----------------------------------\n",
       "| rollout/            |          |\n",
       "|    exploration_rate | 0.05     |\n",
       "| time/               |          |\n",
       "|    episodes         | 236      |\n",
       "|    fps              | 202      |\n",
       "|    time_elapsed     | 0        |\n",
       "|    total_timesteps  | 47200    |\n",
       "| train/              |          |\n",
       "|    learning_rate    | 0.001    |\n",
       "|    loss             | 8.98     |\n",
       "|    n_updates        | 11774    |\n",
       "----------------------------------\n"
      ]
     },
     "metadata": {},
     "output_type": "display_data"
    },
    {
     "data": {
      "text/html": [
       "<pre style=\"white-space:pre;overflow-x:auto;line-height:normal;font-family:Menlo,'DejaVu Sans Mono',consolas,'Courier New',monospace\">----------------------------------\n",
       "| rollout/            |          |\n",
       "|    exploration_rate | 0.05     |\n",
       "| time/               |          |\n",
       "|    episodes         | 240      |\n",
       "|    fps              | 204      |\n",
       "|    time_elapsed     | 4        |\n",
       "|    total_timesteps  | 48000    |\n",
       "| train/              |          |\n",
       "|    learning_rate    | 0.001    |\n",
       "|    loss             | 8.5      |\n",
       "|    n_updates        | 11974    |\n",
       "----------------------------------\n",
       "</pre>\n"
      ],
      "text/plain": [
       "----------------------------------\n",
       "| rollout/            |          |\n",
       "|    exploration_rate | 0.05     |\n",
       "| time/               |          |\n",
       "|    episodes         | 240      |\n",
       "|    fps              | 204      |\n",
       "|    time_elapsed     | 4        |\n",
       "|    total_timesteps  | 48000    |\n",
       "| train/              |          |\n",
       "|    learning_rate    | 0.001    |\n",
       "|    loss             | 8.5      |\n",
       "|    n_updates        | 11974    |\n",
       "----------------------------------\n"
      ]
     },
     "metadata": {},
     "output_type": "display_data"
    },
    {
     "data": {
      "text/html": [
       "<pre style=\"white-space:pre;overflow-x:auto;line-height:normal;font-family:Menlo,'DejaVu Sans Mono',consolas,'Courier New',monospace\">Finished training episode 48\n",
       "</pre>\n"
      ],
      "text/plain": [
       "Finished training episode 48\n"
      ]
     },
     "metadata": {},
     "output_type": "display_data"
    },
    {
     "data": {
      "text/html": [
       "<pre style=\"white-space:pre;overflow-x:auto;line-height:normal;font-family:Menlo,'DejaVu Sans Mono',consolas,'Courier New',monospace\">----------------------------------\n",
       "| rollout/            |          |\n",
       "|    exploration_rate | 0.05     |\n",
       "| time/               |          |\n",
       "|    episodes         | 244      |\n",
       "|    fps              | 197      |\n",
       "|    time_elapsed     | 4        |\n",
       "|    total_timesteps  | 48800    |\n",
       "| train/              |          |\n",
       "|    learning_rate    | 0.001    |\n",
       "|    loss             | 7.87     |\n",
       "|    n_updates        | 12174    |\n",
       "----------------------------------\n",
       "</pre>\n"
      ],
      "text/plain": [
       "----------------------------------\n",
       "| rollout/            |          |\n",
       "|    exploration_rate | 0.05     |\n",
       "| time/               |          |\n",
       "|    episodes         | 244      |\n",
       "|    fps              | 197      |\n",
       "|    time_elapsed     | 4        |\n",
       "|    total_timesteps  | 48800    |\n",
       "| train/              |          |\n",
       "|    learning_rate    | 0.001    |\n",
       "|    loss             | 7.87     |\n",
       "|    n_updates        | 12174    |\n",
       "----------------------------------\n"
      ]
     },
     "metadata": {},
     "output_type": "display_data"
    },
    {
     "data": {
      "text/html": [
       "<pre style=\"white-space:pre;overflow-x:auto;line-height:normal;font-family:Menlo,'DejaVu Sans Mono',consolas,'Courier New',monospace\">Finished training episode 49\n",
       "</pre>\n"
      ],
      "text/plain": [
       "Finished training episode 49\n"
      ]
     },
     "metadata": {},
     "output_type": "display_data"
    },
    {
     "data": {
      "text/html": [
       "<pre style=\"white-space:pre;overflow-x:auto;line-height:normal;font-family:Menlo,'DejaVu Sans Mono',consolas,'Courier New',monospace\">----------------------------------\n",
       "| rollout/            |          |\n",
       "|    exploration_rate | 0.05     |\n",
       "| time/               |          |\n",
       "|    episodes         | 248      |\n",
       "|    fps              | 196      |\n",
       "|    time_elapsed     | 3        |\n",
       "|    total_timesteps  | 49600    |\n",
       "| train/              |          |\n",
       "|    learning_rate    | 0.001    |\n",
       "|    loss             | 7.85     |\n",
       "|    n_updates        | 12374    |\n",
       "----------------------------------\n",
       "</pre>\n"
      ],
      "text/plain": [
       "----------------------------------\n",
       "| rollout/            |          |\n",
       "|    exploration_rate | 0.05     |\n",
       "| time/               |          |\n",
       "|    episodes         | 248      |\n",
       "|    fps              | 196      |\n",
       "|    time_elapsed     | 3        |\n",
       "|    total_timesteps  | 49600    |\n",
       "| train/              |          |\n",
       "|    learning_rate    | 0.001    |\n",
       "|    loss             | 7.85     |\n",
       "|    n_updates        | 12374    |\n",
       "----------------------------------\n"
      ]
     },
     "metadata": {},
     "output_type": "display_data"
    },
    {
     "data": {
      "text/html": [
       "<pre style=\"white-space:pre;overflow-x:auto;line-height:normal;font-family:Menlo,'DejaVu Sans Mono',consolas,'Courier New',monospace\">Finished training episode 50\n",
       "</pre>\n"
      ],
      "text/plain": [
       "Finished training episode 50\n"
      ]
     },
     "metadata": {},
     "output_type": "display_data"
    },
    {
     "data": {
      "text/html": [
       "<pre style=\"white-space:pre;overflow-x:auto;line-height:normal;font-family:Menlo,'DejaVu Sans Mono',consolas,'Courier New',monospace\">----------------------------------\n",
       "| rollout/            |          |\n",
       "|    exploration_rate | 0.05     |\n",
       "| time/               |          |\n",
       "|    episodes         | 252      |\n",
       "|    fps              | 195      |\n",
       "|    time_elapsed     | 2        |\n",
       "|    total_timesteps  | 50400    |\n",
       "| train/              |          |\n",
       "|    learning_rate    | 0.001    |\n",
       "|    loss             | 10.6     |\n",
       "|    n_updates        | 12574    |\n",
       "----------------------------------\n",
       "</pre>\n"
      ],
      "text/plain": [
       "----------------------------------\n",
       "| rollout/            |          |\n",
       "|    exploration_rate | 0.05     |\n",
       "| time/               |          |\n",
       "|    episodes         | 252      |\n",
       "|    fps              | 195      |\n",
       "|    time_elapsed     | 2        |\n",
       "|    total_timesteps  | 50400    |\n",
       "| train/              |          |\n",
       "|    learning_rate    | 0.001    |\n",
       "|    loss             | 10.6     |\n",
       "|    n_updates        | 12574    |\n",
       "----------------------------------\n"
      ]
     },
     "metadata": {},
     "output_type": "display_data"
    },
    {
     "data": {
      "text/html": [
       "<pre style=\"white-space:pre;overflow-x:auto;line-height:normal;font-family:Menlo,'DejaVu Sans Mono',consolas,'Courier New',monospace\">Finished training episode 51\n",
       "</pre>\n"
      ],
      "text/plain": [
       "Finished training episode 51\n"
      ]
     },
     "metadata": {},
     "output_type": "display_data"
    },
    {
     "data": {
      "text/html": [
       "<pre style=\"white-space:pre;overflow-x:auto;line-height:normal;font-family:Menlo,'DejaVu Sans Mono',consolas,'Courier New',monospace\">----------------------------------\n",
       "| rollout/            |          |\n",
       "|    exploration_rate | 0.05     |\n",
       "| time/               |          |\n",
       "|    episodes         | 256      |\n",
       "|    fps              | 189      |\n",
       "|    time_elapsed     | 1        |\n",
       "|    total_timesteps  | 51200    |\n",
       "| train/              |          |\n",
       "|    learning_rate    | 0.001    |\n",
       "|    loss             | 8.37     |\n",
       "|    n_updates        | 12774    |\n",
       "----------------------------------\n",
       "</pre>\n"
      ],
      "text/plain": [
       "----------------------------------\n",
       "| rollout/            |          |\n",
       "|    exploration_rate | 0.05     |\n",
       "| time/               |          |\n",
       "|    episodes         | 256      |\n",
       "|    fps              | 189      |\n",
       "|    time_elapsed     | 1        |\n",
       "|    total_timesteps  | 51200    |\n",
       "| train/              |          |\n",
       "|    learning_rate    | 0.001    |\n",
       "|    loss             | 8.37     |\n",
       "|    n_updates        | 12774    |\n",
       "----------------------------------\n"
      ]
     },
     "metadata": {},
     "output_type": "display_data"
    },
    {
     "data": {
      "text/html": [
       "<pre style=\"white-space:pre;overflow-x:auto;line-height:normal;font-family:Menlo,'DejaVu Sans Mono',consolas,'Courier New',monospace\">----------------------------------\n",
       "| rollout/            |          |\n",
       "|    exploration_rate | 0.05     |\n",
       "| time/               |          |\n",
       "|    episodes         | 260      |\n",
       "|    fps              | 193      |\n",
       "|    time_elapsed     | 5        |\n",
       "|    total_timesteps  | 52000    |\n",
       "| train/              |          |\n",
       "|    learning_rate    | 0.001    |\n",
       "|    loss             | 9.26     |\n",
       "|    n_updates        | 12974    |\n",
       "----------------------------------\n",
       "</pre>\n"
      ],
      "text/plain": [
       "----------------------------------\n",
       "| rollout/            |          |\n",
       "|    exploration_rate | 0.05     |\n",
       "| time/               |          |\n",
       "|    episodes         | 260      |\n",
       "|    fps              | 193      |\n",
       "|    time_elapsed     | 5        |\n",
       "|    total_timesteps  | 52000    |\n",
       "| train/              |          |\n",
       "|    learning_rate    | 0.001    |\n",
       "|    loss             | 9.26     |\n",
       "|    n_updates        | 12974    |\n",
       "----------------------------------\n"
      ]
     },
     "metadata": {},
     "output_type": "display_data"
    },
    {
     "data": {
      "text/html": [
       "<pre style=\"white-space:pre;overflow-x:auto;line-height:normal;font-family:Menlo,'DejaVu Sans Mono',consolas,'Courier New',monospace\">Finished training episode 52\n",
       "</pre>\n"
      ],
      "text/plain": [
       "Finished training episode 52\n"
      ]
     },
     "metadata": {},
     "output_type": "display_data"
    },
    {
     "data": {
      "text/html": [
       "<pre style=\"white-space:pre;overflow-x:auto;line-height:normal;font-family:Menlo,'DejaVu Sans Mono',consolas,'Courier New',monospace\">----------------------------------\n",
       "| rollout/            |          |\n",
       "|    exploration_rate | 0.05     |\n",
       "| time/               |          |\n",
       "|    episodes         | 264      |\n",
       "|    fps              | 198      |\n",
       "|    time_elapsed     | 4        |\n",
       "|    total_timesteps  | 52800    |\n",
       "| train/              |          |\n",
       "|    learning_rate    | 0.001    |\n",
       "|    loss             | 8.13     |\n",
       "|    n_updates        | 13174    |\n",
       "----------------------------------\n",
       "</pre>\n"
      ],
      "text/plain": [
       "----------------------------------\n",
       "| rollout/            |          |\n",
       "|    exploration_rate | 0.05     |\n",
       "| time/               |          |\n",
       "|    episodes         | 264      |\n",
       "|    fps              | 198      |\n",
       "|    time_elapsed     | 4        |\n",
       "|    total_timesteps  | 52800    |\n",
       "| train/              |          |\n",
       "|    learning_rate    | 0.001    |\n",
       "|    loss             | 8.13     |\n",
       "|    n_updates        | 13174    |\n",
       "----------------------------------\n"
      ]
     },
     "metadata": {},
     "output_type": "display_data"
    },
    {
     "data": {
      "text/html": [
       "<pre style=\"white-space:pre;overflow-x:auto;line-height:normal;font-family:Menlo,'DejaVu Sans Mono',consolas,'Courier New',monospace\">Finished training episode 53\n",
       "</pre>\n"
      ],
      "text/plain": [
       "Finished training episode 53\n"
      ]
     },
     "metadata": {},
     "output_type": "display_data"
    },
    {
     "data": {
      "text/html": [
       "<pre style=\"white-space:pre;overflow-x:auto;line-height:normal;font-family:Menlo,'DejaVu Sans Mono',consolas,'Courier New',monospace\">----------------------------------\n",
       "| rollout/            |          |\n",
       "|    exploration_rate | 0.05     |\n",
       "| time/               |          |\n",
       "|    episodes         | 268      |\n",
       "|    fps              | 200      |\n",
       "|    time_elapsed     | 2        |\n",
       "|    total_timesteps  | 53600    |\n",
       "| train/              |          |\n",
       "|    learning_rate    | 0.001    |\n",
       "|    loss             | 8.29     |\n",
       "|    n_updates        | 13374    |\n",
       "----------------------------------\n",
       "</pre>\n"
      ],
      "text/plain": [
       "----------------------------------\n",
       "| rollout/            |          |\n",
       "|    exploration_rate | 0.05     |\n",
       "| time/               |          |\n",
       "|    episodes         | 268      |\n",
       "|    fps              | 200      |\n",
       "|    time_elapsed     | 2        |\n",
       "|    total_timesteps  | 53600    |\n",
       "| train/              |          |\n",
       "|    learning_rate    | 0.001    |\n",
       "|    loss             | 8.29     |\n",
       "|    n_updates        | 13374    |\n",
       "----------------------------------\n"
      ]
     },
     "metadata": {},
     "output_type": "display_data"
    },
    {
     "data": {
      "text/html": [
       "<pre style=\"white-space:pre;overflow-x:auto;line-height:normal;font-family:Menlo,'DejaVu Sans Mono',consolas,'Courier New',monospace\">Finished training episode 54\n",
       "</pre>\n"
      ],
      "text/plain": [
       "Finished training episode 54\n"
      ]
     },
     "metadata": {},
     "output_type": "display_data"
    },
    {
     "data": {
      "text/html": [
       "<pre style=\"white-space:pre;overflow-x:auto;line-height:normal;font-family:Menlo,'DejaVu Sans Mono',consolas,'Courier New',monospace\">----------------------------------\n",
       "| rollout/            |          |\n",
       "|    exploration_rate | 0.05     |\n",
       "| time/               |          |\n",
       "|    episodes         | 272      |\n",
       "|    fps              | 204      |\n",
       "|    time_elapsed     | 1        |\n",
       "|    total_timesteps  | 54400    |\n",
       "| train/              |          |\n",
       "|    learning_rate    | 0.001    |\n",
       "|    loss             | 9.23     |\n",
       "|    n_updates        | 13574    |\n",
       "----------------------------------\n",
       "</pre>\n"
      ],
      "text/plain": [
       "----------------------------------\n",
       "| rollout/            |          |\n",
       "|    exploration_rate | 0.05     |\n",
       "| time/               |          |\n",
       "|    episodes         | 272      |\n",
       "|    fps              | 204      |\n",
       "|    time_elapsed     | 1        |\n",
       "|    total_timesteps  | 54400    |\n",
       "| train/              |          |\n",
       "|    learning_rate    | 0.001    |\n",
       "|    loss             | 9.23     |\n",
       "|    n_updates        | 13574    |\n",
       "----------------------------------\n"
      ]
     },
     "metadata": {},
     "output_type": "display_data"
    },
    {
     "data": {
      "text/html": [
       "<pre style=\"white-space:pre;overflow-x:auto;line-height:normal;font-family:Menlo,'DejaVu Sans Mono',consolas,'Courier New',monospace\">Finished training episode 55\n",
       "</pre>\n"
      ],
      "text/plain": [
       "Finished training episode 55\n"
      ]
     },
     "metadata": {},
     "output_type": "display_data"
    },
    {
     "data": {
      "text/html": [
       "<pre style=\"white-space:pre;overflow-x:auto;line-height:normal;font-family:Menlo,'DejaVu Sans Mono',consolas,'Courier New',monospace\">----------------------------------\n",
       "| rollout/            |          |\n",
       "|    exploration_rate | 0.05     |\n",
       "| time/               |          |\n",
       "|    episodes         | 276      |\n",
       "|    fps              | 213      |\n",
       "|    time_elapsed     | 0        |\n",
       "|    total_timesteps  | 55200    |\n",
       "| train/              |          |\n",
       "|    learning_rate    | 0.001    |\n",
       "|    loss             | 21       |\n",
       "|    n_updates        | 13774    |\n",
       "----------------------------------\n",
       "</pre>\n"
      ],
      "text/plain": [
       "----------------------------------\n",
       "| rollout/            |          |\n",
       "|    exploration_rate | 0.05     |\n",
       "| time/               |          |\n",
       "|    episodes         | 276      |\n",
       "|    fps              | 213      |\n",
       "|    time_elapsed     | 0        |\n",
       "|    total_timesteps  | 55200    |\n",
       "| train/              |          |\n",
       "|    learning_rate    | 0.001    |\n",
       "|    loss             | 21       |\n",
       "|    n_updates        | 13774    |\n",
       "----------------------------------\n"
      ]
     },
     "metadata": {},
     "output_type": "display_data"
    },
    {
     "data": {
      "text/html": [
       "<pre style=\"white-space:pre;overflow-x:auto;line-height:normal;font-family:Menlo,'DejaVu Sans Mono',consolas,'Courier New',monospace\">----------------------------------\n",
       "| rollout/            |          |\n",
       "|    exploration_rate | 0.05     |\n",
       "| time/               |          |\n",
       "|    episodes         | 280      |\n",
       "|    fps              | 203      |\n",
       "|    time_elapsed     | 4        |\n",
       "|    total_timesteps  | 56000    |\n",
       "| train/              |          |\n",
       "|    learning_rate    | 0.001    |\n",
       "|    loss             | 42.8     |\n",
       "|    n_updates        | 13974    |\n",
       "----------------------------------\n",
       "</pre>\n"
      ],
      "text/plain": [
       "----------------------------------\n",
       "| rollout/            |          |\n",
       "|    exploration_rate | 0.05     |\n",
       "| time/               |          |\n",
       "|    episodes         | 280      |\n",
       "|    fps              | 203      |\n",
       "|    time_elapsed     | 4        |\n",
       "|    total_timesteps  | 56000    |\n",
       "| train/              |          |\n",
       "|    learning_rate    | 0.001    |\n",
       "|    loss             | 42.8     |\n",
       "|    n_updates        | 13974    |\n",
       "----------------------------------\n"
      ]
     },
     "metadata": {},
     "output_type": "display_data"
    },
    {
     "data": {
      "text/html": [
       "<pre style=\"white-space:pre;overflow-x:auto;line-height:normal;font-family:Menlo,'DejaVu Sans Mono',consolas,'Courier New',monospace\">Finished training episode 56\n",
       "</pre>\n"
      ],
      "text/plain": [
       "Finished training episode 56\n"
      ]
     },
     "metadata": {},
     "output_type": "display_data"
    },
    {
     "data": {
      "text/html": [
       "<pre style=\"white-space:pre;overflow-x:auto;line-height:normal;font-family:Menlo,'DejaVu Sans Mono',consolas,'Courier New',monospace\">----------------------------------\n",
       "| rollout/            |          |\n",
       "|    exploration_rate | 0.05     |\n",
       "| time/               |          |\n",
       "|    episodes         | 284      |\n",
       "|    fps              | 201      |\n",
       "|    time_elapsed     | 3        |\n",
       "|    total_timesteps  | 56800    |\n",
       "| train/              |          |\n",
       "|    learning_rate    | 0.001    |\n",
       "|    loss             | 20.9     |\n",
       "|    n_updates        | 14174    |\n",
       "----------------------------------\n",
       "</pre>\n"
      ],
      "text/plain": [
       "----------------------------------\n",
       "| rollout/            |          |\n",
       "|    exploration_rate | 0.05     |\n",
       "| time/               |          |\n",
       "|    episodes         | 284      |\n",
       "|    fps              | 201      |\n",
       "|    time_elapsed     | 3        |\n",
       "|    total_timesteps  | 56800    |\n",
       "| train/              |          |\n",
       "|    learning_rate    | 0.001    |\n",
       "|    loss             | 20.9     |\n",
       "|    n_updates        | 14174    |\n",
       "----------------------------------\n"
      ]
     },
     "metadata": {},
     "output_type": "display_data"
    },
    {
     "data": {
      "text/html": [
       "<pre style=\"white-space:pre;overflow-x:auto;line-height:normal;font-family:Menlo,'DejaVu Sans Mono',consolas,'Courier New',monospace\">Finished training episode 57\n",
       "</pre>\n"
      ],
      "text/plain": [
       "Finished training episode 57\n"
      ]
     },
     "metadata": {},
     "output_type": "display_data"
    },
    {
     "data": {
      "text/html": [
       "<pre style=\"white-space:pre;overflow-x:auto;line-height:normal;font-family:Menlo,'DejaVu Sans Mono',consolas,'Courier New',monospace\">----------------------------------\n",
       "| rollout/            |          |\n",
       "|    exploration_rate | 0.05     |\n",
       "| time/               |          |\n",
       "|    episodes         | 288      |\n",
       "|    fps              | 202      |\n",
       "|    time_elapsed     | 2        |\n",
       "|    total_timesteps  | 57600    |\n",
       "| train/              |          |\n",
       "|    learning_rate    | 0.001    |\n",
       "|    loss             | 8.06     |\n",
       "|    n_updates        | 14374    |\n",
       "----------------------------------\n",
       "</pre>\n"
      ],
      "text/plain": [
       "----------------------------------\n",
       "| rollout/            |          |\n",
       "|    exploration_rate | 0.05     |\n",
       "| time/               |          |\n",
       "|    episodes         | 288      |\n",
       "|    fps              | 202      |\n",
       "|    time_elapsed     | 2        |\n",
       "|    total_timesteps  | 57600    |\n",
       "| train/              |          |\n",
       "|    learning_rate    | 0.001    |\n",
       "|    loss             | 8.06     |\n",
       "|    n_updates        | 14374    |\n",
       "----------------------------------\n"
      ]
     },
     "metadata": {},
     "output_type": "display_data"
    },
    {
     "data": {
      "text/html": [
       "<pre style=\"white-space:pre;overflow-x:auto;line-height:normal;font-family:Menlo,'DejaVu Sans Mono',consolas,'Courier New',monospace\">Finished training episode 58\n",
       "</pre>\n"
      ],
      "text/plain": [
       "Finished training episode 58\n"
      ]
     },
     "metadata": {},
     "output_type": "display_data"
    },
    {
     "data": {
      "text/html": [
       "<pre style=\"white-space:pre;overflow-x:auto;line-height:normal;font-family:Menlo,'DejaVu Sans Mono',consolas,'Courier New',monospace\">----------------------------------\n",
       "| rollout/            |          |\n",
       "|    exploration_rate | 0.05     |\n",
       "| time/               |          |\n",
       "|    episodes         | 292      |\n",
       "|    fps              | 211      |\n",
       "|    time_elapsed     | 1        |\n",
       "|    total_timesteps  | 58400    |\n",
       "| train/              |          |\n",
       "|    learning_rate    | 0.001    |\n",
       "|    loss             | 8.77     |\n",
       "|    n_updates        | 14574    |\n",
       "----------------------------------\n",
       "</pre>\n"
      ],
      "text/plain": [
       "----------------------------------\n",
       "| rollout/            |          |\n",
       "|    exploration_rate | 0.05     |\n",
       "| time/               |          |\n",
       "|    episodes         | 292      |\n",
       "|    fps              | 211      |\n",
       "|    time_elapsed     | 1        |\n",
       "|    total_timesteps  | 58400    |\n",
       "| train/              |          |\n",
       "|    learning_rate    | 0.001    |\n",
       "|    loss             | 8.77     |\n",
       "|    n_updates        | 14574    |\n",
       "----------------------------------\n"
      ]
     },
     "metadata": {},
     "output_type": "display_data"
    },
    {
     "data": {
      "text/html": [
       "<pre style=\"white-space:pre;overflow-x:auto;line-height:normal;font-family:Menlo,'DejaVu Sans Mono',consolas,'Courier New',monospace\">Finished training episode 59\n",
       "</pre>\n"
      ],
      "text/plain": [
       "Finished training episode 59\n"
      ]
     },
     "metadata": {},
     "output_type": "display_data"
    },
    {
     "data": {
      "text/html": [
       "<pre style=\"white-space:pre;overflow-x:auto;line-height:normal;font-family:Menlo,'DejaVu Sans Mono',consolas,'Courier New',monospace\">----------------------------------\n",
       "| rollout/            |          |\n",
       "|    exploration_rate | 0.05     |\n",
       "| time/               |          |\n",
       "|    episodes         | 296      |\n",
       "|    fps              | 226      |\n",
       "|    time_elapsed     | 0        |\n",
       "|    total_timesteps  | 59200    |\n",
       "| train/              |          |\n",
       "|    learning_rate    | 0.001    |\n",
       "|    loss             | 7.71     |\n",
       "|    n_updates        | 14774    |\n",
       "----------------------------------\n",
       "</pre>\n"
      ],
      "text/plain": [
       "----------------------------------\n",
       "| rollout/            |          |\n",
       "|    exploration_rate | 0.05     |\n",
       "| time/               |          |\n",
       "|    episodes         | 296      |\n",
       "|    fps              | 226      |\n",
       "|    time_elapsed     | 0        |\n",
       "|    total_timesteps  | 59200    |\n",
       "| train/              |          |\n",
       "|    learning_rate    | 0.001    |\n",
       "|    loss             | 7.71     |\n",
       "|    n_updates        | 14774    |\n",
       "----------------------------------\n"
      ]
     },
     "metadata": {},
     "output_type": "display_data"
    },
    {
     "data": {
      "text/html": [
       "<pre style=\"white-space:pre;overflow-x:auto;line-height:normal;font-family:Menlo,'DejaVu Sans Mono',consolas,'Courier New',monospace\">----------------------------------\n",
       "| rollout/            |          |\n",
       "|    exploration_rate | 0.05     |\n",
       "| time/               |          |\n",
       "|    episodes         | 300      |\n",
       "|    fps              | 213      |\n",
       "|    time_elapsed     | 4        |\n",
       "|    total_timesteps  | 60000    |\n",
       "| train/              |          |\n",
       "|    learning_rate    | 0.001    |\n",
       "|    loss             | 9.16     |\n",
       "|    n_updates        | 14974    |\n",
       "----------------------------------\n",
       "</pre>\n"
      ],
      "text/plain": [
       "----------------------------------\n",
       "| rollout/            |          |\n",
       "|    exploration_rate | 0.05     |\n",
       "| time/               |          |\n",
       "|    episodes         | 300      |\n",
       "|    fps              | 213      |\n",
       "|    time_elapsed     | 4        |\n",
       "|    total_timesteps  | 60000    |\n",
       "| train/              |          |\n",
       "|    learning_rate    | 0.001    |\n",
       "|    loss             | 9.16     |\n",
       "|    n_updates        | 14974    |\n",
       "----------------------------------\n"
      ]
     },
     "metadata": {},
     "output_type": "display_data"
    },
    {
     "data": {
      "text/html": [
       "<pre style=\"white-space:pre;overflow-x:auto;line-height:normal;font-family:Menlo,'DejaVu Sans Mono',consolas,'Courier New',monospace\">Finished training episode 60\n",
       "</pre>\n"
      ],
      "text/plain": [
       "Finished training episode 60\n"
      ]
     },
     "metadata": {},
     "output_type": "display_data"
    },
    {
     "data": {
      "text/html": [
       "<pre style=\"white-space:pre;overflow-x:auto;line-height:normal;font-family:Menlo,'DejaVu Sans Mono',consolas,'Courier New',monospace\">----------------------------------\n",
       "| rollout/            |          |\n",
       "|    exploration_rate | 0.05     |\n",
       "| time/               |          |\n",
       "|    episodes         | 304      |\n",
       "|    fps              | 208      |\n",
       "|    time_elapsed     | 3        |\n",
       "|    total_timesteps  | 60800    |\n",
       "| train/              |          |\n",
       "|    learning_rate    | 0.001    |\n",
       "|    loss             | 24.2     |\n",
       "|    n_updates        | 15174    |\n",
       "----------------------------------\n",
       "</pre>\n"
      ],
      "text/plain": [
       "----------------------------------\n",
       "| rollout/            |          |\n",
       "|    exploration_rate | 0.05     |\n",
       "| time/               |          |\n",
       "|    episodes         | 304      |\n",
       "|    fps              | 208      |\n",
       "|    time_elapsed     | 3        |\n",
       "|    total_timesteps  | 60800    |\n",
       "| train/              |          |\n",
       "|    learning_rate    | 0.001    |\n",
       "|    loss             | 24.2     |\n",
       "|    n_updates        | 15174    |\n",
       "----------------------------------\n"
      ]
     },
     "metadata": {},
     "output_type": "display_data"
    },
    {
     "data": {
      "text/html": [
       "<pre style=\"white-space:pre;overflow-x:auto;line-height:normal;font-family:Menlo,'DejaVu Sans Mono',consolas,'Courier New',monospace\">Finished training episode 61\n",
       "</pre>\n"
      ],
      "text/plain": [
       "Finished training episode 61\n"
      ]
     },
     "metadata": {},
     "output_type": "display_data"
    },
    {
     "data": {
      "text/html": [
       "<pre style=\"white-space:pre;overflow-x:auto;line-height:normal;font-family:Menlo,'DejaVu Sans Mono',consolas,'Courier New',monospace\">----------------------------------\n",
       "| rollout/            |          |\n",
       "|    exploration_rate | 0.05     |\n",
       "| time/               |          |\n",
       "|    episodes         | 308      |\n",
       "|    fps              | 206      |\n",
       "|    time_elapsed     | 2        |\n",
       "|    total_timesteps  | 61600    |\n",
       "| train/              |          |\n",
       "|    learning_rate    | 0.001    |\n",
       "|    loss             | 9.18     |\n",
       "|    n_updates        | 15374    |\n",
       "----------------------------------\n",
       "</pre>\n"
      ],
      "text/plain": [
       "----------------------------------\n",
       "| rollout/            |          |\n",
       "|    exploration_rate | 0.05     |\n",
       "| time/               |          |\n",
       "|    episodes         | 308      |\n",
       "|    fps              | 206      |\n",
       "|    time_elapsed     | 2        |\n",
       "|    total_timesteps  | 61600    |\n",
       "| train/              |          |\n",
       "|    learning_rate    | 0.001    |\n",
       "|    loss             | 9.18     |\n",
       "|    n_updates        | 15374    |\n",
       "----------------------------------\n"
      ]
     },
     "metadata": {},
     "output_type": "display_data"
    },
    {
     "data": {
      "text/html": [
       "<pre style=\"white-space:pre;overflow-x:auto;line-height:normal;font-family:Menlo,'DejaVu Sans Mono',consolas,'Courier New',monospace\">Finished training episode 62\n",
       "</pre>\n"
      ],
      "text/plain": [
       "Finished training episode 62\n"
      ]
     },
     "metadata": {},
     "output_type": "display_data"
    },
    {
     "data": {
      "text/html": [
       "<pre style=\"white-space:pre;overflow-x:auto;line-height:normal;font-family:Menlo,'DejaVu Sans Mono',consolas,'Courier New',monospace\">----------------------------------\n",
       "| rollout/            |          |\n",
       "|    exploration_rate | 0.05     |\n",
       "| time/               |          |\n",
       "|    episodes         | 312      |\n",
       "|    fps              | 203      |\n",
       "|    time_elapsed     | 1        |\n",
       "|    total_timesteps  | 62400    |\n",
       "| train/              |          |\n",
       "|    learning_rate    | 0.001    |\n",
       "|    loss             | 10       |\n",
       "|    n_updates        | 15574    |\n",
       "----------------------------------\n",
       "</pre>\n"
      ],
      "text/plain": [
       "----------------------------------\n",
       "| rollout/            |          |\n",
       "|    exploration_rate | 0.05     |\n",
       "| time/               |          |\n",
       "|    episodes         | 312      |\n",
       "|    fps              | 203      |\n",
       "|    time_elapsed     | 1        |\n",
       "|    total_timesteps  | 62400    |\n",
       "| train/              |          |\n",
       "|    learning_rate    | 0.001    |\n",
       "|    loss             | 10       |\n",
       "|    n_updates        | 15574    |\n",
       "----------------------------------\n"
      ]
     },
     "metadata": {},
     "output_type": "display_data"
    },
    {
     "data": {
      "text/html": [
       "<pre style=\"white-space:pre;overflow-x:auto;line-height:normal;font-family:Menlo,'DejaVu Sans Mono',consolas,'Courier New',monospace\">Finished training episode 63\n",
       "</pre>\n"
      ],
      "text/plain": [
       "Finished training episode 63\n"
      ]
     },
     "metadata": {},
     "output_type": "display_data"
    },
    {
     "data": {
      "text/html": [
       "<pre style=\"white-space:pre;overflow-x:auto;line-height:normal;font-family:Menlo,'DejaVu Sans Mono',consolas,'Courier New',monospace\">----------------------------------\n",
       "| rollout/            |          |\n",
       "|    exploration_rate | 0.05     |\n",
       "| time/               |          |\n",
       "|    episodes         | 316      |\n",
       "|    fps              | 207      |\n",
       "|    time_elapsed     | 0        |\n",
       "|    total_timesteps  | 63200    |\n",
       "| train/              |          |\n",
       "|    learning_rate    | 0.001    |\n",
       "|    loss             | 11.9     |\n",
       "|    n_updates        | 15774    |\n",
       "----------------------------------\n",
       "</pre>\n"
      ],
      "text/plain": [
       "----------------------------------\n",
       "| rollout/            |          |\n",
       "|    exploration_rate | 0.05     |\n",
       "| time/               |          |\n",
       "|    episodes         | 316      |\n",
       "|    fps              | 207      |\n",
       "|    time_elapsed     | 0        |\n",
       "|    total_timesteps  | 63200    |\n",
       "| train/              |          |\n",
       "|    learning_rate    | 0.001    |\n",
       "|    loss             | 11.9     |\n",
       "|    n_updates        | 15774    |\n",
       "----------------------------------\n"
      ]
     },
     "metadata": {},
     "output_type": "display_data"
    },
    {
     "data": {
      "text/html": [
       "<pre style=\"white-space:pre;overflow-x:auto;line-height:normal;font-family:Menlo,'DejaVu Sans Mono',consolas,'Courier New',monospace\">----------------------------------\n",
       "| rollout/            |          |\n",
       "|    exploration_rate | 0.05     |\n",
       "| time/               |          |\n",
       "|    episodes         | 320      |\n",
       "|    fps              | 208      |\n",
       "|    time_elapsed     | 4        |\n",
       "|    total_timesteps  | 64000    |\n",
       "| train/              |          |\n",
       "|    learning_rate    | 0.001    |\n",
       "|    loss             | 11.1     |\n",
       "|    n_updates        | 15974    |\n",
       "----------------------------------\n",
       "</pre>\n"
      ],
      "text/plain": [
       "----------------------------------\n",
       "| rollout/            |          |\n",
       "|    exploration_rate | 0.05     |\n",
       "| time/               |          |\n",
       "|    episodes         | 320      |\n",
       "|    fps              | 208      |\n",
       "|    time_elapsed     | 4        |\n",
       "|    total_timesteps  | 64000    |\n",
       "| train/              |          |\n",
       "|    learning_rate    | 0.001    |\n",
       "|    loss             | 11.1     |\n",
       "|    n_updates        | 15974    |\n",
       "----------------------------------\n"
      ]
     },
     "metadata": {},
     "output_type": "display_data"
    },
    {
     "data": {
      "text/html": [
       "<pre style=\"white-space:pre;overflow-x:auto;line-height:normal;font-family:Menlo,'DejaVu Sans Mono',consolas,'Courier New',monospace\">Finished training episode 64\n",
       "</pre>\n"
      ],
      "text/plain": [
       "Finished training episode 64\n"
      ]
     },
     "metadata": {},
     "output_type": "display_data"
    },
    {
     "data": {
      "text/html": [
       "<pre style=\"white-space:pre;overflow-x:auto;line-height:normal;font-family:Menlo,'DejaVu Sans Mono',consolas,'Courier New',monospace\">----------------------------------\n",
       "| rollout/            |          |\n",
       "|    exploration_rate | 0.05     |\n",
       "| time/               |          |\n",
       "|    episodes         | 324      |\n",
       "|    fps              | 204      |\n",
       "|    time_elapsed     | 3        |\n",
       "|    total_timesteps  | 64800    |\n",
       "| train/              |          |\n",
       "|    learning_rate    | 0.001    |\n",
       "|    loss             | 45.1     |\n",
       "|    n_updates        | 16174    |\n",
       "----------------------------------\n",
       "</pre>\n"
      ],
      "text/plain": [
       "----------------------------------\n",
       "| rollout/            |          |\n",
       "|    exploration_rate | 0.05     |\n",
       "| time/               |          |\n",
       "|    episodes         | 324      |\n",
       "|    fps              | 204      |\n",
       "|    time_elapsed     | 3        |\n",
       "|    total_timesteps  | 64800    |\n",
       "| train/              |          |\n",
       "|    learning_rate    | 0.001    |\n",
       "|    loss             | 45.1     |\n",
       "|    n_updates        | 16174    |\n",
       "----------------------------------\n"
      ]
     },
     "metadata": {},
     "output_type": "display_data"
    },
    {
     "data": {
      "text/html": [
       "<pre style=\"white-space:pre;overflow-x:auto;line-height:normal;font-family:Menlo,'DejaVu Sans Mono',consolas,'Courier New',monospace\">Finished training episode 65\n",
       "</pre>\n"
      ],
      "text/plain": [
       "Finished training episode 65\n"
      ]
     },
     "metadata": {},
     "output_type": "display_data"
    },
    {
     "data": {
      "text/html": [
       "<pre style=\"white-space:pre;overflow-x:auto;line-height:normal;font-family:Menlo,'DejaVu Sans Mono',consolas,'Courier New',monospace\">----------------------------------\n",
       "| rollout/            |          |\n",
       "|    exploration_rate | 0.05     |\n",
       "| time/               |          |\n",
       "|    episodes         | 328      |\n",
       "|    fps              | 205      |\n",
       "|    time_elapsed     | 2        |\n",
       "|    total_timesteps  | 65600    |\n",
       "| train/              |          |\n",
       "|    learning_rate    | 0.001    |\n",
       "|    loss             | 28.3     |\n",
       "|    n_updates        | 16374    |\n",
       "----------------------------------\n",
       "</pre>\n"
      ],
      "text/plain": [
       "----------------------------------\n",
       "| rollout/            |          |\n",
       "|    exploration_rate | 0.05     |\n",
       "| time/               |          |\n",
       "|    episodes         | 328      |\n",
       "|    fps              | 205      |\n",
       "|    time_elapsed     | 2        |\n",
       "|    total_timesteps  | 65600    |\n",
       "| train/              |          |\n",
       "|    learning_rate    | 0.001    |\n",
       "|    loss             | 28.3     |\n",
       "|    n_updates        | 16374    |\n",
       "----------------------------------\n"
      ]
     },
     "metadata": {},
     "output_type": "display_data"
    },
    {
     "data": {
      "text/html": [
       "<pre style=\"white-space:pre;overflow-x:auto;line-height:normal;font-family:Menlo,'DejaVu Sans Mono',consolas,'Courier New',monospace\">Finished training episode 66\n",
       "</pre>\n"
      ],
      "text/plain": [
       "Finished training episode 66\n"
      ]
     },
     "metadata": {},
     "output_type": "display_data"
    },
    {
     "data": {
      "text/html": [
       "<pre style=\"white-space:pre;overflow-x:auto;line-height:normal;font-family:Menlo,'DejaVu Sans Mono',consolas,'Courier New',monospace\">----------------------------------\n",
       "| rollout/            |          |\n",
       "|    exploration_rate | 0.05     |\n",
       "| time/               |          |\n",
       "|    episodes         | 332      |\n",
       "|    fps              | 202      |\n",
       "|    time_elapsed     | 1        |\n",
       "|    total_timesteps  | 66400    |\n",
       "| train/              |          |\n",
       "|    learning_rate    | 0.001    |\n",
       "|    loss             | 26.3     |\n",
       "|    n_updates        | 16574    |\n",
       "----------------------------------\n",
       "</pre>\n"
      ],
      "text/plain": [
       "----------------------------------\n",
       "| rollout/            |          |\n",
       "|    exploration_rate | 0.05     |\n",
       "| time/               |          |\n",
       "|    episodes         | 332      |\n",
       "|    fps              | 202      |\n",
       "|    time_elapsed     | 1        |\n",
       "|    total_timesteps  | 66400    |\n",
       "| train/              |          |\n",
       "|    learning_rate    | 0.001    |\n",
       "|    loss             | 26.3     |\n",
       "|    n_updates        | 16574    |\n",
       "----------------------------------\n"
      ]
     },
     "metadata": {},
     "output_type": "display_data"
    },
    {
     "data": {
      "text/html": [
       "<pre style=\"white-space:pre;overflow-x:auto;line-height:normal;font-family:Menlo,'DejaVu Sans Mono',consolas,'Courier New',monospace\">Finished training episode 67\n",
       "</pre>\n"
      ],
      "text/plain": [
       "Finished training episode 67\n"
      ]
     },
     "metadata": {},
     "output_type": "display_data"
    },
    {
     "data": {
      "text/html": [
       "<pre style=\"white-space:pre;overflow-x:auto;line-height:normal;font-family:Menlo,'DejaVu Sans Mono',consolas,'Courier New',monospace\">----------------------------------\n",
       "| rollout/            |          |\n",
       "|    exploration_rate | 0.05     |\n",
       "| time/               |          |\n",
       "|    episodes         | 336      |\n",
       "|    fps              | 209      |\n",
       "|    time_elapsed     | 0        |\n",
       "|    total_timesteps  | 67200    |\n",
       "| train/              |          |\n",
       "|    learning_rate    | 0.001    |\n",
       "|    loss             | 7.42     |\n",
       "|    n_updates        | 16774    |\n",
       "----------------------------------\n",
       "</pre>\n"
      ],
      "text/plain": [
       "----------------------------------\n",
       "| rollout/            |          |\n",
       "|    exploration_rate | 0.05     |\n",
       "| time/               |          |\n",
       "|    episodes         | 336      |\n",
       "|    fps              | 209      |\n",
       "|    time_elapsed     | 0        |\n",
       "|    total_timesteps  | 67200    |\n",
       "| train/              |          |\n",
       "|    learning_rate    | 0.001    |\n",
       "|    loss             | 7.42     |\n",
       "|    n_updates        | 16774    |\n",
       "----------------------------------\n"
      ]
     },
     "metadata": {},
     "output_type": "display_data"
    },
    {
     "data": {
      "text/html": [
       "<pre style=\"white-space:pre;overflow-x:auto;line-height:normal;font-family:Menlo,'DejaVu Sans Mono',consolas,'Courier New',monospace\">----------------------------------\n",
       "| rollout/            |          |\n",
       "|    exploration_rate | 0.05     |\n",
       "| time/               |          |\n",
       "|    episodes         | 340      |\n",
       "|    fps              | 205      |\n",
       "|    time_elapsed     | 4        |\n",
       "|    total_timesteps  | 68000    |\n",
       "| train/              |          |\n",
       "|    learning_rate    | 0.001    |\n",
       "|    loss             | 9.85     |\n",
       "|    n_updates        | 16974    |\n",
       "----------------------------------\n",
       "</pre>\n"
      ],
      "text/plain": [
       "----------------------------------\n",
       "| rollout/            |          |\n",
       "|    exploration_rate | 0.05     |\n",
       "| time/               |          |\n",
       "|    episodes         | 340      |\n",
       "|    fps              | 205      |\n",
       "|    time_elapsed     | 4        |\n",
       "|    total_timesteps  | 68000    |\n",
       "| train/              |          |\n",
       "|    learning_rate    | 0.001    |\n",
       "|    loss             | 9.85     |\n",
       "|    n_updates        | 16974    |\n",
       "----------------------------------\n"
      ]
     },
     "metadata": {},
     "output_type": "display_data"
    },
    {
     "data": {
      "text/html": [
       "<pre style=\"white-space:pre;overflow-x:auto;line-height:normal;font-family:Menlo,'DejaVu Sans Mono',consolas,'Courier New',monospace\">Finished training episode 68\n",
       "</pre>\n"
      ],
      "text/plain": [
       "Finished training episode 68\n"
      ]
     },
     "metadata": {},
     "output_type": "display_data"
    },
    {
     "data": {
      "text/html": [
       "<pre style=\"white-space:pre;overflow-x:auto;line-height:normal;font-family:Menlo,'DejaVu Sans Mono',consolas,'Courier New',monospace\">----------------------------------\n",
       "| rollout/            |          |\n",
       "|    exploration_rate | 0.05     |\n",
       "| time/               |          |\n",
       "|    episodes         | 344      |\n",
       "|    fps              | 209      |\n",
       "|    time_elapsed     | 3        |\n",
       "|    total_timesteps  | 68800    |\n",
       "| train/              |          |\n",
       "|    learning_rate    | 0.001    |\n",
       "|    loss             | 25.5     |\n",
       "|    n_updates        | 17174    |\n",
       "----------------------------------\n",
       "</pre>\n"
      ],
      "text/plain": [
       "----------------------------------\n",
       "| rollout/            |          |\n",
       "|    exploration_rate | 0.05     |\n",
       "| time/               |          |\n",
       "|    episodes         | 344      |\n",
       "|    fps              | 209      |\n",
       "|    time_elapsed     | 3        |\n",
       "|    total_timesteps  | 68800    |\n",
       "| train/              |          |\n",
       "|    learning_rate    | 0.001    |\n",
       "|    loss             | 25.5     |\n",
       "|    n_updates        | 17174    |\n",
       "----------------------------------\n"
      ]
     },
     "metadata": {},
     "output_type": "display_data"
    },
    {
     "data": {
      "text/html": [
       "<pre style=\"white-space:pre;overflow-x:auto;line-height:normal;font-family:Menlo,'DejaVu Sans Mono',consolas,'Courier New',monospace\">Finished training episode 69\n",
       "</pre>\n"
      ],
      "text/plain": [
       "Finished training episode 69\n"
      ]
     },
     "metadata": {},
     "output_type": "display_data"
    },
    {
     "data": {
      "text/html": [
       "<pre style=\"white-space:pre;overflow-x:auto;line-height:normal;font-family:Menlo,'DejaVu Sans Mono',consolas,'Courier New',monospace\">----------------------------------\n",
       "| rollout/            |          |\n",
       "|    exploration_rate | 0.05     |\n",
       "| time/               |          |\n",
       "|    episodes         | 348      |\n",
       "|    fps              | 206      |\n",
       "|    time_elapsed     | 2        |\n",
       "|    total_timesteps  | 69600    |\n",
       "| train/              |          |\n",
       "|    learning_rate    | 0.001    |\n",
       "|    loss             | 28.3     |\n",
       "|    n_updates        | 17374    |\n",
       "----------------------------------\n",
       "</pre>\n"
      ],
      "text/plain": [
       "----------------------------------\n",
       "| rollout/            |          |\n",
       "|    exploration_rate | 0.05     |\n",
       "| time/               |          |\n",
       "|    episodes         | 348      |\n",
       "|    fps              | 206      |\n",
       "|    time_elapsed     | 2        |\n",
       "|    total_timesteps  | 69600    |\n",
       "| train/              |          |\n",
       "|    learning_rate    | 0.001    |\n",
       "|    loss             | 28.3     |\n",
       "|    n_updates        | 17374    |\n",
       "----------------------------------\n"
      ]
     },
     "metadata": {},
     "output_type": "display_data"
    },
    {
     "data": {
      "text/html": [
       "<pre style=\"white-space:pre;overflow-x:auto;line-height:normal;font-family:Menlo,'DejaVu Sans Mono',consolas,'Courier New',monospace\">Finished training episode 70\n",
       "</pre>\n"
      ],
      "text/plain": [
       "Finished training episode 70\n"
      ]
     },
     "metadata": {},
     "output_type": "display_data"
    },
    {
     "data": {
      "text/html": [
       "<pre style=\"white-space:pre;overflow-x:auto;line-height:normal;font-family:Menlo,'DejaVu Sans Mono',consolas,'Courier New',monospace\">----------------------------------\n",
       "| rollout/            |          |\n",
       "|    exploration_rate | 0.05     |\n",
       "| time/               |          |\n",
       "|    episodes         | 352      |\n",
       "|    fps              | 203      |\n",
       "|    time_elapsed     | 1        |\n",
       "|    total_timesteps  | 70400    |\n",
       "| train/              |          |\n",
       "|    learning_rate    | 0.001    |\n",
       "|    loss             | 27.3     |\n",
       "|    n_updates        | 17574    |\n",
       "----------------------------------\n",
       "</pre>\n"
      ],
      "text/plain": [
       "----------------------------------\n",
       "| rollout/            |          |\n",
       "|    exploration_rate | 0.05     |\n",
       "| time/               |          |\n",
       "|    episodes         | 352      |\n",
       "|    fps              | 203      |\n",
       "|    time_elapsed     | 1        |\n",
       "|    total_timesteps  | 70400    |\n",
       "| train/              |          |\n",
       "|    learning_rate    | 0.001    |\n",
       "|    loss             | 27.3     |\n",
       "|    n_updates        | 17574    |\n",
       "----------------------------------\n"
      ]
     },
     "metadata": {},
     "output_type": "display_data"
    },
    {
     "data": {
      "text/html": [
       "<pre style=\"white-space:pre;overflow-x:auto;line-height:normal;font-family:Menlo,'DejaVu Sans Mono',consolas,'Courier New',monospace\">Finished training episode 71\n",
       "</pre>\n"
      ],
      "text/plain": [
       "Finished training episode 71\n"
      ]
     },
     "metadata": {},
     "output_type": "display_data"
    },
    {
     "data": {
      "text/html": [
       "<pre style=\"white-space:pre;overflow-x:auto;line-height:normal;font-family:Menlo,'DejaVu Sans Mono',consolas,'Courier New',monospace\">----------------------------------\n",
       "| rollout/            |          |\n",
       "|    exploration_rate | 0.05     |\n",
       "| time/               |          |\n",
       "|    episodes         | 356      |\n",
       "|    fps              | 213      |\n",
       "|    time_elapsed     | 0        |\n",
       "|    total_timesteps  | 71200    |\n",
       "| train/              |          |\n",
       "|    learning_rate    | 0.001    |\n",
       "|    loss             | 11.2     |\n",
       "|    n_updates        | 17774    |\n",
       "----------------------------------\n",
       "</pre>\n"
      ],
      "text/plain": [
       "----------------------------------\n",
       "| rollout/            |          |\n",
       "|    exploration_rate | 0.05     |\n",
       "| time/               |          |\n",
       "|    episodes         | 356      |\n",
       "|    fps              | 213      |\n",
       "|    time_elapsed     | 0        |\n",
       "|    total_timesteps  | 71200    |\n",
       "| train/              |          |\n",
       "|    learning_rate    | 0.001    |\n",
       "|    loss             | 11.2     |\n",
       "|    n_updates        | 17774    |\n",
       "----------------------------------\n"
      ]
     },
     "metadata": {},
     "output_type": "display_data"
    },
    {
     "data": {
      "text/html": [
       "<pre style=\"white-space:pre;overflow-x:auto;line-height:normal;font-family:Menlo,'DejaVu Sans Mono',consolas,'Courier New',monospace\">----------------------------------\n",
       "| rollout/            |          |\n",
       "|    exploration_rate | 0.05     |\n",
       "| time/               |          |\n",
       "|    episodes         | 360      |\n",
       "|    fps              | 205      |\n",
       "|    time_elapsed     | 4        |\n",
       "|    total_timesteps  | 72000    |\n",
       "| train/              |          |\n",
       "|    learning_rate    | 0.001    |\n",
       "|    loss             | 11.6     |\n",
       "|    n_updates        | 17974    |\n",
       "----------------------------------\n",
       "</pre>\n"
      ],
      "text/plain": [
       "----------------------------------\n",
       "| rollout/            |          |\n",
       "|    exploration_rate | 0.05     |\n",
       "| time/               |          |\n",
       "|    episodes         | 360      |\n",
       "|    fps              | 205      |\n",
       "|    time_elapsed     | 4        |\n",
       "|    total_timesteps  | 72000    |\n",
       "| train/              |          |\n",
       "|    learning_rate    | 0.001    |\n",
       "|    loss             | 11.6     |\n",
       "|    n_updates        | 17974    |\n",
       "----------------------------------\n"
      ]
     },
     "metadata": {},
     "output_type": "display_data"
    },
    {
     "data": {
      "text/html": [
       "<pre style=\"white-space:pre;overflow-x:auto;line-height:normal;font-family:Menlo,'DejaVu Sans Mono',consolas,'Courier New',monospace\">Finished training episode 72\n",
       "</pre>\n"
      ],
      "text/plain": [
       "Finished training episode 72\n"
      ]
     },
     "metadata": {},
     "output_type": "display_data"
    },
    {
     "data": {
      "text/html": [
       "<pre style=\"white-space:pre;overflow-x:auto;line-height:normal;font-family:Menlo,'DejaVu Sans Mono',consolas,'Courier New',monospace\">----------------------------------\n",
       "| rollout/            |          |\n",
       "|    exploration_rate | 0.05     |\n",
       "| time/               |          |\n",
       "|    episodes         | 364      |\n",
       "|    fps              | 204      |\n",
       "|    time_elapsed     | 3        |\n",
       "|    total_timesteps  | 72800    |\n",
       "| train/              |          |\n",
       "|    learning_rate    | 0.001    |\n",
       "|    loss             | 10.3     |\n",
       "|    n_updates        | 18174    |\n",
       "----------------------------------\n",
       "</pre>\n"
      ],
      "text/plain": [
       "----------------------------------\n",
       "| rollout/            |          |\n",
       "|    exploration_rate | 0.05     |\n",
       "| time/               |          |\n",
       "|    episodes         | 364      |\n",
       "|    fps              | 204      |\n",
       "|    time_elapsed     | 3        |\n",
       "|    total_timesteps  | 72800    |\n",
       "| train/              |          |\n",
       "|    learning_rate    | 0.001    |\n",
       "|    loss             | 10.3     |\n",
       "|    n_updates        | 18174    |\n",
       "----------------------------------\n"
      ]
     },
     "metadata": {},
     "output_type": "display_data"
    },
    {
     "data": {
      "text/html": [
       "<pre style=\"white-space:pre;overflow-x:auto;line-height:normal;font-family:Menlo,'DejaVu Sans Mono',consolas,'Courier New',monospace\">Finished training episode 73\n",
       "</pre>\n"
      ],
      "text/plain": [
       "Finished training episode 73\n"
      ]
     },
     "metadata": {},
     "output_type": "display_data"
    },
    {
     "data": {
      "text/html": [
       "<pre style=\"white-space:pre;overflow-x:auto;line-height:normal;font-family:Menlo,'DejaVu Sans Mono',consolas,'Courier New',monospace\">----------------------------------\n",
       "| rollout/            |          |\n",
       "|    exploration_rate | 0.05     |\n",
       "| time/               |          |\n",
       "|    episodes         | 368      |\n",
       "|    fps              | 207      |\n",
       "|    time_elapsed     | 2        |\n",
       "|    total_timesteps  | 73600    |\n",
       "| train/              |          |\n",
       "|    learning_rate    | 0.001    |\n",
       "|    loss             | 10.6     |\n",
       "|    n_updates        | 18374    |\n",
       "----------------------------------\n",
       "</pre>\n"
      ],
      "text/plain": [
       "----------------------------------\n",
       "| rollout/            |          |\n",
       "|    exploration_rate | 0.05     |\n",
       "| time/               |          |\n",
       "|    episodes         | 368      |\n",
       "|    fps              | 207      |\n",
       "|    time_elapsed     | 2        |\n",
       "|    total_timesteps  | 73600    |\n",
       "| train/              |          |\n",
       "|    learning_rate    | 0.001    |\n",
       "|    loss             | 10.6     |\n",
       "|    n_updates        | 18374    |\n",
       "----------------------------------\n"
      ]
     },
     "metadata": {},
     "output_type": "display_data"
    },
    {
     "data": {
      "text/html": [
       "<pre style=\"white-space:pre;overflow-x:auto;line-height:normal;font-family:Menlo,'DejaVu Sans Mono',consolas,'Courier New',monospace\">Finished training episode 74\n",
       "</pre>\n"
      ],
      "text/plain": [
       "Finished training episode 74\n"
      ]
     },
     "metadata": {},
     "output_type": "display_data"
    },
    {
     "data": {
      "text/html": [
       "<pre style=\"white-space:pre;overflow-x:auto;line-height:normal;font-family:Menlo,'DejaVu Sans Mono',consolas,'Courier New',monospace\">----------------------------------\n",
       "| rollout/            |          |\n",
       "|    exploration_rate | 0.05     |\n",
       "| time/               |          |\n",
       "|    episodes         | 372      |\n",
       "|    fps              | 208      |\n",
       "|    time_elapsed     | 1        |\n",
       "|    total_timesteps  | 74400    |\n",
       "| train/              |          |\n",
       "|    learning_rate    | 0.001    |\n",
       "|    loss             | 11.9     |\n",
       "|    n_updates        | 18574    |\n",
       "----------------------------------\n",
       "</pre>\n"
      ],
      "text/plain": [
       "----------------------------------\n",
       "| rollout/            |          |\n",
       "|    exploration_rate | 0.05     |\n",
       "| time/               |          |\n",
       "|    episodes         | 372      |\n",
       "|    fps              | 208      |\n",
       "|    time_elapsed     | 1        |\n",
       "|    total_timesteps  | 74400    |\n",
       "| train/              |          |\n",
       "|    learning_rate    | 0.001    |\n",
       "|    loss             | 11.9     |\n",
       "|    n_updates        | 18574    |\n",
       "----------------------------------\n"
      ]
     },
     "metadata": {},
     "output_type": "display_data"
    },
    {
     "data": {
      "text/html": [
       "<pre style=\"white-space:pre;overflow-x:auto;line-height:normal;font-family:Menlo,'DejaVu Sans Mono',consolas,'Courier New',monospace\">Finished training episode 75\n",
       "</pre>\n"
      ],
      "text/plain": [
       "Finished training episode 75\n"
      ]
     },
     "metadata": {},
     "output_type": "display_data"
    },
    {
     "data": {
      "text/html": [
       "<pre style=\"white-space:pre;overflow-x:auto;line-height:normal;font-family:Menlo,'DejaVu Sans Mono',consolas,'Courier New',monospace\">----------------------------------\n",
       "| rollout/            |          |\n",
       "|    exploration_rate | 0.05     |\n",
       "| time/               |          |\n",
       "|    episodes         | 376      |\n",
       "|    fps              | 201      |\n",
       "|    time_elapsed     | 0        |\n",
       "|    total_timesteps  | 75200    |\n",
       "| train/              |          |\n",
       "|    learning_rate    | 0.001    |\n",
       "|    loss             | 42.4     |\n",
       "|    n_updates        | 18774    |\n",
       "----------------------------------\n",
       "</pre>\n"
      ],
      "text/plain": [
       "----------------------------------\n",
       "| rollout/            |          |\n",
       "|    exploration_rate | 0.05     |\n",
       "| time/               |          |\n",
       "|    episodes         | 376      |\n",
       "|    fps              | 201      |\n",
       "|    time_elapsed     | 0        |\n",
       "|    total_timesteps  | 75200    |\n",
       "| train/              |          |\n",
       "|    learning_rate    | 0.001    |\n",
       "|    loss             | 42.4     |\n",
       "|    n_updates        | 18774    |\n",
       "----------------------------------\n"
      ]
     },
     "metadata": {},
     "output_type": "display_data"
    },
    {
     "data": {
      "text/html": [
       "<pre style=\"white-space:pre;overflow-x:auto;line-height:normal;font-family:Menlo,'DejaVu Sans Mono',consolas,'Courier New',monospace\">----------------------------------\n",
       "| rollout/            |          |\n",
       "|    exploration_rate | 0.05     |\n",
       "| time/               |          |\n",
       "|    episodes         | 380      |\n",
       "|    fps              | 205      |\n",
       "|    time_elapsed     | 4        |\n",
       "|    total_timesteps  | 76000    |\n",
       "| train/              |          |\n",
       "|    learning_rate    | 0.001    |\n",
       "|    loss             | 10.8     |\n",
       "|    n_updates        | 18974    |\n",
       "----------------------------------\n",
       "</pre>\n"
      ],
      "text/plain": [
       "----------------------------------\n",
       "| rollout/            |          |\n",
       "|    exploration_rate | 0.05     |\n",
       "| time/               |          |\n",
       "|    episodes         | 380      |\n",
       "|    fps              | 205      |\n",
       "|    time_elapsed     | 4        |\n",
       "|    total_timesteps  | 76000    |\n",
       "| train/              |          |\n",
       "|    learning_rate    | 0.001    |\n",
       "|    loss             | 10.8     |\n",
       "|    n_updates        | 18974    |\n",
       "----------------------------------\n"
      ]
     },
     "metadata": {},
     "output_type": "display_data"
    },
    {
     "data": {
      "text/html": [
       "<pre style=\"white-space:pre;overflow-x:auto;line-height:normal;font-family:Menlo,'DejaVu Sans Mono',consolas,'Courier New',monospace\">Finished training episode 76\n",
       "</pre>\n"
      ],
      "text/plain": [
       "Finished training episode 76\n"
      ]
     },
     "metadata": {},
     "output_type": "display_data"
    },
    {
     "data": {
      "text/html": [
       "<pre style=\"white-space:pre;overflow-x:auto;line-height:normal;font-family:Menlo,'DejaVu Sans Mono',consolas,'Courier New',monospace\">----------------------------------\n",
       "| rollout/            |          |\n",
       "|    exploration_rate | 0.05     |\n",
       "| time/               |          |\n",
       "|    episodes         | 384      |\n",
       "|    fps              | 210      |\n",
       "|    time_elapsed     | 3        |\n",
       "|    total_timesteps  | 76800    |\n",
       "| train/              |          |\n",
       "|    learning_rate    | 0.001    |\n",
       "|    loss             | 9.43     |\n",
       "|    n_updates        | 19174    |\n",
       "----------------------------------\n",
       "</pre>\n"
      ],
      "text/plain": [
       "----------------------------------\n",
       "| rollout/            |          |\n",
       "|    exploration_rate | 0.05     |\n",
       "| time/               |          |\n",
       "|    episodes         | 384      |\n",
       "|    fps              | 210      |\n",
       "|    time_elapsed     | 3        |\n",
       "|    total_timesteps  | 76800    |\n",
       "| train/              |          |\n",
       "|    learning_rate    | 0.001    |\n",
       "|    loss             | 9.43     |\n",
       "|    n_updates        | 19174    |\n",
       "----------------------------------\n"
      ]
     },
     "metadata": {},
     "output_type": "display_data"
    },
    {
     "data": {
      "text/html": [
       "<pre style=\"white-space:pre;overflow-x:auto;line-height:normal;font-family:Menlo,'DejaVu Sans Mono',consolas,'Courier New',monospace\">Finished training episode 77\n",
       "</pre>\n"
      ],
      "text/plain": [
       "Finished training episode 77\n"
      ]
     },
     "metadata": {},
     "output_type": "display_data"
    },
    {
     "data": {
      "text/html": [
       "<pre style=\"white-space:pre;overflow-x:auto;line-height:normal;font-family:Menlo,'DejaVu Sans Mono',consolas,'Courier New',monospace\">----------------------------------\n",
       "| rollout/            |          |\n",
       "|    exploration_rate | 0.05     |\n",
       "| time/               |          |\n",
       "|    episodes         | 388      |\n",
       "|    fps              | 205      |\n",
       "|    time_elapsed     | 2        |\n",
       "|    total_timesteps  | 77600    |\n",
       "| train/              |          |\n",
       "|    learning_rate    | 0.001    |\n",
       "|    loss             | 10.1     |\n",
       "|    n_updates        | 19374    |\n",
       "----------------------------------\n",
       "</pre>\n"
      ],
      "text/plain": [
       "----------------------------------\n",
       "| rollout/            |          |\n",
       "|    exploration_rate | 0.05     |\n",
       "| time/               |          |\n",
       "|    episodes         | 388      |\n",
       "|    fps              | 205      |\n",
       "|    time_elapsed     | 2        |\n",
       "|    total_timesteps  | 77600    |\n",
       "| train/              |          |\n",
       "|    learning_rate    | 0.001    |\n",
       "|    loss             | 10.1     |\n",
       "|    n_updates        | 19374    |\n",
       "----------------------------------\n"
      ]
     },
     "metadata": {},
     "output_type": "display_data"
    },
    {
     "data": {
      "text/html": [
       "<pre style=\"white-space:pre;overflow-x:auto;line-height:normal;font-family:Menlo,'DejaVu Sans Mono',consolas,'Courier New',monospace\">Finished training episode 78\n",
       "</pre>\n"
      ],
      "text/plain": [
       "Finished training episode 78\n"
      ]
     },
     "metadata": {},
     "output_type": "display_data"
    },
    {
     "data": {
      "text/html": [
       "<pre style=\"white-space:pre;overflow-x:auto;line-height:normal;font-family:Menlo,'DejaVu Sans Mono',consolas,'Courier New',monospace\">----------------------------------\n",
       "| rollout/            |          |\n",
       "|    exploration_rate | 0.05     |\n",
       "| time/               |          |\n",
       "|    episodes         | 392      |\n",
       "|    fps              | 210      |\n",
       "|    time_elapsed     | 1        |\n",
       "|    total_timesteps  | 78400    |\n",
       "| train/              |          |\n",
       "|    learning_rate    | 0.001    |\n",
       "|    loss             | 8.78     |\n",
       "|    n_updates        | 19574    |\n",
       "----------------------------------\n",
       "</pre>\n"
      ],
      "text/plain": [
       "----------------------------------\n",
       "| rollout/            |          |\n",
       "|    exploration_rate | 0.05     |\n",
       "| time/               |          |\n",
       "|    episodes         | 392      |\n",
       "|    fps              | 210      |\n",
       "|    time_elapsed     | 1        |\n",
       "|    total_timesteps  | 78400    |\n",
       "| train/              |          |\n",
       "|    learning_rate    | 0.001    |\n",
       "|    loss             | 8.78     |\n",
       "|    n_updates        | 19574    |\n",
       "----------------------------------\n"
      ]
     },
     "metadata": {},
     "output_type": "display_data"
    },
    {
     "data": {
      "text/html": [
       "<pre style=\"white-space:pre;overflow-x:auto;line-height:normal;font-family:Menlo,'DejaVu Sans Mono',consolas,'Courier New',monospace\">Finished training episode 79\n",
       "</pre>\n"
      ],
      "text/plain": [
       "Finished training episode 79\n"
      ]
     },
     "metadata": {},
     "output_type": "display_data"
    },
    {
     "data": {
      "text/html": [
       "<pre style=\"white-space:pre;overflow-x:auto;line-height:normal;font-family:Menlo,'DejaVu Sans Mono',consolas,'Courier New',monospace\">----------------------------------\n",
       "| rollout/            |          |\n",
       "|    exploration_rate | 0.05     |\n",
       "| time/               |          |\n",
       "|    episodes         | 396      |\n",
       "|    fps              | 217      |\n",
       "|    time_elapsed     | 0        |\n",
       "|    total_timesteps  | 79200    |\n",
       "| train/              |          |\n",
       "|    learning_rate    | 0.001    |\n",
       "|    loss             | 12.1     |\n",
       "|    n_updates        | 19774    |\n",
       "----------------------------------\n",
       "</pre>\n"
      ],
      "text/plain": [
       "----------------------------------\n",
       "| rollout/            |          |\n",
       "|    exploration_rate | 0.05     |\n",
       "| time/               |          |\n",
       "|    episodes         | 396      |\n",
       "|    fps              | 217      |\n",
       "|    time_elapsed     | 0        |\n",
       "|    total_timesteps  | 79200    |\n",
       "| train/              |          |\n",
       "|    learning_rate    | 0.001    |\n",
       "|    loss             | 12.1     |\n",
       "|    n_updates        | 19774    |\n",
       "----------------------------------\n"
      ]
     },
     "metadata": {},
     "output_type": "display_data"
    },
    {
     "data": {
      "text/html": [
       "<pre style=\"white-space:pre;overflow-x:auto;line-height:normal;font-family:Menlo,'DejaVu Sans Mono',consolas,'Courier New',monospace\">----------------------------------\n",
       "| rollout/            |          |\n",
       "|    exploration_rate | 0.05     |\n",
       "| time/               |          |\n",
       "|    episodes         | 400      |\n",
       "|    fps              | 208      |\n",
       "|    time_elapsed     | 4        |\n",
       "|    total_timesteps  | 80000    |\n",
       "| train/              |          |\n",
       "|    learning_rate    | 0.001    |\n",
       "|    loss             | 11       |\n",
       "|    n_updates        | 19974    |\n",
       "----------------------------------\n",
       "</pre>\n"
      ],
      "text/plain": [
       "----------------------------------\n",
       "| rollout/            |          |\n",
       "|    exploration_rate | 0.05     |\n",
       "| time/               |          |\n",
       "|    episodes         | 400      |\n",
       "|    fps              | 208      |\n",
       "|    time_elapsed     | 4        |\n",
       "|    total_timesteps  | 80000    |\n",
       "| train/              |          |\n",
       "|    learning_rate    | 0.001    |\n",
       "|    loss             | 11       |\n",
       "|    n_updates        | 19974    |\n",
       "----------------------------------\n"
      ]
     },
     "metadata": {},
     "output_type": "display_data"
    },
    {
     "data": {
      "text/html": [
       "<pre style=\"white-space:pre;overflow-x:auto;line-height:normal;font-family:Menlo,'DejaVu Sans Mono',consolas,'Courier New',monospace\">Finished training episode 80\n",
       "</pre>\n"
      ],
      "text/plain": [
       "Finished training episode 80\n"
      ]
     },
     "metadata": {},
     "output_type": "display_data"
    },
    {
     "data": {
      "text/html": [
       "<pre style=\"white-space:pre;overflow-x:auto;line-height:normal;font-family:Menlo,'DejaVu Sans Mono',consolas,'Courier New',monospace\">----------------------------------\n",
       "| rollout/            |          |\n",
       "|    exploration_rate | 0.05     |\n",
       "| time/               |          |\n",
       "|    episodes         | 404      |\n",
       "|    fps              | 202      |\n",
       "|    time_elapsed     | 3        |\n",
       "|    total_timesteps  | 80800    |\n",
       "| train/              |          |\n",
       "|    learning_rate    | 0.001    |\n",
       "|    loss             | 11.1     |\n",
       "|    n_updates        | 20174    |\n",
       "----------------------------------\n",
       "</pre>\n"
      ],
      "text/plain": [
       "----------------------------------\n",
       "| rollout/            |          |\n",
       "|    exploration_rate | 0.05     |\n",
       "| time/               |          |\n",
       "|    episodes         | 404      |\n",
       "|    fps              | 202      |\n",
       "|    time_elapsed     | 3        |\n",
       "|    total_timesteps  | 80800    |\n",
       "| train/              |          |\n",
       "|    learning_rate    | 0.001    |\n",
       "|    loss             | 11.1     |\n",
       "|    n_updates        | 20174    |\n",
       "----------------------------------\n"
      ]
     },
     "metadata": {},
     "output_type": "display_data"
    },
    {
     "data": {
      "text/html": [
       "<pre style=\"white-space:pre;overflow-x:auto;line-height:normal;font-family:Menlo,'DejaVu Sans Mono',consolas,'Courier New',monospace\">Finished training episode 81\n",
       "</pre>\n"
      ],
      "text/plain": [
       "Finished training episode 81\n"
      ]
     },
     "metadata": {},
     "output_type": "display_data"
    },
    {
     "data": {
      "text/html": [
       "<pre style=\"white-space:pre;overflow-x:auto;line-height:normal;font-family:Menlo,'DejaVu Sans Mono',consolas,'Courier New',monospace\">----------------------------------\n",
       "| rollout/            |          |\n",
       "|    exploration_rate | 0.05     |\n",
       "| time/               |          |\n",
       "|    episodes         | 408      |\n",
       "|    fps              | 204      |\n",
       "|    time_elapsed     | 2        |\n",
       "|    total_timesteps  | 81600    |\n",
       "| train/              |          |\n",
       "|    learning_rate    | 0.001    |\n",
       "|    loss             | 13.5     |\n",
       "|    n_updates        | 20374    |\n",
       "----------------------------------\n",
       "</pre>\n"
      ],
      "text/plain": [
       "----------------------------------\n",
       "| rollout/            |          |\n",
       "|    exploration_rate | 0.05     |\n",
       "| time/               |          |\n",
       "|    episodes         | 408      |\n",
       "|    fps              | 204      |\n",
       "|    time_elapsed     | 2        |\n",
       "|    total_timesteps  | 81600    |\n",
       "| train/              |          |\n",
       "|    learning_rate    | 0.001    |\n",
       "|    loss             | 13.5     |\n",
       "|    n_updates        | 20374    |\n",
       "----------------------------------\n"
      ]
     },
     "metadata": {},
     "output_type": "display_data"
    },
    {
     "data": {
      "text/html": [
       "<pre style=\"white-space:pre;overflow-x:auto;line-height:normal;font-family:Menlo,'DejaVu Sans Mono',consolas,'Courier New',monospace\">Finished training episode 82\n",
       "</pre>\n"
      ],
      "text/plain": [
       "Finished training episode 82\n"
      ]
     },
     "metadata": {},
     "output_type": "display_data"
    },
    {
     "data": {
      "text/html": [
       "<pre style=\"white-space:pre;overflow-x:auto;line-height:normal;font-family:Menlo,'DejaVu Sans Mono',consolas,'Courier New',monospace\">----------------------------------\n",
       "| rollout/            |          |\n",
       "|    exploration_rate | 0.05     |\n",
       "| time/               |          |\n",
       "|    episodes         | 412      |\n",
       "|    fps              | 205      |\n",
       "|    time_elapsed     | 1        |\n",
       "|    total_timesteps  | 82400    |\n",
       "| train/              |          |\n",
       "|    learning_rate    | 0.001    |\n",
       "|    loss             | 34.3     |\n",
       "|    n_updates        | 20574    |\n",
       "----------------------------------\n",
       "</pre>\n"
      ],
      "text/plain": [
       "----------------------------------\n",
       "| rollout/            |          |\n",
       "|    exploration_rate | 0.05     |\n",
       "| time/               |          |\n",
       "|    episodes         | 412      |\n",
       "|    fps              | 205      |\n",
       "|    time_elapsed     | 1        |\n",
       "|    total_timesteps  | 82400    |\n",
       "| train/              |          |\n",
       "|    learning_rate    | 0.001    |\n",
       "|    loss             | 34.3     |\n",
       "|    n_updates        | 20574    |\n",
       "----------------------------------\n"
      ]
     },
     "metadata": {},
     "output_type": "display_data"
    },
    {
     "data": {
      "text/html": [
       "<pre style=\"white-space:pre;overflow-x:auto;line-height:normal;font-family:Menlo,'DejaVu Sans Mono',consolas,'Courier New',monospace\">Finished training episode 83\n",
       "</pre>\n"
      ],
      "text/plain": [
       "Finished training episode 83\n"
      ]
     },
     "metadata": {},
     "output_type": "display_data"
    },
    {
     "data": {
      "text/html": [
       "<pre style=\"white-space:pre;overflow-x:auto;line-height:normal;font-family:Menlo,'DejaVu Sans Mono',consolas,'Courier New',monospace\">----------------------------------\n",
       "| rollout/            |          |\n",
       "|    exploration_rate | 0.05     |\n",
       "| time/               |          |\n",
       "|    episodes         | 416      |\n",
       "|    fps              | 215      |\n",
       "|    time_elapsed     | 0        |\n",
       "|    total_timesteps  | 83200    |\n",
       "| train/              |          |\n",
       "|    learning_rate    | 0.001    |\n",
       "|    loss             | 9.79     |\n",
       "|    n_updates        | 20774    |\n",
       "----------------------------------\n",
       "</pre>\n"
      ],
      "text/plain": [
       "----------------------------------\n",
       "| rollout/            |          |\n",
       "|    exploration_rate | 0.05     |\n",
       "| time/               |          |\n",
       "|    episodes         | 416      |\n",
       "|    fps              | 215      |\n",
       "|    time_elapsed     | 0        |\n",
       "|    total_timesteps  | 83200    |\n",
       "| train/              |          |\n",
       "|    learning_rate    | 0.001    |\n",
       "|    loss             | 9.79     |\n",
       "|    n_updates        | 20774    |\n",
       "----------------------------------\n"
      ]
     },
     "metadata": {},
     "output_type": "display_data"
    },
    {
     "data": {
      "text/html": [
       "<pre style=\"white-space:pre;overflow-x:auto;line-height:normal;font-family:Menlo,'DejaVu Sans Mono',consolas,'Courier New',monospace\">----------------------------------\n",
       "| rollout/            |          |\n",
       "|    exploration_rate | 0.05     |\n",
       "| time/               |          |\n",
       "|    episodes         | 420      |\n",
       "|    fps              | 210      |\n",
       "|    time_elapsed     | 4        |\n",
       "|    total_timesteps  | 84000    |\n",
       "| train/              |          |\n",
       "|    learning_rate    | 0.001    |\n",
       "|    loss             | 13.3     |\n",
       "|    n_updates        | 20974    |\n",
       "----------------------------------\n",
       "</pre>\n"
      ],
      "text/plain": [
       "----------------------------------\n",
       "| rollout/            |          |\n",
       "|    exploration_rate | 0.05     |\n",
       "| time/               |          |\n",
       "|    episodes         | 420      |\n",
       "|    fps              | 210      |\n",
       "|    time_elapsed     | 4        |\n",
       "|    total_timesteps  | 84000    |\n",
       "| train/              |          |\n",
       "|    learning_rate    | 0.001    |\n",
       "|    loss             | 13.3     |\n",
       "|    n_updates        | 20974    |\n",
       "----------------------------------\n"
      ]
     },
     "metadata": {},
     "output_type": "display_data"
    },
    {
     "data": {
      "text/html": [
       "<pre style=\"white-space:pre;overflow-x:auto;line-height:normal;font-family:Menlo,'DejaVu Sans Mono',consolas,'Courier New',monospace\">Finished training episode 84\n",
       "</pre>\n"
      ],
      "text/plain": [
       "Finished training episode 84\n"
      ]
     },
     "metadata": {},
     "output_type": "display_data"
    },
    {
     "data": {
      "text/html": [
       "<pre style=\"white-space:pre;overflow-x:auto;line-height:normal;font-family:Menlo,'DejaVu Sans Mono',consolas,'Courier New',monospace\">----------------------------------\n",
       "| rollout/            |          |\n",
       "|    exploration_rate | 0.05     |\n",
       "| time/               |          |\n",
       "|    episodes         | 424      |\n",
       "|    fps              | 207      |\n",
       "|    time_elapsed     | 3        |\n",
       "|    total_timesteps  | 84800    |\n",
       "| train/              |          |\n",
       "|    learning_rate    | 0.001    |\n",
       "|    loss             | 11.9     |\n",
       "|    n_updates        | 21174    |\n",
       "----------------------------------\n",
       "</pre>\n"
      ],
      "text/plain": [
       "----------------------------------\n",
       "| rollout/            |          |\n",
       "|    exploration_rate | 0.05     |\n",
       "| time/               |          |\n",
       "|    episodes         | 424      |\n",
       "|    fps              | 207      |\n",
       "|    time_elapsed     | 3        |\n",
       "|    total_timesteps  | 84800    |\n",
       "| train/              |          |\n",
       "|    learning_rate    | 0.001    |\n",
       "|    loss             | 11.9     |\n",
       "|    n_updates        | 21174    |\n",
       "----------------------------------\n"
      ]
     },
     "metadata": {},
     "output_type": "display_data"
    },
    {
     "data": {
      "text/html": [
       "<pre style=\"white-space:pre;overflow-x:auto;line-height:normal;font-family:Menlo,'DejaVu Sans Mono',consolas,'Courier New',monospace\">Finished training episode 85\n",
       "</pre>\n"
      ],
      "text/plain": [
       "Finished training episode 85\n"
      ]
     },
     "metadata": {},
     "output_type": "display_data"
    },
    {
     "data": {
      "text/html": [
       "<pre style=\"white-space:pre;overflow-x:auto;line-height:normal;font-family:Menlo,'DejaVu Sans Mono',consolas,'Courier New',monospace\">----------------------------------\n",
       "| rollout/            |          |\n",
       "|    exploration_rate | 0.05     |\n",
       "| time/               |          |\n",
       "|    episodes         | 428      |\n",
       "|    fps              | 207      |\n",
       "|    time_elapsed     | 2        |\n",
       "|    total_timesteps  | 85600    |\n",
       "| train/              |          |\n",
       "|    learning_rate    | 0.001    |\n",
       "|    loss             | 10.4     |\n",
       "|    n_updates        | 21374    |\n",
       "----------------------------------\n",
       "</pre>\n"
      ],
      "text/plain": [
       "----------------------------------\n",
       "| rollout/            |          |\n",
       "|    exploration_rate | 0.05     |\n",
       "| time/               |          |\n",
       "|    episodes         | 428      |\n",
       "|    fps              | 207      |\n",
       "|    time_elapsed     | 2        |\n",
       "|    total_timesteps  | 85600    |\n",
       "| train/              |          |\n",
       "|    learning_rate    | 0.001    |\n",
       "|    loss             | 10.4     |\n",
       "|    n_updates        | 21374    |\n",
       "----------------------------------\n"
      ]
     },
     "metadata": {},
     "output_type": "display_data"
    },
    {
     "data": {
      "text/html": [
       "<pre style=\"white-space:pre;overflow-x:auto;line-height:normal;font-family:Menlo,'DejaVu Sans Mono',consolas,'Courier New',monospace\">Finished training episode 86\n",
       "</pre>\n"
      ],
      "text/plain": [
       "Finished training episode 86\n"
      ]
     },
     "metadata": {},
     "output_type": "display_data"
    },
    {
     "data": {
      "text/html": [
       "<pre style=\"white-space:pre;overflow-x:auto;line-height:normal;font-family:Menlo,'DejaVu Sans Mono',consolas,'Courier New',monospace\">----------------------------------\n",
       "| rollout/            |          |\n",
       "|    exploration_rate | 0.05     |\n",
       "| time/               |          |\n",
       "|    episodes         | 432      |\n",
       "|    fps              | 210      |\n",
       "|    time_elapsed     | 1        |\n",
       "|    total_timesteps  | 86400    |\n",
       "| train/              |          |\n",
       "|    learning_rate    | 0.001    |\n",
       "|    loss             | 12.3     |\n",
       "|    n_updates        | 21574    |\n",
       "----------------------------------\n",
       "</pre>\n"
      ],
      "text/plain": [
       "----------------------------------\n",
       "| rollout/            |          |\n",
       "|    exploration_rate | 0.05     |\n",
       "| time/               |          |\n",
       "|    episodes         | 432      |\n",
       "|    fps              | 210      |\n",
       "|    time_elapsed     | 1        |\n",
       "|    total_timesteps  | 86400    |\n",
       "| train/              |          |\n",
       "|    learning_rate    | 0.001    |\n",
       "|    loss             | 12.3     |\n",
       "|    n_updates        | 21574    |\n",
       "----------------------------------\n"
      ]
     },
     "metadata": {},
     "output_type": "display_data"
    },
    {
     "data": {
      "text/html": [
       "<pre style=\"white-space:pre;overflow-x:auto;line-height:normal;font-family:Menlo,'DejaVu Sans Mono',consolas,'Courier New',monospace\">Finished training episode 87\n",
       "</pre>\n"
      ],
      "text/plain": [
       "Finished training episode 87\n"
      ]
     },
     "metadata": {},
     "output_type": "display_data"
    },
    {
     "data": {
      "text/html": [
       "<pre style=\"white-space:pre;overflow-x:auto;line-height:normal;font-family:Menlo,'DejaVu Sans Mono',consolas,'Courier New',monospace\">----------------------------------\n",
       "| rollout/            |          |\n",
       "|    exploration_rate | 0.05     |\n",
       "| time/               |          |\n",
       "|    episodes         | 436      |\n",
       "|    fps              | 215      |\n",
       "|    time_elapsed     | 0        |\n",
       "|    total_timesteps  | 87200    |\n",
       "| train/              |          |\n",
       "|    learning_rate    | 0.001    |\n",
       "|    loss             | 9.92     |\n",
       "|    n_updates        | 21774    |\n",
       "----------------------------------\n",
       "</pre>\n"
      ],
      "text/plain": [
       "----------------------------------\n",
       "| rollout/            |          |\n",
       "|    exploration_rate | 0.05     |\n",
       "| time/               |          |\n",
       "|    episodes         | 436      |\n",
       "|    fps              | 215      |\n",
       "|    time_elapsed     | 0        |\n",
       "|    total_timesteps  | 87200    |\n",
       "| train/              |          |\n",
       "|    learning_rate    | 0.001    |\n",
       "|    loss             | 9.92     |\n",
       "|    n_updates        | 21774    |\n",
       "----------------------------------\n"
      ]
     },
     "metadata": {},
     "output_type": "display_data"
    },
    {
     "data": {
      "text/html": [
       "<pre style=\"white-space:pre;overflow-x:auto;line-height:normal;font-family:Menlo,'DejaVu Sans Mono',consolas,'Courier New',monospace\">----------------------------------\n",
       "| rollout/            |          |\n",
       "|    exploration_rate | 0.05     |\n",
       "| time/               |          |\n",
       "|    episodes         | 440      |\n",
       "|    fps              | 207      |\n",
       "|    time_elapsed     | 4        |\n",
       "|    total_timesteps  | 88000    |\n",
       "| train/              |          |\n",
       "|    learning_rate    | 0.001    |\n",
       "|    loss             | 30.4     |\n",
       "|    n_updates        | 21974    |\n",
       "----------------------------------\n",
       "</pre>\n"
      ],
      "text/plain": [
       "----------------------------------\n",
       "| rollout/            |          |\n",
       "|    exploration_rate | 0.05     |\n",
       "| time/               |          |\n",
       "|    episodes         | 440      |\n",
       "|    fps              | 207      |\n",
       "|    time_elapsed     | 4        |\n",
       "|    total_timesteps  | 88000    |\n",
       "| train/              |          |\n",
       "|    learning_rate    | 0.001    |\n",
       "|    loss             | 30.4     |\n",
       "|    n_updates        | 21974    |\n",
       "----------------------------------\n"
      ]
     },
     "metadata": {},
     "output_type": "display_data"
    },
    {
     "data": {
      "text/html": [
       "<pre style=\"white-space:pre;overflow-x:auto;line-height:normal;font-family:Menlo,'DejaVu Sans Mono',consolas,'Courier New',monospace\">Finished training episode 88\n",
       "</pre>\n"
      ],
      "text/plain": [
       "Finished training episode 88\n"
      ]
     },
     "metadata": {},
     "output_type": "display_data"
    },
    {
     "data": {
      "text/html": [
       "<pre style=\"white-space:pre;overflow-x:auto;line-height:normal;font-family:Menlo,'DejaVu Sans Mono',consolas,'Courier New',monospace\">----------------------------------\n",
       "| rollout/            |          |\n",
       "|    exploration_rate | 0.05     |\n",
       "| time/               |          |\n",
       "|    episodes         | 444      |\n",
       "|    fps              | 205      |\n",
       "|    time_elapsed     | 3        |\n",
       "|    total_timesteps  | 88800    |\n",
       "| train/              |          |\n",
       "|    learning_rate    | 0.001    |\n",
       "|    loss             | 33.2     |\n",
       "|    n_updates        | 22174    |\n",
       "----------------------------------\n",
       "</pre>\n"
      ],
      "text/plain": [
       "----------------------------------\n",
       "| rollout/            |          |\n",
       "|    exploration_rate | 0.05     |\n",
       "| time/               |          |\n",
       "|    episodes         | 444      |\n",
       "|    fps              | 205      |\n",
       "|    time_elapsed     | 3        |\n",
       "|    total_timesteps  | 88800    |\n",
       "| train/              |          |\n",
       "|    learning_rate    | 0.001    |\n",
       "|    loss             | 33.2     |\n",
       "|    n_updates        | 22174    |\n",
       "----------------------------------\n"
      ]
     },
     "metadata": {},
     "output_type": "display_data"
    },
    {
     "data": {
      "text/html": [
       "<pre style=\"white-space:pre;overflow-x:auto;line-height:normal;font-family:Menlo,'DejaVu Sans Mono',consolas,'Courier New',monospace\">Finished training episode 89\n",
       "</pre>\n"
      ],
      "text/plain": [
       "Finished training episode 89\n"
      ]
     },
     "metadata": {},
     "output_type": "display_data"
    },
    {
     "data": {
      "text/html": [
       "<pre style=\"white-space:pre;overflow-x:auto;line-height:normal;font-family:Menlo,'DejaVu Sans Mono',consolas,'Courier New',monospace\">----------------------------------\n",
       "| rollout/            |          |\n",
       "|    exploration_rate | 0.05     |\n",
       "| time/               |          |\n",
       "|    episodes         | 448      |\n",
       "|    fps              | 204      |\n",
       "|    time_elapsed     | 2        |\n",
       "|    total_timesteps  | 89600    |\n",
       "| train/              |          |\n",
       "|    learning_rate    | 0.001    |\n",
       "|    loss             | 71.9     |\n",
       "|    n_updates        | 22374    |\n",
       "----------------------------------\n",
       "</pre>\n"
      ],
      "text/plain": [
       "----------------------------------\n",
       "| rollout/            |          |\n",
       "|    exploration_rate | 0.05     |\n",
       "| time/               |          |\n",
       "|    episodes         | 448      |\n",
       "|    fps              | 204      |\n",
       "|    time_elapsed     | 2        |\n",
       "|    total_timesteps  | 89600    |\n",
       "| train/              |          |\n",
       "|    learning_rate    | 0.001    |\n",
       "|    loss             | 71.9     |\n",
       "|    n_updates        | 22374    |\n",
       "----------------------------------\n"
      ]
     },
     "metadata": {},
     "output_type": "display_data"
    },
    {
     "data": {
      "text/html": [
       "<pre style=\"white-space:pre;overflow-x:auto;line-height:normal;font-family:Menlo,'DejaVu Sans Mono',consolas,'Courier New',monospace\">Finished training episode 90\n",
       "</pre>\n"
      ],
      "text/plain": [
       "Finished training episode 90\n"
      ]
     },
     "metadata": {},
     "output_type": "display_data"
    },
    {
     "data": {
      "text/html": [
       "<pre style=\"white-space:pre;overflow-x:auto;line-height:normal;font-family:Menlo,'DejaVu Sans Mono',consolas,'Courier New',monospace\">----------------------------------\n",
       "| rollout/            |          |\n",
       "|    exploration_rate | 0.05     |\n",
       "| time/               |          |\n",
       "|    episodes         | 452      |\n",
       "|    fps              | 205      |\n",
       "|    time_elapsed     | 1        |\n",
       "|    total_timesteps  | 90400    |\n",
       "| train/              |          |\n",
       "|    learning_rate    | 0.001    |\n",
       "|    loss             | 14.3     |\n",
       "|    n_updates        | 22574    |\n",
       "----------------------------------\n",
       "</pre>\n"
      ],
      "text/plain": [
       "----------------------------------\n",
       "| rollout/            |          |\n",
       "|    exploration_rate | 0.05     |\n",
       "| time/               |          |\n",
       "|    episodes         | 452      |\n",
       "|    fps              | 205      |\n",
       "|    time_elapsed     | 1        |\n",
       "|    total_timesteps  | 90400    |\n",
       "| train/              |          |\n",
       "|    learning_rate    | 0.001    |\n",
       "|    loss             | 14.3     |\n",
       "|    n_updates        | 22574    |\n",
       "----------------------------------\n"
      ]
     },
     "metadata": {},
     "output_type": "display_data"
    },
    {
     "data": {
      "text/html": [
       "<pre style=\"white-space:pre;overflow-x:auto;line-height:normal;font-family:Menlo,'DejaVu Sans Mono',consolas,'Courier New',monospace\">Finished training episode 91\n",
       "</pre>\n"
      ],
      "text/plain": [
       "Finished training episode 91\n"
      ]
     },
     "metadata": {},
     "output_type": "display_data"
    },
    {
     "data": {
      "text/html": [
       "<pre style=\"white-space:pre;overflow-x:auto;line-height:normal;font-family:Menlo,'DejaVu Sans Mono',consolas,'Courier New',monospace\">----------------------------------\n",
       "| rollout/            |          |\n",
       "|    exploration_rate | 0.05     |\n",
       "| time/               |          |\n",
       "|    episodes         | 456      |\n",
       "|    fps              | 210      |\n",
       "|    time_elapsed     | 0        |\n",
       "|    total_timesteps  | 91200    |\n",
       "| train/              |          |\n",
       "|    learning_rate    | 0.001    |\n",
       "|    loss             | 34.2     |\n",
       "|    n_updates        | 22774    |\n",
       "----------------------------------\n",
       "</pre>\n"
      ],
      "text/plain": [
       "----------------------------------\n",
       "| rollout/            |          |\n",
       "|    exploration_rate | 0.05     |\n",
       "| time/               |          |\n",
       "|    episodes         | 456      |\n",
       "|    fps              | 210      |\n",
       "|    time_elapsed     | 0        |\n",
       "|    total_timesteps  | 91200    |\n",
       "| train/              |          |\n",
       "|    learning_rate    | 0.001    |\n",
       "|    loss             | 34.2     |\n",
       "|    n_updates        | 22774    |\n",
       "----------------------------------\n"
      ]
     },
     "metadata": {},
     "output_type": "display_data"
    },
    {
     "data": {
      "text/html": [
       "<pre style=\"white-space:pre;overflow-x:auto;line-height:normal;font-family:Menlo,'DejaVu Sans Mono',consolas,'Courier New',monospace\">----------------------------------\n",
       "| rollout/            |          |\n",
       "|    exploration_rate | 0.05     |\n",
       "| time/               |          |\n",
       "|    episodes         | 460      |\n",
       "|    fps              | 206      |\n",
       "|    time_elapsed     | 4        |\n",
       "|    total_timesteps  | 92000    |\n",
       "| train/              |          |\n",
       "|    learning_rate    | 0.001    |\n",
       "|    loss             | 13.6     |\n",
       "|    n_updates        | 22974    |\n",
       "----------------------------------\n",
       "</pre>\n"
      ],
      "text/plain": [
       "----------------------------------\n",
       "| rollout/            |          |\n",
       "|    exploration_rate | 0.05     |\n",
       "| time/               |          |\n",
       "|    episodes         | 460      |\n",
       "|    fps              | 206      |\n",
       "|    time_elapsed     | 4        |\n",
       "|    total_timesteps  | 92000    |\n",
       "| train/              |          |\n",
       "|    learning_rate    | 0.001    |\n",
       "|    loss             | 13.6     |\n",
       "|    n_updates        | 22974    |\n",
       "----------------------------------\n"
      ]
     },
     "metadata": {},
     "output_type": "display_data"
    },
    {
     "data": {
      "text/html": [
       "<pre style=\"white-space:pre;overflow-x:auto;line-height:normal;font-family:Menlo,'DejaVu Sans Mono',consolas,'Courier New',monospace\">Finished training episode 92\n",
       "</pre>\n"
      ],
      "text/plain": [
       "Finished training episode 92\n"
      ]
     },
     "metadata": {},
     "output_type": "display_data"
    },
    {
     "data": {
      "text/html": [
       "<pre style=\"white-space:pre;overflow-x:auto;line-height:normal;font-family:Menlo,'DejaVu Sans Mono',consolas,'Courier New',monospace\">----------------------------------\n",
       "| rollout/            |          |\n",
       "|    exploration_rate | 0.05     |\n",
       "| time/               |          |\n",
       "|    episodes         | 464      |\n",
       "|    fps              | 210      |\n",
       "|    time_elapsed     | 3        |\n",
       "|    total_timesteps  | 92800    |\n",
       "| train/              |          |\n",
       "|    learning_rate    | 0.001    |\n",
       "|    loss             | 10.1     |\n",
       "|    n_updates        | 23174    |\n",
       "----------------------------------\n",
       "</pre>\n"
      ],
      "text/plain": [
       "----------------------------------\n",
       "| rollout/            |          |\n",
       "|    exploration_rate | 0.05     |\n",
       "| time/               |          |\n",
       "|    episodes         | 464      |\n",
       "|    fps              | 210      |\n",
       "|    time_elapsed     | 3        |\n",
       "|    total_timesteps  | 92800    |\n",
       "| train/              |          |\n",
       "|    learning_rate    | 0.001    |\n",
       "|    loss             | 10.1     |\n",
       "|    n_updates        | 23174    |\n",
       "----------------------------------\n"
      ]
     },
     "metadata": {},
     "output_type": "display_data"
    },
    {
     "data": {
      "text/html": [
       "<pre style=\"white-space:pre;overflow-x:auto;line-height:normal;font-family:Menlo,'DejaVu Sans Mono',consolas,'Courier New',monospace\">Finished training episode 93\n",
       "</pre>\n"
      ],
      "text/plain": [
       "Finished training episode 93\n"
      ]
     },
     "metadata": {},
     "output_type": "display_data"
    },
    {
     "data": {
      "text/html": [
       "<pre style=\"white-space:pre;overflow-x:auto;line-height:normal;font-family:Menlo,'DejaVu Sans Mono',consolas,'Courier New',monospace\">----------------------------------\n",
       "| rollout/            |          |\n",
       "|    exploration_rate | 0.05     |\n",
       "| time/               |          |\n",
       "|    episodes         | 468      |\n",
       "|    fps              | 209      |\n",
       "|    time_elapsed     | 2        |\n",
       "|    total_timesteps  | 93600    |\n",
       "| train/              |          |\n",
       "|    learning_rate    | 0.001    |\n",
       "|    loss             | 11       |\n",
       "|    n_updates        | 23374    |\n",
       "----------------------------------\n",
       "</pre>\n"
      ],
      "text/plain": [
       "----------------------------------\n",
       "| rollout/            |          |\n",
       "|    exploration_rate | 0.05     |\n",
       "| time/               |          |\n",
       "|    episodes         | 468      |\n",
       "|    fps              | 209      |\n",
       "|    time_elapsed     | 2        |\n",
       "|    total_timesteps  | 93600    |\n",
       "| train/              |          |\n",
       "|    learning_rate    | 0.001    |\n",
       "|    loss             | 11       |\n",
       "|    n_updates        | 23374    |\n",
       "----------------------------------\n"
      ]
     },
     "metadata": {},
     "output_type": "display_data"
    },
    {
     "data": {
      "text/html": [
       "<pre style=\"white-space:pre;overflow-x:auto;line-height:normal;font-family:Menlo,'DejaVu Sans Mono',consolas,'Courier New',monospace\">Finished training episode 94\n",
       "</pre>\n"
      ],
      "text/plain": [
       "Finished training episode 94\n"
      ]
     },
     "metadata": {},
     "output_type": "display_data"
    },
    {
     "data": {
      "text/html": [
       "<pre style=\"white-space:pre;overflow-x:auto;line-height:normal;font-family:Menlo,'DejaVu Sans Mono',consolas,'Courier New',monospace\">----------------------------------\n",
       "| rollout/            |          |\n",
       "|    exploration_rate | 0.05     |\n",
       "| time/               |          |\n",
       "|    episodes         | 472      |\n",
       "|    fps              | 214      |\n",
       "|    time_elapsed     | 1        |\n",
       "|    total_timesteps  | 94400    |\n",
       "| train/              |          |\n",
       "|    learning_rate    | 0.001    |\n",
       "|    loss             | 10.3     |\n",
       "|    n_updates        | 23574    |\n",
       "----------------------------------\n",
       "</pre>\n"
      ],
      "text/plain": [
       "----------------------------------\n",
       "| rollout/            |          |\n",
       "|    exploration_rate | 0.05     |\n",
       "| time/               |          |\n",
       "|    episodes         | 472      |\n",
       "|    fps              | 214      |\n",
       "|    time_elapsed     | 1        |\n",
       "|    total_timesteps  | 94400    |\n",
       "| train/              |          |\n",
       "|    learning_rate    | 0.001    |\n",
       "|    loss             | 10.3     |\n",
       "|    n_updates        | 23574    |\n",
       "----------------------------------\n"
      ]
     },
     "metadata": {},
     "output_type": "display_data"
    },
    {
     "data": {
      "text/html": [
       "<pre style=\"white-space:pre;overflow-x:auto;line-height:normal;font-family:Menlo,'DejaVu Sans Mono',consolas,'Courier New',monospace\">Finished training episode 95\n",
       "</pre>\n"
      ],
      "text/plain": [
       "Finished training episode 95\n"
      ]
     },
     "metadata": {},
     "output_type": "display_data"
    },
    {
     "data": {
      "text/html": [
       "<pre style=\"white-space:pre;overflow-x:auto;line-height:normal;font-family:Menlo,'DejaVu Sans Mono',consolas,'Courier New',monospace\">----------------------------------\n",
       "| rollout/            |          |\n",
       "|    exploration_rate | 0.05     |\n",
       "| time/               |          |\n",
       "|    episodes         | 480      |\n",
       "|    fps              | 207      |\n",
       "|    time_elapsed     | 4        |\n",
       "|    total_timesteps  | 96000    |\n",
       "| train/              |          |\n",
       "|    learning_rate    | 0.001    |\n",
       "|    loss             | 11.3     |\n",
       "|    n_updates        | 23974    |\n",
       "----------------------------------\n",
       "</pre>\n"
      ],
      "text/plain": [
       "----------------------------------\n",
       "| rollout/            |          |\n",
       "|    exploration_rate | 0.05     |\n",
       "| time/               |          |\n",
       "|    episodes         | 480      |\n",
       "|    fps              | 207      |\n",
       "|    time_elapsed     | 4        |\n",
       "|    total_timesteps  | 96000    |\n",
       "| train/              |          |\n",
       "|    learning_rate    | 0.001    |\n",
       "|    loss             | 11.3     |\n",
       "|    n_updates        | 23974    |\n",
       "----------------------------------\n"
      ]
     },
     "metadata": {},
     "output_type": "display_data"
    },
    {
     "data": {
      "text/html": [
       "<pre style=\"white-space:pre;overflow-x:auto;line-height:normal;font-family:Menlo,'DejaVu Sans Mono',consolas,'Courier New',monospace\">Finished training episode 96\n",
       "</pre>\n"
      ],
      "text/plain": [
       "Finished training episode 96\n"
      ]
     },
     "metadata": {},
     "output_type": "display_data"
    },
    {
     "data": {
      "text/html": [
       "<pre style=\"white-space:pre;overflow-x:auto;line-height:normal;font-family:Menlo,'DejaVu Sans Mono',consolas,'Courier New',monospace\">----------------------------------\n",
       "| rollout/            |          |\n",
       "|    exploration_rate | 0.05     |\n",
       "| time/               |          |\n",
       "|    episodes         | 484      |\n",
       "|    fps              | 207      |\n",
       "|    time_elapsed     | 3        |\n",
       "|    total_timesteps  | 96800    |\n",
       "| train/              |          |\n",
       "|    learning_rate    | 0.001    |\n",
       "|    loss             | 58.7     |\n",
       "|    n_updates        | 24174    |\n",
       "----------------------------------\n",
       "</pre>\n"
      ],
      "text/plain": [
       "----------------------------------\n",
       "| rollout/            |          |\n",
       "|    exploration_rate | 0.05     |\n",
       "| time/               |          |\n",
       "|    episodes         | 484      |\n",
       "|    fps              | 207      |\n",
       "|    time_elapsed     | 3        |\n",
       "|    total_timesteps  | 96800    |\n",
       "| train/              |          |\n",
       "|    learning_rate    | 0.001    |\n",
       "|    loss             | 58.7     |\n",
       "|    n_updates        | 24174    |\n",
       "----------------------------------\n"
      ]
     },
     "metadata": {},
     "output_type": "display_data"
    },
    {
     "data": {
      "text/html": [
       "<pre style=\"white-space:pre;overflow-x:auto;line-height:normal;font-family:Menlo,'DejaVu Sans Mono',consolas,'Courier New',monospace\">Finished training episode 97\n",
       "</pre>\n"
      ],
      "text/plain": [
       "Finished training episode 97\n"
      ]
     },
     "metadata": {},
     "output_type": "display_data"
    },
    {
     "data": {
      "text/html": [
       "<pre style=\"white-space:pre;overflow-x:auto;line-height:normal;font-family:Menlo,'DejaVu Sans Mono',consolas,'Courier New',monospace\">----------------------------------\n",
       "| rollout/            |          |\n",
       "|    exploration_rate | 0.05     |\n",
       "| time/               |          |\n",
       "|    episodes         | 488      |\n",
       "|    fps              | 208      |\n",
       "|    time_elapsed     | 2        |\n",
       "|    total_timesteps  | 97600    |\n",
       "| train/              |          |\n",
       "|    learning_rate    | 0.001    |\n",
       "|    loss             | 32.8     |\n",
       "|    n_updates        | 24374    |\n",
       "----------------------------------\n",
       "</pre>\n"
      ],
      "text/plain": [
       "----------------------------------\n",
       "| rollout/            |          |\n",
       "|    exploration_rate | 0.05     |\n",
       "| time/               |          |\n",
       "|    episodes         | 488      |\n",
       "|    fps              | 208      |\n",
       "|    time_elapsed     | 2        |\n",
       "|    total_timesteps  | 97600    |\n",
       "| train/              |          |\n",
       "|    learning_rate    | 0.001    |\n",
       "|    loss             | 32.8     |\n",
       "|    n_updates        | 24374    |\n",
       "----------------------------------\n"
      ]
     },
     "metadata": {},
     "output_type": "display_data"
    },
    {
     "data": {
      "text/html": [
       "<pre style=\"white-space:pre;overflow-x:auto;line-height:normal;font-family:Menlo,'DejaVu Sans Mono',consolas,'Courier New',monospace\">Finished training episode 98\n",
       "</pre>\n"
      ],
      "text/plain": [
       "Finished training episode 98\n"
      ]
     },
     "metadata": {},
     "output_type": "display_data"
    },
    {
     "data": {
      "text/html": [
       "<pre style=\"white-space:pre;overflow-x:auto;line-height:normal;font-family:Menlo,'DejaVu Sans Mono',consolas,'Courier New',monospace\">----------------------------------\n",
       "| rollout/            |          |\n",
       "|    exploration_rate | 0.05     |\n",
       "| time/               |          |\n",
       "|    episodes         | 492      |\n",
       "|    fps              | 203      |\n",
       "|    time_elapsed     | 1        |\n",
       "|    total_timesteps  | 98400    |\n",
       "| train/              |          |\n",
       "|    learning_rate    | 0.001    |\n",
       "|    loss             | 13.8     |\n",
       "|    n_updates        | 24574    |\n",
       "----------------------------------\n",
       "</pre>\n"
      ],
      "text/plain": [
       "----------------------------------\n",
       "| rollout/            |          |\n",
       "|    exploration_rate | 0.05     |\n",
       "| time/               |          |\n",
       "|    episodes         | 492      |\n",
       "|    fps              | 203      |\n",
       "|    time_elapsed     | 1        |\n",
       "|    total_timesteps  | 98400    |\n",
       "| train/              |          |\n",
       "|    learning_rate    | 0.001    |\n",
       "|    loss             | 13.8     |\n",
       "|    n_updates        | 24574    |\n",
       "----------------------------------\n"
      ]
     },
     "metadata": {},
     "output_type": "display_data"
    },
    {
     "data": {
      "text/html": [
       "<pre style=\"white-space:pre;overflow-x:auto;line-height:normal;font-family:Menlo,'DejaVu Sans Mono',consolas,'Courier New',monospace\">Finished training episode 99\n",
       "</pre>\n"
      ],
      "text/plain": [
       "Finished training episode 99\n"
      ]
     },
     "metadata": {},
     "output_type": "display_data"
    },
    {
     "data": {
      "text/html": [
       "<pre style=\"white-space:pre;overflow-x:auto;line-height:normal;font-family:Menlo,'DejaVu Sans Mono',consolas,'Courier New',monospace\">----------------------------------\n",
       "| rollout/            |          |\n",
       "|    exploration_rate | 0.05     |\n",
       "| time/               |          |\n",
       "|    episodes         | 496      |\n",
       "|    fps              | 205      |\n",
       "|    time_elapsed     | 0        |\n",
       "|    total_timesteps  | 99200    |\n",
       "| train/              |          |\n",
       "|    learning_rate    | 0.001    |\n",
       "|    loss             | 12.3     |\n",
       "|    n_updates        | 24774    |\n",
       "----------------------------------\n",
       "</pre>\n"
      ],
      "text/plain": [
       "----------------------------------\n",
       "| rollout/            |          |\n",
       "|    exploration_rate | 0.05     |\n",
       "| time/               |          |\n",
       "|    episodes         | 496      |\n",
       "|    fps              | 205      |\n",
       "|    time_elapsed     | 0        |\n",
       "|    total_timesteps  | 99200    |\n",
       "| train/              |          |\n",
       "|    learning_rate    | 0.001    |\n",
       "|    loss             | 12.3     |\n",
       "|    n_updates        | 24774    |\n",
       "----------------------------------\n"
      ]
     },
     "metadata": {},
     "output_type": "display_data"
    },
    {
     "data": {
      "text/html": [
       "<pre style=\"white-space:pre;overflow-x:auto;line-height:normal;font-family:Menlo,'DejaVu Sans Mono',consolas,'Courier New',monospace\">----------------------------------\n",
       "| rollout/            |          |\n",
       "|    exploration_rate | 0.05     |\n",
       "| time/               |          |\n",
       "|    episodes         | 500      |\n",
       "|    fps              | 208      |\n",
       "|    time_elapsed     | 4        |\n",
       "|    total_timesteps  | 100000   |\n",
       "| train/              |          |\n",
       "|    learning_rate    | 0.001    |\n",
       "|    loss             | 34.4     |\n",
       "|    n_updates        | 24974    |\n",
       "----------------------------------\n",
       "</pre>\n"
      ],
      "text/plain": [
       "----------------------------------\n",
       "| rollout/            |          |\n",
       "|    exploration_rate | 0.05     |\n",
       "| time/               |          |\n",
       "|    episodes         | 500      |\n",
       "|    fps              | 208      |\n",
       "|    time_elapsed     | 4        |\n",
       "|    total_timesteps  | 100000   |\n",
       "| train/              |          |\n",
       "|    learning_rate    | 0.001    |\n",
       "|    loss             | 34.4     |\n",
       "|    n_updates        | 24974    |\n",
       "----------------------------------\n"
      ]
     },
     "metadata": {},
     "output_type": "display_data"
    },
    {
     "data": {
      "text/html": [
       "<pre style=\"white-space:pre;overflow-x:auto;line-height:normal;font-family:Menlo,'DejaVu Sans Mono',consolas,'Courier New',monospace\">Finished training episode 100\n",
       "</pre>\n"
      ],
      "text/plain": [
       "Finished training episode 100\n"
      ]
     },
     "metadata": {},
     "output_type": "display_data"
    }
   ],
   "source": [
    "from stable_baselines3 import DQN\n",
    "from stable_baselines3.common.vec_env import DummyVecEnv\n",
    "\n",
    "# Create environment\n",
    "env = DummyVecEnv([lambda: CityFlowEnv(\"config/config.json\", intersection_id=\"intersection_1_1\")])\n",
    "\n",
    "model = DQN(\n",
    "    \"MlpPolicy\",\n",
    "    env,\n",
    "    verbose=1,\n",
    "    learning_rate=1e-3,\n",
    "    buffer_size=50000,\n",
    "    batch_size=64\n",
    ")\n",
    "\n",
    "episodes = 100\n",
    "\n",
    "for ep in range(episodes):\n",
    "    model.learn(total_timesteps=1000, reset_num_timesteps=False)\n",
    "    print(f\"Finished training episode {ep+1}\")\n",
    "\n",
    "model.save(\"cityflow_dqn2\")"
   ]
  },
  {
   "cell_type": "code",
   "execution_count": 5,
   "id": "c2d0e30a-4245-447f-887e-d2fddd59ea68",
   "metadata": {},
   "outputs": [],
   "source": [
    "from stable_baselines3 import DQN\n",
    "from stable_baselines3.common.vec_env import DummyVecEnv"
   ]
  },
  {
   "cell_type": "code",
   "execution_count": 6,
   "id": "7b101104-c2c2-4ab8-bf83-d9df9e502b61",
   "metadata": {},
   "outputs": [],
   "source": [
    "def evaluate_dqn(env, model, episodes=5):\n",
    "    results = []\n",
    "    for ep in range(episodes):\n",
    "        obs = env.reset()   # only obs returned in DummyVecEnv\n",
    "        total_reward, steps, total_queue = 0, 0, 0\n",
    "        done = False\n",
    "        while not done:\n",
    "            action, _ = model.predict(obs, deterministic=True)\n",
    "            obs, reward, done, info = env.step(action)\n",
    "\n",
    "            # SB3 VecEnv returns arrays → take first element\n",
    "            reward = reward[0]\n",
    "            done = done[0]\n",
    "\n",
    "            # measure queue\n",
    "            waiting_counts = env.envs[0].eng.get_lane_waiting_vehicle_count()\n",
    "            total_waiting = sum(waiting_counts.values())\n",
    "\n",
    "            total_reward += reward\n",
    "            total_queue += total_waiting\n",
    "            steps += 1\n",
    "\n",
    "        avg_time = env.envs[0].eng.get_average_travel_time()\n",
    "        avg_queue = total_queue / steps\n",
    "        ep_result = {\n",
    "            \"episode\": ep,\n",
    "            \"reward\": total_reward,\n",
    "            \"avg_time\": avg_time,\n",
    "            \"avg_queue\": avg_queue\n",
    "        }\n",
    "        results.append(ep_result)\n",
    "\n",
    "        # ✅ Print each episode result as it finishes\n",
    "        print(f\"Episode {ep}: reward={total_reward:.2f}, avg_time={avg_time:.2f}, avg_queue={avg_queue:.2f}\")\n",
    "\n",
    "    return results"
   ]
  },
  {
   "cell_type": "code",
   "execution_count": 9,
   "id": "46eae4c3-fdad-4245-9419-9e522e1da896",
   "metadata": {},
   "outputs": [],
   "source": [
    "env = DummyVecEnv([lambda: CityFlowEnv(\"config/config.json\", intersection_id=\"intersection_1_1\")])"
   ]
  },
  {
   "cell_type": "code",
   "execution_count": 10,
   "id": "fa32b518-eeff-4eb1-ac58-d06b63824403",
   "metadata": {},
   "outputs": [
    {
     "name": "stdout",
     "output_type": "stream",
     "text": [
      "Episode 0: reward=-15410.00, avg_time=0.00, avg_queue=76.36\n",
      "Episode 1: reward=-15378.00, avg_time=0.00, avg_queue=76.19\n",
      "Episode 2: reward=-14729.00, avg_time=0.00, avg_queue=72.89\n",
      "Episode 3: reward=-15930.00, avg_time=0.00, avg_queue=78.88\n",
      "Episode 4: reward=-14444.00, avg_time=0.00, avg_queue=71.52\n",
      "Episode 5: reward=-14101.00, avg_time=0.00, avg_queue=69.80\n",
      "Episode 6: reward=-14514.00, avg_time=0.00, avg_queue=71.84\n",
      "Episode 7: reward=-15558.00, avg_time=0.00, avg_queue=77.01\n",
      "Episode 8: reward=-17616.00, avg_time=0.00, avg_queue=87.18\n",
      "Episode 9: reward=-13918.00, avg_time=0.00, avg_queue=68.89\n"
     ]
    }
   ],
   "source": [
    "model = DQN.load(\"cityflow_dqn2\", env)\n",
    "dqn_result = evaluate_dqn(env, model, episodes=10)"
   ]
  },
  {
   "cell_type": "code",
   "execution_count": 19,
   "id": "0059e720-5271-48a8-b6d2-b223831ed360",
   "metadata": {},
   "outputs": [
    {
     "data": {
      "text/html": [
       "<pre style=\"white-space:pre;overflow-x:auto;line-height:normal;font-family:Menlo,'DejaVu Sans Mono',consolas,'Courier New',monospace\">Episode 0: reward=-15760.00, avg_time=0.00, avg_queue=78.08\n",
       "</pre>\n"
      ],
      "text/plain": [
       "Episode 0: reward=-15760.00, avg_time=0.00, avg_queue=78.08\n"
      ]
     },
     "metadata": {},
     "output_type": "display_data"
    },
    {
     "data": {
      "text/html": [
       "<pre style=\"white-space:pre;overflow-x:auto;line-height:normal;font-family:Menlo,'DejaVu Sans Mono',consolas,'Courier New',monospace\">Episode 1: reward=-19277.00, avg_time=0.00, avg_queue=95.55\n",
       "</pre>\n"
      ],
      "text/plain": [
       "Episode 1: reward=-19277.00, avg_time=0.00, avg_queue=95.55\n"
      ]
     },
     "metadata": {},
     "output_type": "display_data"
    },
    {
     "data": {
      "text/html": [
       "<pre style=\"white-space:pre;overflow-x:auto;line-height:normal;font-family:Menlo,'DejaVu Sans Mono',consolas,'Courier New',monospace\">Episode 2: reward=-17674.00, avg_time=0.00, avg_queue=87.54\n",
       "</pre>\n"
      ],
      "text/plain": [
       "Episode 2: reward=-17674.00, avg_time=0.00, avg_queue=87.54\n"
      ]
     },
     "metadata": {},
     "output_type": "display_data"
    },
    {
     "data": {
      "text/html": [
       "<pre style=\"white-space:pre;overflow-x:auto;line-height:normal;font-family:Menlo,'DejaVu Sans Mono',consolas,'Courier New',monospace\">Episode 3: reward=-14402.00, avg_time=0.00, avg_queue=71.36\n",
       "</pre>\n"
      ],
      "text/plain": [
       "Episode 3: reward=-14402.00, avg_time=0.00, avg_queue=71.36\n"
      ]
     },
     "metadata": {},
     "output_type": "display_data"
    },
    {
     "data": {
      "text/html": [
       "<pre style=\"white-space:pre;overflow-x:auto;line-height:normal;font-family:Menlo,'DejaVu Sans Mono',consolas,'Courier New',monospace\">Episode 4: reward=-15802.00, avg_time=0.00, avg_queue=78.30\n",
       "</pre>\n"
      ],
      "text/plain": [
       "Episode 4: reward=-15802.00, avg_time=0.00, avg_queue=78.30\n"
      ]
     },
     "metadata": {},
     "output_type": "display_data"
    }
   ],
   "source": [
    "model = DQN.load(\"cityflow_dqn3\", env)\n",
    "dqn_result = evaluate_dqn(env,model,episodes=5)"
   ]
  },
  {
   "cell_type": "code",
   "execution_count": null,
   "id": "13c330ce-7435-4523-a9ca-be485a04336c",
   "metadata": {},
   "outputs": [],
   "source": []
  }
 ],
 "metadata": {
  "kernelspec": {
   "display_name": "Python 3 (ipykernel)",
   "language": "python",
   "name": "python3"
  },
  "language_info": {
   "codemirror_mode": {
    "name": "ipython",
    "version": 3
   },
   "file_extension": ".py",
   "mimetype": "text/x-python",
   "name": "python",
   "nbconvert_exporter": "python",
   "pygments_lexer": "ipython3",
   "version": "3.12.3"
  }
 },
 "nbformat": 4,
 "nbformat_minor": 5
}
